{
 "cells": [
  {
   "cell_type": "markdown",
   "metadata": {},
   "source": [
    "**Feature Set**\n",
    "\n",
    "The training set contains the following 3 features (for Supervised Learning)\n",
    "1. qid - unique question identifier\n",
    "2. question_text - Quora question text\n",
    "3. target - a question labeled \"insincere\" has a value of 1, otherwise 0"
   ]
  },
  {
   "cell_type": "code",
   "execution_count": 48,
   "metadata": {},
   "outputs": [],
   "source": [
    "# all import statements\n",
    "from sklearn.model_selection import train_test_split\n",
    "from sklearn.metrics import classification_report\n",
    "from sklearn.metrics import confusion_matrix\n",
    "from sklearn.metrics import accuracy_score\n",
    "#from wordcloud import WordCloud as wc   # not needed\n",
    "from nltk.corpus import stopwords\n",
    "import matplotlib.pylab as pylab\n",
    "import matplotlib.pyplot as plt\n",
    "from pandas import get_dummies\n",
    "import matplotlib as mpl\n",
    "import seaborn as sns\n",
    "import pandas as pd\n",
    "import numpy as np\n",
    "import matplotlib\n",
    "import warnings\n",
    "import sklearn\n",
    "import string\n",
    "import scipy\n",
    "import numpy\n",
    "import nltk\n",
    "import json\n",
    "import sys\n",
    "import csv\n",
    "import os"
   ]
  },
  {
   "cell_type": "markdown",
   "metadata": {},
   "source": [
    "# EDA \n"
   ]
  },
  {
   "cell_type": "code",
   "execution_count": 49,
   "metadata": {},
   "outputs": [],
   "source": [
    "# I start Collection Data by reading training and testing datasets \n",
    "# into Pandas DataFrames.\n",
    "\n",
    "train = pd.read_csv('train.csv')\n",
    "test = pd.read_csv('test.csv')"
   ]
  },
  {
   "cell_type": "code",
   "execution_count": 50,
   "metadata": {},
   "outputs": [
    {
     "data": {
      "text/html": [
       "<div>\n",
       "<style scoped>\n",
       "    .dataframe tbody tr th:only-of-type {\n",
       "        vertical-align: middle;\n",
       "    }\n",
       "\n",
       "    .dataframe tbody tr th {\n",
       "        vertical-align: top;\n",
       "    }\n",
       "\n",
       "    .dataframe thead th {\n",
       "        text-align: right;\n",
       "    }\n",
       "</style>\n",
       "<table border=\"1\" class=\"dataframe\">\n",
       "  <thead>\n",
       "    <tr style=\"text-align: right;\">\n",
       "      <th></th>\n",
       "      <th>qid</th>\n",
       "      <th>question_text</th>\n",
       "      <th>target</th>\n",
       "    </tr>\n",
       "  </thead>\n",
       "  <tbody>\n",
       "    <tr>\n",
       "      <th>0</th>\n",
       "      <td>00002165364db923c7e6</td>\n",
       "      <td>How did Quebec nationalists see their province...</td>\n",
       "      <td>0</td>\n",
       "    </tr>\n",
       "    <tr>\n",
       "      <th>1</th>\n",
       "      <td>000032939017120e6e44</td>\n",
       "      <td>Do you have an adopted dog, how would you enco...</td>\n",
       "      <td>0</td>\n",
       "    </tr>\n",
       "    <tr>\n",
       "      <th>2</th>\n",
       "      <td>0000412ca6e4628ce2cf</td>\n",
       "      <td>Why does velocity affect time? Does velocity a...</td>\n",
       "      <td>0</td>\n",
       "    </tr>\n",
       "    <tr>\n",
       "      <th>3</th>\n",
       "      <td>000042bf85aa498cd78e</td>\n",
       "      <td>How did Otto von Guericke used the Magdeburg h...</td>\n",
       "      <td>0</td>\n",
       "    </tr>\n",
       "    <tr>\n",
       "      <th>4</th>\n",
       "      <td>0000455dfa3e01eae3af</td>\n",
       "      <td>Can I convert montra helicon D to a mountain b...</td>\n",
       "      <td>0</td>\n",
       "    </tr>\n",
       "  </tbody>\n",
       "</table>\n",
       "</div>"
      ],
      "text/plain": [
       "                    qid                                      question_text  \\\n",
       "0  00002165364db923c7e6  How did Quebec nationalists see their province...   \n",
       "1  000032939017120e6e44  Do you have an adopted dog, how would you enco...   \n",
       "2  0000412ca6e4628ce2cf  Why does velocity affect time? Does velocity a...   \n",
       "3  000042bf85aa498cd78e  How did Otto von Guericke used the Magdeburg h...   \n",
       "4  0000455dfa3e01eae3af  Can I convert montra helicon D to a mountain b...   \n",
       "\n",
       "   target  \n",
       "0       0  \n",
       "1       0  \n",
       "2       0  \n",
       "3       0  \n",
       "4       0  "
      ]
     },
     "execution_count": 50,
     "metadata": {},
     "output_type": "execute_result"
    }
   ],
   "source": [
    "# check top 5 records of training dataset\n",
    "train.head() "
   ]
  },
  {
   "cell_type": "code",
   "execution_count": 51,
   "metadata": {},
   "outputs": [
    {
     "data": {
      "text/html": [
       "<div>\n",
       "<style scoped>\n",
       "    .dataframe tbody tr th:only-of-type {\n",
       "        vertical-align: middle;\n",
       "    }\n",
       "\n",
       "    .dataframe tbody tr th {\n",
       "        vertical-align: top;\n",
       "    }\n",
       "\n",
       "    .dataframe thead th {\n",
       "        text-align: right;\n",
       "    }\n",
       "</style>\n",
       "<table border=\"1\" class=\"dataframe\">\n",
       "  <thead>\n",
       "    <tr style=\"text-align: right;\">\n",
       "      <th></th>\n",
       "      <th>qid</th>\n",
       "      <th>question_text</th>\n",
       "    </tr>\n",
       "  </thead>\n",
       "  <tbody>\n",
       "    <tr>\n",
       "      <th>0</th>\n",
       "      <td>0000163e3ea7c7a74cd7</td>\n",
       "      <td>Why do so many women become so rude and arroga...</td>\n",
       "    </tr>\n",
       "    <tr>\n",
       "      <th>1</th>\n",
       "      <td>00002bd4fb5d505b9161</td>\n",
       "      <td>When should I apply for RV college of engineer...</td>\n",
       "    </tr>\n",
       "    <tr>\n",
       "      <th>2</th>\n",
       "      <td>00007756b4a147d2b0b3</td>\n",
       "      <td>What is it really like to be a nurse practitio...</td>\n",
       "    </tr>\n",
       "    <tr>\n",
       "      <th>3</th>\n",
       "      <td>000086e4b7e1c7146103</td>\n",
       "      <td>Who are entrepreneurs?</td>\n",
       "    </tr>\n",
       "    <tr>\n",
       "      <th>4</th>\n",
       "      <td>0000c4c3fbe8785a3090</td>\n",
       "      <td>Is education really making good people nowadays?</td>\n",
       "    </tr>\n",
       "  </tbody>\n",
       "</table>\n",
       "</div>"
      ],
      "text/plain": [
       "                    qid                                      question_text\n",
       "0  0000163e3ea7c7a74cd7  Why do so many women become so rude and arroga...\n",
       "1  00002bd4fb5d505b9161  When should I apply for RV college of engineer...\n",
       "2  00007756b4a147d2b0b3  What is it really like to be a nurse practitio...\n",
       "3  000086e4b7e1c7146103                             Who are entrepreneurs?\n",
       "4  0000c4c3fbe8785a3090   Is education really making good people nowadays?"
      ]
     },
     "execution_count": 51,
     "metadata": {},
     "output_type": "execute_result"
    }
   ],
   "source": [
    "# check top 5 records of testing dataset\n",
    "test.head() "
   ]
  },
  {
   "cell_type": "code",
   "execution_count": 52,
   "metadata": {},
   "outputs": [
    {
     "name": "stdout",
     "output_type": "stream",
     "text": [
      "<class 'pandas.core.frame.DataFrame'>\n",
      "RangeIndex: 1306122 entries, 0 to 1306121\n",
      "Data columns (total 3 columns):\n",
      " #   Column         Non-Null Count    Dtype \n",
      "---  ------         --------------    ----- \n",
      " 0   qid            1306122 non-null  object\n",
      " 1   question_text  1306122 non-null  object\n",
      " 2   target         1306122 non-null  int64 \n",
      "dtypes: int64(1), object(2)\n",
      "memory usage: 29.9+ MB\n",
      "None\n"
     ]
    }
   ],
   "source": [
    "# type of features in Quora dataset\n",
    "\n",
    "print(train.info())"
   ]
  },
  {
   "cell_type": "code",
   "execution_count": 53,
   "metadata": {
    "scrolled": true
   },
   "outputs": [
    {
     "name": "stdout",
     "output_type": "stream",
     "text": [
      "<class 'pandas.core.frame.DataFrame'>\n",
      "RangeIndex: 375806 entries, 0 to 375805\n",
      "Data columns (total 2 columns):\n",
      " #   Column         Non-Null Count   Dtype \n",
      "---  ------         --------------   ----- \n",
      " 0   qid            375806 non-null  object\n",
      " 1   question_text  375806 non-null  object\n",
      "dtypes: object(2)\n",
      "memory usage: 5.7+ MB\n",
      "None\n"
     ]
    }
   ],
   "source": [
    "print(test.info())  "
   ]
  },
  {
   "cell_type": "code",
   "execution_count": 54,
   "metadata": {},
   "outputs": [
    {
     "name": "stdout",
     "output_type": "stream",
     "text": [
      "Shape of train: (1306122, 3)\n",
      "Shape of test: (375806, 2)\n"
     ]
    }
   ],
   "source": [
    "# shape for train and test\n",
    "print('Shape of train:',train.shape)\n",
    "print('Shape of test:',test.shape)"
   ]
  },
  {
   "cell_type": "markdown",
   "metadata": {},
   "source": [
    "# Data Cleaning"
   ]
  },
  {
   "cell_type": "code",
   "execution_count": 55,
   "metadata": {},
   "outputs": [
    {
     "data": {
      "text/plain": [
       "qid              0\n",
       "question_text    0\n",
       "target           0\n",
       "dtype: int64"
      ]
     },
     "execution_count": 55,
     "metadata": {},
     "output_type": "execute_result"
    }
   ],
   "source": [
    "# cool, No NA values\n",
    "\n",
    "train.isnull().sum()\n"
   ]
  },
  {
   "cell_type": "code",
   "execution_count": 56,
   "metadata": {},
   "outputs": [
    {
     "name": "stdout",
     "output_type": "stream",
     "text": [
      "Before Droping (1306122, 3)\n",
      "After Droping (1306122, 3)\n"
     ]
    }
   ],
   "source": [
    "# in case , their were NA or None values in any row then we would drop the row.\n",
    "\n",
    "# remove rows that have NA's\n",
    "print('Before Droping',train.shape)\n",
    "train = train.dropna()\n",
    "print('After Droping',train.shape)"
   ]
  },
  {
   "cell_type": "code",
   "execution_count": 57,
   "metadata": {
    "scrolled": true
   },
   "outputs": [
    {
     "name": "stdout",
     "output_type": "stream",
     "text": [
      "max words in train 134\n",
      "min words in train 1\n",
      "max words in test 87\n",
      "min words in train 1\n"
     ]
    }
   ],
   "source": [
    "# Number of words in the text\n",
    "\n",
    "train[\"num_words\"] = train[\"question_text\"].apply(lambda x: len(str(x).split()))\n",
    "test[\"num_words\"] = test[\"question_text\"].apply(lambda x: len(str(x).split()))\n",
    "print('max words in train',train[\"num_words\"].max())\n",
    "print('min words in train',train[\"num_words\"].min())\n",
    "print(\"max words in test\",test[\"num_words\"].max())\n",
    "print('min words in train',test[\"num_words\"].min())"
   ]
  },
  {
   "cell_type": "code",
   "execution_count": 58,
   "metadata": {},
   "outputs": [
    {
     "name": "stdout",
     "output_type": "stream",
     "text": [
      "maxi unique_words in train 96\n",
      "max unique_words in test 61\n"
     ]
    }
   ],
   "source": [
    "# Number of unique words\n",
    "\n",
    "train[\"num_unique_words\"] = train[\"question_text\"].apply(lambda x: len(set(str(x).split())))\n",
    "test[\"num_unique_words\"] = test[\"question_text\"].apply(lambda x: len(set(str(x).split())))\n",
    "\n",
    "print('maxi unique_words in train',train[\"num_unique_words\"].max())\n",
    "\n",
    "print(\"max unique_words in test\",test[\"num_unique_words\"].max())\n"
   ]
  },
  {
   "cell_type": "code",
   "execution_count": 59,
   "metadata": {},
   "outputs": [
    {
     "name": "stdout",
     "output_type": "stream",
     "text": [
      "maximum of num_stopwords in train 56\n",
      "maximum of num_stopwords in test 47\n"
     ]
    }
   ],
   "source": [
    "# Number of stopwords in the text\n",
    "\n",
    "#from nltk.corpus import stopwords\n",
    "eng_stopwords = set(stopwords.words(\"english\"))\n",
    "\n",
    "train[\"num_stopwords\"] = train[\"question_text\"].apply(lambda x: len([w for w in str(x).lower().split() if w in eng_stopwords]))\n",
    "test[\"num_stopwords\"] = test[\"question_text\"].apply(lambda x: len([w for w in str(x).lower().split() if w in eng_stopwords]))\n",
    "\n",
    "train[\"num_punctuations\"] =train['question_text'].apply(lambda x: len([c for c in str(x) if c in string.punctuation]) )\n",
    "test[\"num_punctuations\"] =test['question_text'].apply(lambda x: len([c for c in str(x) if c in string.punctuation]) )\n",
    "\n",
    "print('maximum of num_stopwords in train',train[\"num_stopwords\"].max())\n",
    "print(\"maximum of num_stopwords in test\",test[\"num_stopwords\"].max())\n"
   ]
  },
  {
   "cell_type": "code",
   "execution_count": 60,
   "metadata": {},
   "outputs": [
    {
     "name": "stdout",
     "output_type": "stream",
     "text": [
      "maximum of num_punctuations in train 411\n",
      "maximum of num_punctuations in test 505\n"
     ]
    }
   ],
   "source": [
    "# Number of punctuations in the text ( from string.punctuation)\n",
    "\n",
    "train[\"num_punctuations\"] =train['question_text'].apply(lambda x: len([c for c in str(x) if c in string.punctuation]) )\n",
    "test[\"num_punctuations\"] =test['question_text'].apply(lambda x: len([c for c in str(x) if c in string.punctuation]) )\n",
    "print('maximum of num_punctuations in train',train[\"num_punctuations\"].max())\n",
    "print(\"maximum of num_punctuations in test\",test[\"num_punctuations\"].max())"
   ]
  },
  {
   "cell_type": "code",
   "execution_count": 61,
   "metadata": {},
   "outputs": [
    {
     "data": {
      "text/plain": [
       "array([0, 1], dtype=int64)"
      ]
     },
     "execution_count": 61,
     "metadata": {},
     "output_type": "execute_result"
    }
   ],
   "source": [
    "# You see number of unique item for Target with command below:\n",
    "train_target = train['target'].values\n",
    "\n",
    "np.unique(train_target)\n"
   ]
  },
  {
   "cell_type": "markdown",
   "metadata": {},
   "source": [
    "# data imbalance"
   ]
  },
  {
   "cell_type": "code",
   "execution_count": 62,
   "metadata": {
    "scrolled": true
   },
   "outputs": [
    {
     "data": {
      "text/plain": [
       "qid                 80810\n",
       "question_text       80810\n",
       "target              80810\n",
       "num_words           80810\n",
       "num_unique_words    80810\n",
       "num_stopwords       80810\n",
       "num_punctuations    80810\n",
       "dtype: int64"
      ]
     },
     "execution_count": 62,
     "metadata": {},
     "output_type": "execute_result"
    }
   ],
   "source": [
    "#train.where(train ['target']==1).count()\n",
    "train[train.target==1].count()"
   ]
  },
  {
   "cell_type": "code",
   "execution_count": 121,
   "metadata": {},
   "outputs": [
    {
     "data": {
      "text/plain": [
       "1225312"
      ]
     },
     "execution_count": 121,
     "metadata": {},
     "output_type": "execute_result"
    }
   ],
   "source": [
    "1306122- 80810"
   ]
  },
  {
   "cell_type": "code",
   "execution_count": 63,
   "metadata": {},
   "outputs": [],
   "source": [
    "train.where?"
   ]
  },
  {
   "cell_type": "code",
   "execution_count": 64,
   "metadata": {},
   "outputs": [
    {
     "data": {
      "text/plain": [
       "(1306122, 7)"
      ]
     },
     "execution_count": 64,
     "metadata": {},
     "output_type": "execute_result"
    }
   ],
   "source": [
    "train.shape"
   ]
  },
  {
   "cell_type": "code",
   "execution_count": 65,
   "metadata": {},
   "outputs": [
    {
     "name": "stdout",
     "output_type": "stream",
     "text": [
      "% of un-sincere qns is  0.06187017751787352\n"
     ]
    }
   ],
   "source": [
    "print(\"% of un-sincere qns is \", 80810/1306122)"
   ]
  },
  {
   "cell_type": "code",
   "execution_count": 142,
   "metadata": {},
   "outputs": [
    {
     "data": {
      "image/png": "[encoded data removed]",
      "text/plain": [
       "<Figure size 432x288 with 1 Axes>"
      ]
     },
     "metadata": {
      "needs_background": "light"
     },
     "output_type": "display_data"
    }
   ],
   "source": [
    "# plot imbalanced data\n",
    "\n",
    "ax=sns.countplot(x='target', data=train  ,linewidth=5)\n",
    "plt.title('imbalance data?');"
   ]
  },
  {
   "cell_type": "markdown",
   "metadata": {},
   "source": [
    "Data Preprocessing\n",
    "----"
   ]
  },
  {
   "cell_type": "markdown",
   "metadata": {},
   "source": [
    "1. Change all the text to lower case\n",
    "\n",
    "2. Word Tokenization\n",
    "\n",
    "3. Remove Stop words\n",
    "\n",
    "4. Remove Non-alpha text\n",
    "\n",
    "5. Word Lemmatization\n",
    "\n",
    "6. Converting the text data into Numeric vectors( called Vectorization )"
   ]
  },
  {
   "cell_type": "code",
   "execution_count": 67,
   "metadata": {},
   "outputs": [
    {
     "data": {
      "text/html": [
       "<div>\n",
       "<style scoped>\n",
       "    .dataframe tbody tr th:only-of-type {\n",
       "        vertical-align: middle;\n",
       "    }\n",
       "\n",
       "    .dataframe tbody tr th {\n",
       "        vertical-align: top;\n",
       "    }\n",
       "\n",
       "    .dataframe thead th {\n",
       "        text-align: right;\n",
       "    }\n",
       "</style>\n",
       "<table border=\"1\" class=\"dataframe\">\n",
       "  <thead>\n",
       "    <tr style=\"text-align: right;\">\n",
       "      <th></th>\n",
       "      <th>qid</th>\n",
       "      <th>question_text</th>\n",
       "      <th>target</th>\n",
       "      <th>num_words</th>\n",
       "      <th>num_unique_words</th>\n",
       "      <th>num_stopwords</th>\n",
       "      <th>num_punctuations</th>\n",
       "    </tr>\n",
       "  </thead>\n",
       "  <tbody>\n",
       "    <tr>\n",
       "      <th>0</th>\n",
       "      <td>00002165364db923c7e6</td>\n",
       "      <td>how did quebec nationalists see their province...</td>\n",
       "      <td>0</td>\n",
       "      <td>13</td>\n",
       "      <td>13</td>\n",
       "      <td>7</td>\n",
       "      <td>1</td>\n",
       "    </tr>\n",
       "    <tr>\n",
       "      <th>1</th>\n",
       "      <td>000032939017120e6e44</td>\n",
       "      <td>do you have an adopted dog, how would you enco...</td>\n",
       "      <td>0</td>\n",
       "      <td>16</td>\n",
       "      <td>15</td>\n",
       "      <td>9</td>\n",
       "      <td>2</td>\n",
       "    </tr>\n",
       "    <tr>\n",
       "      <th>2</th>\n",
       "      <td>0000412ca6e4628ce2cf</td>\n",
       "      <td>why does velocity affect time? does velocity a...</td>\n",
       "      <td>0</td>\n",
       "      <td>10</td>\n",
       "      <td>8</td>\n",
       "      <td>3</td>\n",
       "      <td>2</td>\n",
       "    </tr>\n",
       "    <tr>\n",
       "      <th>3</th>\n",
       "      <td>000042bf85aa498cd78e</td>\n",
       "      <td>how did otto von guericke used the magdeburg h...</td>\n",
       "      <td>0</td>\n",
       "      <td>9</td>\n",
       "      <td>9</td>\n",
       "      <td>3</td>\n",
       "      <td>1</td>\n",
       "    </tr>\n",
       "    <tr>\n",
       "      <th>4</th>\n",
       "      <td>0000455dfa3e01eae3af</td>\n",
       "      <td>can i convert montra helicon d to a mountain b...</td>\n",
       "      <td>0</td>\n",
       "      <td>15</td>\n",
       "      <td>15</td>\n",
       "      <td>8</td>\n",
       "      <td>1</td>\n",
       "    </tr>\n",
       "  </tbody>\n",
       "</table>\n",
       "</div>"
      ],
      "text/plain": [
       "                    qid                                      question_text  \\\n",
       "0  00002165364db923c7e6  how did quebec nationalists see their province...   \n",
       "1  000032939017120e6e44  do you have an adopted dog, how would you enco...   \n",
       "2  0000412ca6e4628ce2cf  why does velocity affect time? does velocity a...   \n",
       "3  000042bf85aa498cd78e  how did otto von guericke used the magdeburg h...   \n",
       "4  0000455dfa3e01eae3af  can i convert montra helicon d to a mountain b...   \n",
       "\n",
       "   target  num_words  num_unique_words  num_stopwords  num_punctuations  \n",
       "0       0         13                13              7                 1  \n",
       "1       0         16                15              9                 2  \n",
       "2       0         10                 8              3                 2  \n",
       "3       0          9                 9              3                 1  \n",
       "4       0         15                15              8                 1  "
      ]
     },
     "execution_count": 67,
     "metadata": {},
     "output_type": "execute_result"
    }
   ],
   "source": [
    "# step 1: Change all the text to lower case. \n",
    "\n",
    "\n",
    "train['question_text'] = [entry.lower() for entry in train['question_text']]\n",
    "\n",
    "test['question_text'] = [entry.lower() for entry in test['question_text']]\n",
    "\n",
    "train.head()"
   ]
  },
  {
   "cell_type": "code",
   "execution_count": 72,
   "metadata": {},
   "outputs": [],
   "source": [
    "# more imports for NLP\n",
    "from nltk.tokenize import word_tokenize\n",
    "from nltk import pos_tag\n",
    "from nltk.corpus import stopwords\n",
    "from nltk.stem import WordNetLemmatizer\n",
    "from sklearn.preprocessing import LabelEncoder\n",
    "from collections import defaultdict\n",
    "from nltk.corpus import wordnet as wn\n",
    "from sklearn.feature_extraction.text import TfidfVectorizer\n",
    "from sklearn import model_selection, naive_bayes, svm\n",
    "from sklearn.metrics import accuracy_score"
   ]
  },
  {
   "cell_type": "code",
   "execution_count": 74,
   "metadata": {},
   "outputs": [
    {
     "name": "stdout",
     "output_type": "stream",
     "text": [
      "showing info https://raw.githubusercontent.com/nltk/nltk_data/gh-pages/index.xml\n"
     ]
    },
    {
     "data": {
      "text/plain": [
       "True"
      ]
     },
     "execution_count": 74,
     "metadata": {},
     "output_type": "execute_result"
    }
   ],
   "source": [
    "nltk.download()"
   ]
  },
  {
   "cell_type": "code",
   "execution_count": 122,
   "metadata": {},
   "outputs": [],
   "source": [
    "# trainbackup=train.copy()\n",
    "# testbackup=test.copy()\n",
    "# trainbackup.shape\n",
    "\n",
    "train = trainbackup.copy()\n",
    "test = testbackup.copy()"
   ]
  },
  {
   "cell_type": "code",
   "execution_count": 123,
   "metadata": {},
   "outputs": [],
   "source": [
    "train= train.head(10000)\n",
    "test= test.head(10000)"
   ]
  },
  {
   "cell_type": "code",
   "execution_count": 125,
   "metadata": {},
   "outputs": [
    {
     "data": {
      "text/html": [
       "<div>\n",
       "<style scoped>\n",
       "    .dataframe tbody tr th:only-of-type {\n",
       "        vertical-align: middle;\n",
       "    }\n",
       "\n",
       "    .dataframe tbody tr th {\n",
       "        vertical-align: top;\n",
       "    }\n",
       "\n",
       "    .dataframe thead th {\n",
       "        text-align: right;\n",
       "    }\n",
       "</style>\n",
       "<table border=\"1\" class=\"dataframe\">\n",
       "  <thead>\n",
       "    <tr style=\"text-align: right;\">\n",
       "      <th></th>\n",
       "      <th>qid</th>\n",
       "      <th>question_text</th>\n",
       "      <th>target</th>\n",
       "      <th>num_words</th>\n",
       "      <th>num_unique_words</th>\n",
       "      <th>num_stopwords</th>\n",
       "      <th>num_punctuations</th>\n",
       "    </tr>\n",
       "  </thead>\n",
       "  <tbody>\n",
       "    <tr>\n",
       "      <th>0</th>\n",
       "      <td>00002165364db923c7e6</td>\n",
       "      <td>how did quebec nationalists see their province...</td>\n",
       "      <td>0</td>\n",
       "      <td>13</td>\n",
       "      <td>13</td>\n",
       "      <td>7</td>\n",
       "      <td>1</td>\n",
       "    </tr>\n",
       "    <tr>\n",
       "      <th>1</th>\n",
       "      <td>000032939017120e6e44</td>\n",
       "      <td>do you have an adopted dog, how would you enco...</td>\n",
       "      <td>0</td>\n",
       "      <td>16</td>\n",
       "      <td>15</td>\n",
       "      <td>9</td>\n",
       "      <td>2</td>\n",
       "    </tr>\n",
       "    <tr>\n",
       "      <th>2</th>\n",
       "      <td>0000412ca6e4628ce2cf</td>\n",
       "      <td>why does velocity affect time? does velocity a...</td>\n",
       "      <td>0</td>\n",
       "      <td>10</td>\n",
       "      <td>8</td>\n",
       "      <td>3</td>\n",
       "      <td>2</td>\n",
       "    </tr>\n",
       "    <tr>\n",
       "      <th>3</th>\n",
       "      <td>000042bf85aa498cd78e</td>\n",
       "      <td>how did otto von guericke used the magdeburg h...</td>\n",
       "      <td>0</td>\n",
       "      <td>9</td>\n",
       "      <td>9</td>\n",
       "      <td>3</td>\n",
       "      <td>1</td>\n",
       "    </tr>\n",
       "    <tr>\n",
       "      <th>4</th>\n",
       "      <td>0000455dfa3e01eae3af</td>\n",
       "      <td>can i convert montra helicon d to a mountain b...</td>\n",
       "      <td>0</td>\n",
       "      <td>15</td>\n",
       "      <td>15</td>\n",
       "      <td>8</td>\n",
       "      <td>1</td>\n",
       "    </tr>\n",
       "  </tbody>\n",
       "</table>\n",
       "</div>"
      ],
      "text/plain": [
       "                    qid                                      question_text  \\\n",
       "0  00002165364db923c7e6  how did quebec nationalists see their province...   \n",
       "1  000032939017120e6e44  do you have an adopted dog, how would you enco...   \n",
       "2  0000412ca6e4628ce2cf  why does velocity affect time? does velocity a...   \n",
       "3  000042bf85aa498cd78e  how did otto von guericke used the magdeburg h...   \n",
       "4  0000455dfa3e01eae3af  can i convert montra helicon d to a mountain b...   \n",
       "\n",
       "   target  num_words  num_unique_words  num_stopwords  num_punctuations  \n",
       "0       0         13                13              7                 1  \n",
       "1       0         16                15              9                 2  \n",
       "2       0         10                 8              3                 2  \n",
       "3       0          9                 9              3                 1  \n",
       "4       0         15                15              8                 1  "
      ]
     },
     "execution_count": 125,
     "metadata": {},
     "output_type": "execute_result"
    }
   ],
   "source": [
    "train.head()"
   ]
  },
  {
   "cell_type": "code",
   "execution_count": 126,
   "metadata": {},
   "outputs": [
    {
     "data": {
      "text/html": [
       "<div>\n",
       "<style scoped>\n",
       "    .dataframe tbody tr th:only-of-type {\n",
       "        vertical-align: middle;\n",
       "    }\n",
       "\n",
       "    .dataframe tbody tr th {\n",
       "        vertical-align: top;\n",
       "    }\n",
       "\n",
       "    .dataframe thead th {\n",
       "        text-align: right;\n",
       "    }\n",
       "</style>\n",
       "<table border=\"1\" class=\"dataframe\">\n",
       "  <thead>\n",
       "    <tr style=\"text-align: right;\">\n",
       "      <th></th>\n",
       "      <th>qid</th>\n",
       "      <th>question_text</th>\n",
       "      <th>target</th>\n",
       "      <th>num_words</th>\n",
       "      <th>num_unique_words</th>\n",
       "      <th>num_stopwords</th>\n",
       "      <th>num_punctuations</th>\n",
       "    </tr>\n",
       "  </thead>\n",
       "  <tbody>\n",
       "    <tr>\n",
       "      <th>0</th>\n",
       "      <td>00002165364db923c7e6</td>\n",
       "      <td>[how, did, quebec, nationalists, see, their, p...</td>\n",
       "      <td>0</td>\n",
       "      <td>13</td>\n",
       "      <td>13</td>\n",
       "      <td>7</td>\n",
       "      <td>1</td>\n",
       "    </tr>\n",
       "    <tr>\n",
       "      <th>1</th>\n",
       "      <td>000032939017120e6e44</td>\n",
       "      <td>[do, you, have, an, adopted, dog, ,, how, woul...</td>\n",
       "      <td>0</td>\n",
       "      <td>16</td>\n",
       "      <td>15</td>\n",
       "      <td>9</td>\n",
       "      <td>2</td>\n",
       "    </tr>\n",
       "    <tr>\n",
       "      <th>2</th>\n",
       "      <td>0000412ca6e4628ce2cf</td>\n",
       "      <td>[why, does, velocity, affect, time, ?, does, v...</td>\n",
       "      <td>0</td>\n",
       "      <td>10</td>\n",
       "      <td>8</td>\n",
       "      <td>3</td>\n",
       "      <td>2</td>\n",
       "    </tr>\n",
       "    <tr>\n",
       "      <th>3</th>\n",
       "      <td>000042bf85aa498cd78e</td>\n",
       "      <td>[how, did, otto, von, guericke, used, the, mag...</td>\n",
       "      <td>0</td>\n",
       "      <td>9</td>\n",
       "      <td>9</td>\n",
       "      <td>3</td>\n",
       "      <td>1</td>\n",
       "    </tr>\n",
       "    <tr>\n",
       "      <th>4</th>\n",
       "      <td>0000455dfa3e01eae3af</td>\n",
       "      <td>[can, i, convert, montra, helicon, d, to, a, m...</td>\n",
       "      <td>0</td>\n",
       "      <td>15</td>\n",
       "      <td>15</td>\n",
       "      <td>8</td>\n",
       "      <td>1</td>\n",
       "    </tr>\n",
       "  </tbody>\n",
       "</table>\n",
       "</div>"
      ],
      "text/plain": [
       "                    qid                                      question_text  \\\n",
       "0  00002165364db923c7e6  [how, did, quebec, nationalists, see, their, p...   \n",
       "1  000032939017120e6e44  [do, you, have, an, adopted, dog, ,, how, woul...   \n",
       "2  0000412ca6e4628ce2cf  [why, does, velocity, affect, time, ?, does, v...   \n",
       "3  000042bf85aa498cd78e  [how, did, otto, von, guericke, used, the, mag...   \n",
       "4  0000455dfa3e01eae3af  [can, i, convert, montra, helicon, d, to, a, m...   \n",
       "\n",
       "   target  num_words  num_unique_words  num_stopwords  num_punctuations  \n",
       "0       0         13                13              7                 1  \n",
       "1       0         16                15              9                 2  \n",
       "2       0         10                 8              3                 2  \n",
       "3       0          9                 9              3                 1  \n",
       "4       0         15                15              8                 1  "
      ]
     },
     "execution_count": 126,
     "metadata": {},
     "output_type": "execute_result"
    }
   ],
   "source": [
    "# step 2 : Tokenization : In this each entry in the corpus will be broken \n",
    "#                         into set of words\n",
    "\n",
    "\n",
    "train['question_text']= [word_tokenize(entry) for entry in train['question_text']]\n",
    "\n",
    "test['question_text']= [word_tokenize(entry) for entry in test['question_text']]\n",
    "\n",
    "train.head()"
   ]
  },
  {
   "cell_type": "code",
   "execution_count": 127,
   "metadata": {},
   "outputs": [],
   "source": [
    "# Set random seed\n",
    "\n",
    "np.random.seed(500)"
   ]
  },
  {
   "cell_type": "code",
   "execution_count": 128,
   "metadata": {},
   "outputs": [],
   "source": [
    "# step 3, 4 and 5\n",
    "# Remove Stop words and Numeric data \n",
    "# and perfom Word Stemming/Lemmenting.\n",
    "\n",
    "# WordNetLemmatizer requires Pos tags to understand if the word is noun or verb\n",
    "# or adjective etc. By default it is set to Noun\n",
    "\n",
    "tag_map = defaultdict(lambda : wn.NOUN)\n",
    "tag_map['J'] = wn.ADJ\n",
    "tag_map['V'] = wn.VERB\n",
    "tag_map['R'] = wn.ADV\n",
    "# the tag_map would map any tag to 'N' (Noun) except\n",
    "# Adjective to J, Verb -> v, Adverb -> R\n",
    "# that means if you get a Pronoun then it would still be mapped to Noun\n",
    "# print(pos_tag(['my','name','is','omkar']))\n",
    "\n"
   ]
  },
  {
   "cell_type": "code",
   "execution_count": 129,
   "metadata": {},
   "outputs": [
    {
     "data": {
      "text/plain": [
       "collections.defaultdict"
      ]
     },
     "execution_count": 129,
     "metadata": {},
     "output_type": "execute_result"
    }
   ],
   "source": [
    "defaultdict"
   ]
  },
  {
   "cell_type": "code",
   "execution_count": 130,
   "metadata": {},
   "outputs": [
    {
     "data": {
      "text/plain": [
       "[('how', 'WRB'),\n",
       " ('did', 'VBD'),\n",
       " ('quebec', 'VB'),\n",
       " ('nationalists', 'NNS'),\n",
       " ('see', 'VBP'),\n",
       " ('their', 'PRP$'),\n",
       " ('province', 'NN'),\n",
       " ('as', 'IN'),\n",
       " ('a', 'DT'),\n",
       " ('nation', 'NN'),\n",
       " ('in', 'IN'),\n",
       " ('the', 'DT'),\n",
       " ('1960s', 'CD'),\n",
       " ('?', '.')]"
      ]
     },
     "execution_count": 130,
     "metadata": {},
     "output_type": "execute_result"
    }
   ],
   "source": [
    "pos_tag(train['question_text'][0])"
   ]
  },
  {
   "cell_type": "code",
   "execution_count": 131,
   "metadata": {},
   "outputs": [],
   "source": [
    "# step 3, 4 and 5\n",
    "# Remove Stop words and Numeric data \n",
    "# and perfom Word Stemming/Lemmenting.\n",
    "\n",
    "# WordNetLemmatizer requires Pos tags to understand if the word is noun or verb\n",
    "# or adjective etc. By default it is set to Noun\n",
    "tag_map = defaultdict(lambda : wn.NOUN)\n",
    "tag_map['J'] = wn.ADJ\n",
    "tag_map['V'] = wn.VERB\n",
    "tag_map['R'] = wn.ADV\n",
    "# the tag_map would map any tag to 'N' (Noun) except\n",
    "# Adjective to J, Verb -> v, Adverb -> R\n",
    "# that means if you get a Pronoun then it would still be mapped to Noun\n",
    "\n",
    "\n",
    "for index,entry in enumerate(train['question_text']):\n",
    "    # Declaring Empty List to store the words that follow the rules for this step\n",
    "    Final_words = []\n",
    "    \n",
    "    # Initializing WordNetLemmatizer()\n",
    "    word_Lemmatized = WordNetLemmatizer()\n",
    "    #print(help(pos_tag(entry)))\n",
    "    # pos_tag function below will provide the 'tag' \n",
    "    # i.e if the word is Noun(N) or Verb(V) or something else.\n",
    "    for word, tag in pos_tag(entry):\n",
    "    \n",
    "        # Below condition is to check for Stop words and consider only alphabets\n",
    "        if word not in stopwords.words('english') and word.isalpha():\n",
    "            word_Final = word_Lemmatized.lemmatize(word,tag_map[tag[0]])\n",
    "            \n",
    "            Final_words.append(word_Final)\n",
    "    #print(Final_words)        \n",
    "    # The final processed set of words for each iteration will be stored \n",
    "    # in 'question_text_final'\n",
    "    train.loc[index,'question_text_final'] = str(Final_words)\n",
    "    \n",
    "    \n",
    "    \n",
    "    "
   ]
  },
  {
   "cell_type": "code",
   "execution_count": null,
   "metadata": {},
   "outputs": [],
   "source": []
  },
  {
   "cell_type": "code",
   "execution_count": 132,
   "metadata": {},
   "outputs": [],
   "source": [
    "#### same for test data\n",
    "\n",
    "\n",
    "# step 3, 4 and 5\n",
    "# Remove Stop words and Numeric data \n",
    "# and perfom Word Stemming/Lemmenting.\n",
    "\n",
    "# WordNetLemmatizer requires Pos tags to understand if the word is noun or verb\n",
    "# or adjective etc. By default it is set to Noun\n",
    "tag_map = defaultdict(lambda : wn.NOUN)\n",
    "tag_map['J'] = wn.ADJ\n",
    "tag_map['V'] = wn.VERB\n",
    "tag_map['R'] = wn.ADV\n",
    "# the tag_map would map any tag to 'N' (Noun) except\n",
    "# Adjective to J, Verb -> v, Adverb -> R\n",
    "# that means if you get a Pronoun then it would still be mapped to Noun\n",
    "\n",
    "\n",
    "for index,entry in enumerate(test['question_text']):\n",
    "    # Declaring Empty List to store the words that follow the rules for this step\n",
    "    Final_words_test = []\n",
    "    \n",
    "    # Initializing WordNetLemmatizer()\n",
    "    word_Lemmatized = WordNetLemmatizer()\n",
    "    \n",
    "    # pos_tag function below will provide the 'tag' \n",
    "    # i.e if the word is Noun(N) or Verb(V) or something else.\n",
    "    for word, tag in pos_tag(entry):\n",
    "        # Below condition is to check for Stop words and consider only \n",
    "        # alphabets\n",
    "        if word not in stopwords.words('english') and word.isalpha():\n",
    "            word_Final = word_Lemmatized.lemmatize(word,tag_map[tag[0]])\n",
    "            Final_words_test.append(word_Final)\n",
    "            \n",
    "    # The final processed set of words for each iteration will be stored \n",
    "    # in 'question_text_final'\n",
    "    test.loc[index,'question_text_final'] = str(Final_words_test)\n",
    "    "
   ]
  },
  {
   "cell_type": "code",
   "execution_count": 133,
   "metadata": {
    "scrolled": true
   },
   "outputs": [
    {
     "data": {
      "text/html": [
       "<div>\n",
       "<style scoped>\n",
       "    .dataframe tbody tr th:only-of-type {\n",
       "        vertical-align: middle;\n",
       "    }\n",
       "\n",
       "    .dataframe tbody tr th {\n",
       "        vertical-align: top;\n",
       "    }\n",
       "\n",
       "    .dataframe thead th {\n",
       "        text-align: right;\n",
       "    }\n",
       "</style>\n",
       "<table border=\"1\" class=\"dataframe\">\n",
       "  <thead>\n",
       "    <tr style=\"text-align: right;\">\n",
       "      <th></th>\n",
       "      <th>qid</th>\n",
       "      <th>question_text</th>\n",
       "      <th>num_words</th>\n",
       "      <th>num_unique_words</th>\n",
       "      <th>num_stopwords</th>\n",
       "      <th>num_punctuations</th>\n",
       "      <th>question_text_final</th>\n",
       "    </tr>\n",
       "  </thead>\n",
       "  <tbody>\n",
       "    <tr>\n",
       "      <th>0</th>\n",
       "      <td>0000163e3ea7c7a74cd7</td>\n",
       "      <td>[why, do, so, many, women, become, so, rude, a...</td>\n",
       "      <td>21</td>\n",
       "      <td>19</td>\n",
       "      <td>11</td>\n",
       "      <td>1</td>\n",
       "      <td>['many', 'woman', 'become', 'rude', 'arrogant'...</td>\n",
       "    </tr>\n",
       "    <tr>\n",
       "      <th>1</th>\n",
       "      <td>00002bd4fb5d505b9161</td>\n",
       "      <td>[when, should, i, apply, for, rv, college, of,...</td>\n",
       "      <td>30</td>\n",
       "      <td>23</td>\n",
       "      <td>17</td>\n",
       "      <td>2</td>\n",
       "      <td>['apply', 'rv', 'college', 'engineering', 'bms...</td>\n",
       "    </tr>\n",
       "    <tr>\n",
       "      <th>2</th>\n",
       "      <td>00007756b4a147d2b0b3</td>\n",
       "      <td>[what, is, it, really, like, to, be, a, nurse,...</td>\n",
       "      <td>10</td>\n",
       "      <td>10</td>\n",
       "      <td>6</td>\n",
       "      <td>1</td>\n",
       "      <td>['really', 'like', 'nurse', 'practitioner']</td>\n",
       "    </tr>\n",
       "    <tr>\n",
       "      <th>3</th>\n",
       "      <td>000086e4b7e1c7146103</td>\n",
       "      <td>[who, are, entrepreneurs, ?]</td>\n",
       "      <td>3</td>\n",
       "      <td>3</td>\n",
       "      <td>2</td>\n",
       "      <td>1</td>\n",
       "      <td>['entrepreneur']</td>\n",
       "    </tr>\n",
       "    <tr>\n",
       "      <th>4</th>\n",
       "      <td>0000c4c3fbe8785a3090</td>\n",
       "      <td>[is, education, really, making, good, people, ...</td>\n",
       "      <td>7</td>\n",
       "      <td>7</td>\n",
       "      <td>1</td>\n",
       "      <td>1</td>\n",
       "      <td>['education', 'really', 'make', 'good', 'peopl...</td>\n",
       "    </tr>\n",
       "  </tbody>\n",
       "</table>\n",
       "</div>"
      ],
      "text/plain": [
       "                    qid                                      question_text  \\\n",
       "0  0000163e3ea7c7a74cd7  [why, do, so, many, women, become, so, rude, a...   \n",
       "1  00002bd4fb5d505b9161  [when, should, i, apply, for, rv, college, of,...   \n",
       "2  00007756b4a147d2b0b3  [what, is, it, really, like, to, be, a, nurse,...   \n",
       "3  000086e4b7e1c7146103                       [who, are, entrepreneurs, ?]   \n",
       "4  0000c4c3fbe8785a3090  [is, education, really, making, good, people, ...   \n",
       "\n",
       "   num_words  num_unique_words  num_stopwords  num_punctuations  \\\n",
       "0         21                19             11                 1   \n",
       "1         30                23             17                 2   \n",
       "2         10                10              6                 1   \n",
       "3          3                 3              2                 1   \n",
       "4          7                 7              1                 1   \n",
       "\n",
       "                                 question_text_final  \n",
       "0  ['many', 'woman', 'become', 'rude', 'arrogant'...  \n",
       "1  ['apply', 'rv', 'college', 'engineering', 'bms...  \n",
       "2        ['really', 'like', 'nurse', 'practitioner']  \n",
       "3                                   ['entrepreneur']  \n",
       "4  ['education', 'really', 'make', 'good', 'peopl...  "
      ]
     },
     "execution_count": 133,
     "metadata": {},
     "output_type": "execute_result"
    }
   ],
   "source": [
    "test.head()"
   ]
  },
  {
   "cell_type": "markdown",
   "metadata": {},
   "source": [
    " # Vectorising"
   ]
  },
  {
   "cell_type": "code",
   "execution_count": 134,
   "metadata": {},
   "outputs": [],
   "source": [
    "Tfidf_vect = TfidfVectorizer()\n",
    "Tfidf_vect.fit(train['question_text_final'])\n",
    "\n",
    "Train_X_Tfidf = Tfidf_vect.transform(train['question_text_final'])\n",
    "\n",
    "Test_X_Tfidf = Tfidf_vect.transform(test['question_text_final'])"
   ]
  },
  {
   "cell_type": "code",
   "execution_count": 135,
   "metadata": {
    "scrolled": true
   },
   "outputs": [
    {
     "name": "stdout",
     "output_type": "stream",
     "text": [
      "  (0, 9535)\t0.3027305836970476\n",
      "  (0, 8676)\t0.4981261355183682\n",
      "  (0, 8566)\t0.4981261355183682\n",
      "  (0, 7219)\t0.5202921340044759\n",
      "  (0, 7216)\t0.37601993991620425\n",
      "  (1, 11908)\t0.1894557262867528\n",
      "  (1, 9700)\t0.33815257847445757\n",
      "  (1, 7993)\t0.1947814018797523\n",
      "  (1, 3539)\t0.3653055447844994\n",
      "  (1, 3158)\t0.30877290284131126\n",
      "  (1, 164)\t0.7635644834266739\n",
      "  (2, 11481)\t0.6855299346053622\n",
      "  (2, 10850)\t0.20229971113170225\n",
      "  (2, 10029)\t0.27721701635830365\n",
      "  (2, 4426)\t0.3659745971540918\n",
      "  (2, 207)\t0.5275763979892372\n",
      "  (3, 11624)\t0.42872789761620106\n",
      "  (3, 11369)\t0.2054703077844136\n",
      "  (3, 7705)\t0.44780576013313866\n",
      "  (3, 6442)\t0.44780576013313866\n",
      "  (3, 4842)\t0.41519193874558324\n",
      "  (3, 4652)\t0.44780576013313866\n",
      "  (4, 11153)\t0.3974358052940644\n",
      "  (4, 7070)\t0.4077468402555652\n",
      "  (4, 7018)\t0.43977584028772576\n",
      "  :\t:\n",
      "  (9995, 7610)\t0.2033905284516744\n",
      "  (9995, 7605)\t0.16546434561451356\n",
      "  (9995, 6363)\t0.3092408615517507\n",
      "  (9995, 4630)\t0.3335320996110778\n",
      "  (9995, 4056)\t0.17682419472258193\n",
      "  (9995, 2832)\t0.3092408615517507\n",
      "  (9995, 2035)\t0.3335320996110778\n",
      "  (9995, 69)\t0.26292012814073196\n",
      "  (9996, 9995)\t0.38813132812904366\n",
      "  (9996, 6311)\t0.6331172118646337\n",
      "  (9996, 3513)\t0.6697138703696806\n",
      "  (9997, 11369)\t0.3480545097272734\n",
      "  (9997, 10739)\t0.5928187521082453\n",
      "  (9997, 6790)\t0.7262396198275952\n",
      "  (9998, 7772)\t0.6746538036234362\n",
      "  (9998, 7097)\t0.3572681507045845\n",
      "  (9998, 6936)\t0.6459115370920048\n",
      "  (9999, 10254)\t0.33002088817287606\n",
      "  (9999, 10062)\t0.3753780718084126\n",
      "  (9999, 9553)\t0.30957204903657837\n",
      "  (9999, 8077)\t0.37085379180086475\n",
      "  (9999, 5637)\t0.4082810831943297\n",
      "  (9999, 4465)\t0.3594060673870005\n",
      "  (9999, 1671)\t0.3029376878067269\n",
      "  (9999, 557)\t0.3594060673870005\n"
     ]
    }
   ],
   "source": [
    "print(Train_X_Tfidf)\n",
    "#print(Test_X_Tfidf)"
   ]
  },
  {
   "cell_type": "code",
   "execution_count": 136,
   "metadata": {},
   "outputs": [
    {
     "name": "stdout",
     "output_type": "stream",
     "text": [
      "{'quebec': 8676, 'nationalist': 7219, 'see': 9535, 'province': 8566, 'nation': 7216, 'adopt': 164, 'dog': 3158, 'would': 11908, 'encourage': 3539, 'people': 7993, 'shop': 9700, 'velocity': 11481, 'affect': 207, 'time': 10850, 'space': 10029, 'geometry': 4426, 'otto': 7705, 'von': 11624, 'guericke': 4652, 'use': 11369, 'magdeburg': 6442, 'hemisphere': 4842, 'convert': 2400, 'montra': 7018, 'helicon': 4833, 'mountain': 7070, 'bike': 1165, 'change': 1825, 'tyre': 11153, 'gaza': 4382, 'slowly': 9892, 'become': 1032, 'auschwitz': 802, 'dachau': 2661, 'treblinka': 11033, 'palestinian': 7820, 'quora': 8692, 'automatically': 826, 'ban': 924, 'conservative': 2319, 'opinion': 7629, 'report': 9034, 'liberal': 6187, 'view': 11540, 'crazy': 2524, 'wash': 11690, 'wipe': 11843, 'grocery': 4635, 'germ': 4435, 'everywhere': 3740, 'thing': 10789, 'dress': 3238, 'moderately': 6958, 'different': 2989, 'modestly': 6964, 'ever': 3731, 'phase': 8070, 'wherein': 11779, 'ignorant': 5158, 'love': 6358, 'completely': 2224, 'disregard': 3096, 'get': 4444, 'something': 9997, 'go': 4513, 'way': 11706, 'feel': 3980, 'temporarily': 10704, 'ease': 3343, 'say': 9415, 'feminism': 3992, 'calgary': 1586, 'flame': 4090, 'found': 4207, 'dumbest': 3290, 'yet': 11984, 'possibly': 8307, 'true': 11084, 'explanation': 3828, 'trump': 11087, 'elect': 3438, 'external': 3848, 'hard': 4759, 'disk': 3080, 'well': 11749, 'data': 2701, 'live': 6279, 'home': 4939, 'boyfriend': 1367, 'progress': 8505, 'situation': 9830, 'know': 5937, 'bram': 1384, 'fischer': 4075, 'rivonia': 9197, 'trial': 11040, 'difficult': 2996, 'find': 4056, 'good': 4538, 'instructor': 5437, 'take': 10580, 'class': 1997, 'near': 7257, 'lick': 6200, 'skin': 9847, 'corpse': 2443, 'think': 10790, 'amazon': 394, 'house': 5009, 'approach': 572, 'manufacture': 6553, 'similar': 9783, 'tesla': 10729, 'business': 1536, 'model': 6955, 'many': 6557, 'barony': 963, 'might': 6847, 'exist': 3797, 'within': 11859, 'county': 2482, 'palatine': 7817, 'whether': 11780, 'girl': 4472, 'do': 3145, 'sex': 9628, 'fast': 3938, 'learner': 6102, 'professional': 8490, 'career': 1678, 'personal': 8042, 'life': 6203, 'united': 11276, 'state': 10181, 'large': 6045, 'dictatorship': 2975, 'world': 11894, 'strange': 10269, 'phenomenon': 8074, 'witness': 11862, 'generate': 4398, 'area': 614, 'electronics': 3459, 'term': 10716, 'modern': 6961, 'physic': 8103, 'leave': 6110, 'friend': 4269, 'new': 7323, 'one': 7605, 'make': 6485, 'alexa': 311, 'trigger': 11047, 'event': 3727, 'browser': 1465, 'two': 11142, 'democracy': 2824, 'never': 7322, 'full': 4308, 'fledge': 4103, 'war': 11672, 'stop': 10252, 'top': 10914, 'cbse': 1752, 'month': 7016, 'visit': 11579, 'mcleodganj': 6674, 'triund': 11061, 'trek': 11035, 'military': 6857, 'submarine': 10345, 'reduce': 8901, 'noise': 7410, 'achieve': 91, 'stealth': 10203, 'baby': 873, 'sweet': 10520, 'parent': 7866, 'dark': 2696, 'light': 6212, 'remove': 9005, 'black': 1221, 'head': 4801, 'nose': 7441, 'lightsabers': 6217, 'create': 2527, 'individual': 5309, 'wielders': 11813, 'saber': 9323, 'unique': 11273, 'anyone': 527, 'still': 10235, 'visual': 11582, 'basic': 979, 'worth': 11904, 'learn': 6101, 'job': 5730, 'programmer': 8503, 'sykes': 10536, 'enterprise': 3592, 'clear': 2019, 'relation': 8965, 'number': 7493, 'computational': 2249, 'performance': 8012, 'requirement': 9057, 'fea': 3961, 'cfd': 1800, 'analysis': 437, 'ansys': 501, 'solution': 9984, 'particular': 7890, 'package': 7784, 'isc': 5600, 'since': 9800, 'may': 6657, 'update': 11331, 'great': 4613, 'wit': 11852, 'mean': 6683, 'experience': 3819, 'work': 11885, 'realtor': 8828, 'wish': 11851, 'charge': 1838, 'contact': 2357, 'public': 8593, 'school': 9453, 'teacher': 10650, 'vacation': 11404, 'whenever': 11777, 'ask': 686, 'role': 9230, 'technology': 10668, 'resource': 9085, 'opt': 7642, 'jaypee': 5679, 'university': 11282, 'guna': 4670, 'mechanical': 6693, 'engineering': 3568, 'download': 3208, 'microsoft': 6839, 'word': 11882, 'window': 11831, 'hungarian': 5050, 'need': 7267, 'buy': 1546, 'car': 1661, 'south': 10018, 'africa': 220, 'american': 407, 'someone': 9995, 'enjoy': 3574, 'harry': 4768, 'potter': 8324, 'order': 7664, 'phoenix': 8088, 'movie': 7078, 'least': 6108, 'book': 1318, 'write': 11922, 'style': 10330, 'resist': 9077, 'prince': 8439, 'charm': 1848, 'linda': 6234, 'kage': 5805, 'mother': 7053, 'expect': 3810, 'memorize': 6752, 'usernames': 11377, 'password': 7908, 'responsible': 9092, 'college': 2132, 'year': 11970, 'kid': 5887, 'fool': 4159, 'kill': 5895, 'bubble': 1488, 'decide': 2748, 'travel': 11025, 'portable': 8290, 'computer': 2251, 'science': 9461, 'student': 10314, 'final': 4049, 'project': 8510, 'outside': 7723, 'rather': 8790, 'education': 3392, 'system': 10562, 'really': 8826, 'week': 11734, 'shorten': 9709, 'period': 8019, 'risk': 9188, 'calead': 1583, 'leap': 6100, 'day': 2712, 'rid': 9164, 'spleen': 10097, 'enlargement': 3577, 'machine': 6424, 'technique': 10664, 'extract': 3854, 'metadata': 6796, 'font': 4156, 'color': 2144, 'size': 9833, 'indentation': 5290, 'alignment': 329, 'document': 3152, 'file': 4039, 'integrate': 5449, 'web': 11720, 'application': 561, 'hitch': 4905, 'smith': 9908, 'asks': 687, 'dance': 2682, 'much': 7097, 'india': 5295, 'act': 105, 'special': 10054, 'sport': 10105, 'like': 6219, 'dna': 3143, 'rna': 9199, 'compare': 2207, 'contrast': 2382, 'break': 1403, 'shoot': 9697, 'arm': 627, 'knife': 5932, 'happen': 4745, 'biography': 1188, 'gianni': 4455, 'versace': 11500, 'extroverted': 3861, 'faster': 3939, 'process': 8473, 'expel': 3813, 'information': 5362, 'introvert': 5520, 'recognize': 8858, 'place': 8153, 'far': 3924, 'price': 8430, 'comparison': 2208, 'websites': 11726, 'financial': 4053, 'service': 9607, 'rag': 8728, 'nift': 7356, 'bangalore': 936, 'bad': 891, 'review': 9133, 'bahubali': 900, 'imdb': 5202, 'swallow': 10504, 'listerine': 6264, 'dangerous': 2686, 'theory': 10774, 'critical': 2552, 'thinking': 10791, 'big': 1158, 'problem': 8469, 'question': 8681, 'doubt': 3200, 'come': 2163, 'across': 103, 'try': 11095, 'choose': 1922, 'paint': 7804, 'room': 9250, 'cheap': 1861, 'flight': 4109, 'edinburgh': 3385, 'china': 1904, 'chick': 1893, 'send': 9565, 'picture': 8115, 'email': 3488, 'ebay': 3353, 'allow': 353, 'sale': 9352, 'wwii': 11937, 'purple': 8631, 'heart': 4814, 'medal': 6698, 'even': 3725, 'though': 10799, 'category': 1733, 'specifically': 10062, 'characteristic': 1833, 'define': 2785, 'isovolumetric': 5618, 'relaxation': 8973, 'cybersecurity': 2647, 'overseas': 7746, 'developer': 2933, 'refer': 8909, 'standard': 10164, 'practice': 8344, 'internet': 5488, 'rely': 8987, 'everything': 3738, 'itc': 5628, 'levy': 6175, 'bank': 941, 'muhammed': 7104, 'provide': 8563, 'food': 4157, 'test': 10730, 'lab': 5995, 'certified': 1794, 'ok': 7585, 'solo': 9981, 'whole': 11800, 'pretend': 8414, 'unwanted': 11326, 'owner': 7761, 'current': 2621, 'youtube': 12003, 'account': 71, 'original': 7685, 'let': 6162, 'access': 60, 'anything': 528, 'archer': 609, 'character': 1832, 'animate': 474, 'base': 972, 'celebrity': 1765, 'best': 1107, 'propose': 8537, 'without': 11860, 'annoy': 490, 'million': 6865, 'solar': 9968, 'power': 8331, 'recommended': 8865, 'game': 4351, 'engine': 3564, 'beginning': 1050, 'python': 8652, 'teleological': 10686, 'pantheism': 7837, 'aircraft': 264, 'propulsion': 8541, 'country': 2481, 'freedom': 4243, 'speech': 10067, 'par': 7843, 'lead': 6091, 'red': 8886, 'terror': 10725, 'ethiopia': 3697, 'pen': 7975, 'low': 6362, 'cost': 2462, 'sort': 10012, 'trust': 11091, 'facebook': 3877, 'page': 7794, 'website': 11725, 'improve': 5247, 'piano': 8110, 'skill': 9844, 'keep': 5846, 'piece': 8116, 'effective': 3399, 'wear': 11716, 'insulin': 5442, 'pump': 8607, 'lot': 6348, 'nick': 7350, 'jonas': 5751, 'date': 2704, 'selena': 9548, 'gomez': 4535, 'difference': 2987, 'several': 9621, 'zero': 12024, 'miss': 6914, 'turkey': 11120, 'seperated': 9588, 'give': 4480, 'land': 6024, 'kurds': 5982, 'foreign': 4171, 'usa': 11362, 'future': 4333, 'sq': 10120, 'equal': 3632, 'sing': 9806, 'song': 10001, 'chronicle': 1945, 'replace': 9028, 'supply': 10448, 'chain': 1806, 'solve': 9985, 'sin': 9798, 'demerit': 2821, 'excellence': 3768, 'academic': 49, 'pursuit': 8639, 'indian': 5296, 'melbourne': 6735, 'australia': 805, 'physicist': 8106, 'mathematician': 6637, 'scientist': 9463, 'philosopher': 8079, 'david': 2707, 'deutsch': 2927, 'old': 7591, 'scripture': 9491, 'eastern': 3347, 'culture': 2608, 'appear': 551, 'lose': 6344, 'hate': 4783, 'mind': 6873, 'habit': 4689, 'procrastination': 8478, 'relationship': 8967, 'napoleon': 7199, 'ali': 322, 'pasha': 7897, 'tepelene': 10715, 'presynaptic': 8412, 'neuron': 7311, 'narcissist': 7201, 'punish': 8612, 'child': 1897, 'back': 879, 'start': 10173, 'freelance': 4245, 'finish': 4061, 'udacity': 11172, 'android': 457, 'nanodegree': 7195, 'reason': 8831, 'bitcoin': 1213, 'long': 6327, 'journey': 5762, 'support': 10449, 'choice': 1918, 'mandatory': 6520, 'sentencing': 9578, 'criminal': 2548, 'vote': 11628, 'republican': 9048, 'add': 128, 'thrice': 10811, 'rational': 8793, 'four': 4213, 'movement': 7076, 'symphony': 10547, 'typically': 11150, 'form': 4184, 'second': 9516, 'various': 11445, 'stock': 10243, 'exchange': 3777, 'gay': 4380, 'boy': 1365, 'cousin': 2490, 'sexy': 9636, 'dont': 3181, 'hot': 5001, 'want': 11671, 'race': 8707, 'small': 9899, 'penis': 7985, 'architecture': 611, 'microarchitecture': 6833, 'instruction': 5435, 'set': 9613, 'isa': 5595, 'iphone': 5562, 'user': 11375, 'psychologically': 8579, 'trap': 11021, 'brand': 1388, 'naming': 7194, 'avoid': 843, 'complain': 2220, 'reasonable': 8832, 'feature': 3970, 'battery': 993, 'lack': 6002, 'flagship': 4089, 'semester': 9559, 'ontario': 7613, 'female': 3987, 'ugly': 11180, 'flour': 4120, 'homemade': 4942, 'chili': 1901, 'advice': 185, 'accomplish': 67, 'overcome': 7734, 'extreme': 3859, 'fear': 3962, 'insect': 5410, 'bug': 1502, 'example': 3762, 'durable': 3303, 'glove': 4499, 'move': 7075, 'mile': 6855, 'towards': 10951, 'oppostie': 7637, 'direction': 3036, 'distance': 3104, 'apps': 580, 'maximum': 6655, 'header': 4802, 'dataset': 2703, 'notice': 7452, 'print': 8444, 'first': 4074, 'anyway': 530, 'marry': 6592, 'woman': 11870, 'green': 4619, 'card': 1671, 'company': 2203, 'look': 6332, 'recruit': 8877, 'expat': 3809, 'nationality': 7221, 'candidate': 1630, 'play': 8182, 'huge': 5029, 'transcranial': 10991, 'magnetic': 6451, 'stimulation': 10237, 'tm': 10877, 'increase': 5280, 'cognitive': 2105, 'george': 4430, 'washington': 11692, 'free': 4241, 'slave': 9867, 'revolutionary': 9138, 'policy': 8238, 'embassy': 3494, 'deny': 2847, 'citizen': 1980, 'entry': 3606, 'party': 7894, 'energy': 3556, 'meter': 6804, 'periodically': 8021, 'stationery': 10188, 'office': 7570, 'vs': 11636, 'regular': 8945, 'genuine': 4417, 'aviation': 842, 'nonprofit': 7420, 'organization': 7678, 'treat': 11030, 'employee': 3523, 'badly': 894, 'procedure': 8471, 'invest': 5535, 'mutual': 7154, 'fund': 4317, 'osn': 7700, 'aesthetically': 202, 'please': 8192, 'shade': 9642, 'wise': 11849, 'calcutta': 1581, 'prepare': 8392, 'cat': 1718, 'politician': 8247, 'leech': 6115, 'sponsor': 10101, 'regime': 8938, 'north': 7433, 'korea': 5957, 'european': 3714, 'superior': 10438, 'fact': 3884, 'mid': 6842, 'century': 1783, 'surpass': 10471, 'economy': 3375, 'cytoplasm': 2654, 'build': 1503, 'inside': 5413, 'lip': 6249, 'app': 543, 'multiple': 7114, 'programming': 8504, 'language': 6033, 'ide': 5128, 'neighborhood': 7281, 'chuncheon': 1951, 'varanasi': 11440, 'wrongfully': 11927, 'jump': 5782, 'conclusion': 2266, 'troubleshoot': 11077, 'printer': 8446, 'unfair': 11254, 'men': 6755, 'duty': 3311, 'nsf': 7476, 'spinoff': 10088, 'nsfnet': 7477, 'help': 4838, 'sun': 10411, 'microsystem': 6840, 'tourist': 10946, 'drastically': 3229, 'louisville': 6355, 'list': 6260, 'ranking': 8773, 'julius': 5780, 'caesar': 1563, 'bring': 1436, 'tyrannosaurus': 11152, 'rex': 9145, 'campaign': 1611, 'frighten': 4275, 'celt': 1771, 'submission': 10346, 'mercury': 6770, 'debilitate': 2736, 'dasa': 2700, 'simha': 9782, 'lagna': 6010, 'driver': 3245, 'globalisation': 4493, 'high': 4872, 'emotional': 3512, 'intelligence': 5456, 'mainstream': 6478, 'fashion': 3937, 'cause': 1744, 'force': 4166, 'magnet': 6450, 'nike': 7367, 'football': 4162, 'towel': 10952, 'win': 11829, 'anizara': 478, 'dragon': 3221, 'ball': 912, 'super': 10425, 'anime': 476, 'episode': 3623, 'mystic': 7167, 'gohan': 4523, 'phone': 8089, 'fault': 3951, 'teen': 10674, 'daughter': 2706, 'social': 9946, 'anxiety': 523, 'sunil': 10418, 'raju': 8743, 'absent': 35, 'today': 10886, 'appropriate': 574, 'manner': 6543, 'backing': 883, 'right': 9174, 'hypocritical': 5090, 'actually': 117, 'restrict': 9101, 'ability': 19, 'law': 6071, 'europeans': 3715, 'continue': 2372, 'participate': 7887, 'arab': 592, 'destruction': 2908, 'israel': 5620, 'jew': 5704, 'god': 4519, 'defend': 2778, 'conversation': 2398, 'php': 8100, 'framework': 4225, 'olx': 7595, 'forensic': 4173, 'psychologist': 8580, 'fortnite': 4197, 'lag': 6009, 'everytime': 3739, 'fight': 4032, 'neurotransmitter': 7314, 'puppy': 8621, 'hyper': 5083, 'jhargram': 5712, 'birbhum': 1201, 'safe': 9335, 'winter': 11842, 'terrorist': 10727, 'discover': 3064, 'instantly': 5431, 'paw': 7935, 'powerbank': 8333, 'average': 841, 'nfl': 7337, 'team': 10653, 'obtain': 7540, 'kicker': 5886, 'could': 2469, 'consistently': 2328, 'field': 4028, 'goal': 4515, 'yard': 11967, 'bowl': 1358, 'earn': 3332, 'trading': 10970, 'derivative': 2876, 'market': 6581, 'timing': 10854, 'html': 5023, 'cs': 2587, 'lingayats': 6238, 'bury': 1532, 'dead': 2721, 'burn': 1528, 'hindu': 4888, 'therapist': 10775, 'regard': 8936, 'mental': 6761, 'health': 4808, 'issue': 5624, 'remain': 8988, 'useful': 11372, 'honda': 4956, 'step': 10210, 'wgn': 11763, 'mileage': 6856, 'sign': 9758, 'singaporean': 9808, 'british': 1442, 'australian': 806, 'accent': 55, 'pokémon': 8231, 'diamond': 2965, 'mt': 7092, 'coronet': 2440, 'merchant': 6769, 'track': 10964, 'smoke': 9911, 'cleave': 2022, 'cigarette': 1958, 'harmful': 4765, 'arnab': 638, 'goswami': 4553, 'able': 21, 'ignore': 5159, 'defamation': 2772, 'case': 1702, 'kejriwal': 5849, 'drag': 3220, 'court': 2486, 'everyday': 3736, 'institute': 5433, 'hadoop': 4696, 'course': 2485, 'chandigarh': 1824, 'clipboard': 2043, 'rich': 9158, 'claim': 1991, 'reservation': 9063, 'conscience': 2310, 'instance': 5429, 'medieval': 6713, 'latin': 6057, 'text': 10739, 'later': 6055, 'translate': 11007, 'classical': 2000, 'purpose': 8632, 'location': 6300, 'investment': 5539, 'gurgaon': 4674, 'husband': 5062, 'myopia': 7162, 'prevent': 8422, 'conceive': 2258, 'possible': 8305, 'fighter': 4033, 'jet': 5701, 'airforce': 266, 'directory': 3041, 'linux': 6247, 'megabites': 6725, 'interview': 5504, 'idea': 5129, 'shirt': 9685, 'suit': 10394, 'white': 11795, 'every': 3734, 'stammering': 10159, 'melodious': 6740, 'voice': 11610, 'five': 4083, 'type': 11145, 'foul': 4206, 'basetball': 976, 'canadian': 1622, 'zealander': 12021, 'consider': 2321, 'separate': 9584, 'speak': 10048, 'changer': 1826, 'redmi': 8899, 'note': 7448, 'point': 8225, 'stay': 10197, 'frequency': 4253, 'division': 3131, 'fdma': 3960, 'line': 6235, 'vb': 11459, 'explain': 3826, 'funeral': 4325, 'honey': 4962, 'singh': 9810, 'justin': 5797, 'bieber': 1156, 'fall': 3906, 'floor': 4116, 'survive': 10483, 'laugh': 6061, 'loud': 6351, 'hold': 4926, 'license': 6198, 'mandated': 6519, 'reporter': 9035, 'emergency': 3496, 'occur': 7548, 'guru': 4675, 'granth': 4592, 'sahib': 9342, 'punjabi': 8617, 'ruin': 9294, 'man': 6507, 'falsly': 3910, 'accuse': 83, 'violence': 11558, 'fort': 4194, 'louis': 6353, 'pondicherry': 8269, 'name': 7190, 'nootropics': 7424, 'stack': 10146, 'balance': 909, 'accept': 57, 'msc': 7089, 'université': 11283, 'de': 2718, 'montréal': 7020, 'introduction': 5519, 'gst': 4646, 'meaning': 6684, 'left': 6116, 'retail': 9106, 'product': 8483, 'tax': 10635, 'minority': 6893, 'voilent': 11612, 'poeple': 8219, 'diffrent': 2999, 'poltical': 8255, 'beleifs': 1060, 'sentence': 9577, 'imprison': 5244, 'savegely': 9410, 'attack': 763, 'trillion': 11050, 'dollar': 3168, 'enough': 3581, 'starship': 10172, 'mat': 6629, 'alligator': 349, 'meetic': 6722, 'publicly': 8595, 'quote': 8698, 'avro': 846, 'orc': 7657, 'neil': 7284, 'armstrong': 636, 'telemundo': 10684, 'film': 4045, 'telenovelas': 10685, 'mexico': 6816, 'although': 375, 'headquarters': 4806, 'florida': 4118, 'return': 9122, 'vehicle': 11476, 'psu': 8572, 'join': 5742, 'oil': 7583, 'ongc': 7608, 'select': 9544, 'profile': 8496, 'pay': 7938, 'psus': 8573, 'prefer': 8370, 'undervalued': 11240, 'impact': 5219, 'main': 6473, 'carbohydrate': 1664, 'human': 5032, 'diet': 2981, 'admit': 158, 'president': 8404, 'congress': 2299, 'pass': 7899, 'legislation': 6128, 'daca': 2660, 'protect': 8550, 'dreamer': 3235, 'eee': 3397, 'branch': 1387, 'manipal': 6535, 'pick': 8113, 'coding': 2099, 'related': 8964, 'subject': 10338, 'minor': 6892, 'money': 6992, 'launch': 6064, 'consult': 2348, 'firm': 4073, 'blanket': 1232, 'plug': 8198, 'night': 7360, 'disable': 3046, 'source': 10017, 'procurement': 8479, 'folk': 4146, 'crm': 2556, 'salesforce': 9354, 'manage': 6508, 'contract': 2378, 'almost': 358, 'always': 382, 'ejaculation': 3427, 'erection': 3652, 'normal': 7428, 'srinagar': 10131, 'garhwal': 4368, 'plagiarism': 8156, 'talk': 10589, 'pain': 7801, 'dry': 3260, 'fruit': 4290, 'hyderabad': 5068, 'spend': 10072, 'invite': 5545, 'tell': 10692, 'weird': 11744, 'install': 5425, 'usb': 11365, 'performix': 8014, 'sst': 10141, 'fat': 3941, 'burner': 1529, 'icy': 5124, 'cold': 2118, 'water': 11697, 'hand': 4723, 'gulenist': 4666, 'falsely': 3909, 'crime': 2546, 'commit': 2182, 'oppress': 7638, 'felt': 3986, 'escape': 3666, 'eternal': 3689, 'torment': 10925, 'germinate': 4440, 'hen': 4845, 'poppy': 8276, 'major': 6483, 'chance': 1823, 'artist': 667, 'photo': 8091, 'robot': 9211, 'york': 11998, 'city': 1982, 'run': 9300, 'woe': 11865, 'venuas': 11491, 'moon': 7024, 'cry': 2579, 'sadness': 9333, 'grow': 4643, 'presidency': 8403, 'scope': 9469, 'communication': 2194, 'april': 584, 'barack': 953, 'obama': 7510, 'leverage': 6171, 'borrow': 1337, 'viable': 11520, 'option': 7649, 'projector': 8513, 'rupee': 9304, 'scary': 9437, 'gravitational': 4606, 'wave': 11703, 'transmitter': 11013, 'antenna': 504, 'rle': 9198, 'international': 5486, 'chennai': 1881, 'development': 2934, 'watch': 11696, 'video': 11532, 'knowledge': 5939, 'read': 8815, 'medium': 6718, 'outcome': 7709, 'suppose': 10452, 'guy': 4677, 'collaboration': 2121, 'chicken': 1894, 'breed': 1416, 'produce': 8481, 'extra': 3853, 'yolk': 11995, 'regardless': 8937, 'egg': 3410, 'settle': 9615, 'germany': 4438, 'easy': 3349, 'value': 11427, 'voter': 11629, 'summit': 10409, 'presidential': 8405, 'endorsement': 3548, 'homophobia': 4952, 'group': 4640, 'organic': 7672, 'chemistry': 1879, 'diff': 2984, 'serotype': 9603, 'biotype': 1198, 'bacteria': 889, 'component': 2237, 'transition': 11006, 'japanese': 5670, 'culturally': 2607, 'diverse': 3123, 'neither': 7285, 'destroy': 2906, 'admission': 157, 'ipu': 5570, 'llb': 6285, 'divorce': 3132, 'narcissistic': 7202, 'ex': 3753, 'sell': 9553, 'explode': 3830, 'redecorate': 8890, 'late': 6054, 'poor': 8273, 'etc': 3688, 'chemical': 1877, 'romance': 9237, 'elvis': 3486, 'presley': 8406, 'romantic': 9240, 'possibility': 8304, 'weather': 11718, 'silent': 9771, 'hurricane': 5059, 'factory': 3886, 'reset': 9066, 'macbook': 6420, 'leader': 6092, 'iran': 5575, 'ago': 237, 'fake': 3903, 'tomás': 10904, 'torquemada': 10930, 'program': 8501, 'open': 7619, 'software': 9965, 'laser': 6050, 'blavk': 1240, 'around': 644, 'spicy': 10081, 'italian': 5625, 'recipe': 8850, 'productivity': 8486, 'income': 5272, 'closed': 2049, 'jerk': 5696, 'online': 7610, 'background': 882, 'check': 1865, 'prompt': 8519, 'billing': 1169, 'rattlesnake': 8796, 'deserve': 2888, 'happiness': 4748, 'control': 2387, 'due': 3279, 'unlocked': 11294, 'door': 3187, 'among': 420, 'strenghts': 10284, 'preschool': 8396, 'possess': 8303, 'society': 9952, 'react': 8810, 'nda': 7255, 'intelligent': 5457, 'sad': 9331, 'age': 228, 'biological': 1189, 'researcher': 9060, 'count': 2476, 'dooku': 3184, 'sith': 9827, 'lord': 6338, 'success': 10369, 'effort': 3407, 'territory': 10724, 'aboriginal': 26, 'bodhi': 1290, 'animal': 472, 'legally': 6124, 'link': 6243, 'anymore': 526, 'input': 5404, 'subsidy': 10358, 'exciting': 3782, 'essay': 3675, 'pakistan': 7812, 'pas': 7895, 'sikh': 9766, 'marriage': 6588, 'another': 497, 'hello': 4836, 'living': 6282, 'ghetto': 4451, 'christian': 1935, 'devotional': 2944, 'working': 11889, 'septic': 9590, 'tank': 10608, 'overflow': 7736, 'survivor': 10484, 'family': 3913, 'victim': 11527, 'esp': 3673, 'fire': 4068, 'middle': 6843, 'easterner': 3348, 'nomad': 7413, 'mongol': 6996, 'eat': 3351, 'meal': 6682, 'psychology': 8581, 'listen': 6262, 'kpop': 5966, 'music': 7141, 'nationalism': 7218, 'tinting': 10860, 'greenville': 4622, 'sc': 9420, 'hr': 5018, 'shoulder': 9717, 'corporate': 2441, 'bond': 1309, 'tip': 10862, 'raymond': 8802, 'james': 5662, 'last': 6053, 'layer': 6076, 'stubborn': 10311, 'apply': 563, 'junior': 5787, 'isro': 5622, 'creative': 2531, 'train': 10980, 'raccoon': 8706, 'forgive': 4180, 'catch': 1728, 'favorite': 3953, 'celibrity': 1768, 'lifetime': 6208, 'fantasy': 3923, 'pirate': 8141, 'content': 2365, 'violation': 11557, 'precept': 8360, 'buddhism': 1492, 'arrange': 646, 'previous': 8426, 'generation': 4399, 'entire': 3598, 'duration': 3304, 'occam': 7545, 'razor': 8803, 'tackle': 10571, 'obsession': 7535, 'advantage': 176, 'disadvantage': 3047, 'automatic': 825, 'headlamp': 4804, 'aho': 249, 'especially': 3674, 'wheeler': 11776, 'daily': 2669, 'ecomonic': 3368, 'condition': 2275, 'personality': 8043, 'manga': 6526, 'draw': 3230, 'manual': 6551, 'script': 9490, 'detail': 2909, 'important': 5236, 'battle': 995, 'kyber': 5992, 'token': 10893, 'oct': 7554, 'taskbar': 10624, 'respond': 9089, 'answer': 499, 'image': 5195, 'blog': 1262, 'credit': 2536, 'author': 811, 'republicans': 9049, 'government': 4560, 'fit': 4079, 'parliament': 7876, 'abolish': 25, 'topik': 10918, 'exam': 3758, 'steak': 10201, 'dis': 3044, 'mongodb': 6994, 'server': 9606, 'mongodump': 6995, 'mongorestore': 7000, 'hesitate': 4860, 'humiliate': 5037, 'hindi': 4887, 'ese': 3670, 'civil': 1985, 'mark': 6578, 'ingredio': 5375, 'milk': 6858, 'shake': 9647, 'transient': 11003, 'voltage': 11619, 'bass': 985, 'poem': 8217, 'ramayana': 8751, 'ancient': 450, 'epic': 3619, 'literature': 6269, 'muslim': 7145, 'happy': 4749, 'jihad': 5717, 'suffer': 10381, 'rule': 9296, 'investigation': 5537, 'tool': 10910, 'police': 8236, 'famous': 3915, 'polygamist': 8259, 'indonesia': 5315, 'trusted': 11092, 'site': 9826, 'scholarship': 9452, 'score': 9470, 'history': 4903, 'graduation': 4577, 'lecture': 6112, 'neet': 7271, 'pg': 8060, 'mbbs': 6663, 'bachelor': 878, 'queensland': 8678, 'rise': 9186, 'sectional': 9525, 'percentile': 8000, 'lrdi': 6374, 'di': 2952, 'english': 3570, 'scientific': 9462, 'research': 9059, 'publish': 8596, 'amount': 423, 'alternative': 373, 'funding': 4322, 'quality': 8663, 'bushfires': 1535, 'clean': 2012, 'remington': 8996, 'woodmaster': 11877, 'officer': 7571, 'administrative': 155, 'joe': 5735, 'negotiate': 7277, 'inequality': 5328, 'revit': 9134, 'primary': 8434, 'stress': 10288, 'disorder': 3085, 'soy': 10025, 'latte': 6059, 'healthy': 4810, 'drink': 3242, 'deployed': 2859, 'army': 637, 'ranger': 8769, 'steam': 10204, 'gift': 4465, 'clutch': 2065, 'activa': 108, 'compliance': 2229, 'exceptionally': 3774, 'profound': 8500, 'dominant': 3174, 'verbal': 11495, 'weight': 11739, 'laptop': 6041, 'attract': 775, 'confirmation': 2292, 'hour': 5008, 'lawyer': 6073, 'samsung': 9367, 'galaxy': 4344, 'edge': 3383, 'pc': 7945, 'flash': 4092, 'drive': 3244, 'fix': 4084, 'stalin': 10155, 'thought': 10800, 'era': 3646, 'soviet': 10022, 'union': 11271, 'spartan': 10044, 'roman': 9236, 'reply': 9032, 'little': 6275, 'jocularly': 5733, 'analyst': 438, 'cricket': 2545, 'deoxyribose': 2848, 'ribose': 9155, 'sugar': 10385, 'mom': 6982, 'son': 10000, 'dear': 2731, 'zindagi': 12029, 'oprah': 7641, 'pope': 8275, 'curse': 2624, 'mba': 6662, 'suitable': 10396, 'doctor': 3149, 'private': 8455, 'conquer': 2308, 'ireland': 5579, 'fail': 3889, 'scotland': 9474, 'gas': 4375, 'station': 10186, 'ladder': 6006, 'operator': 7627, 'method': 6807, 'determine': 2923, 'eigenvalue': 3421, 'quantum': 8667, 'harmonic': 4766, 'oscillator': 7698, 'xrp': 11954, 'gain': 4343, 'mass': 6616, 'adoption': 165, 'likely': 6221, 'native': 7223, 'spain': 10033, 'coffee': 2102, 'productive': 8485, 'advanced': 174, 'currently': 2622, 'extinct': 3850, 'lapse': 6040, 'plane': 8161, 'heathrow': 4819, 'airport': 270, 'royal': 9276, 'guard': 4650, 'exclude': 3783, 'uber': 11161, 'airbnb': 261, 'referral': 8912, 'hear': 4811, 'conflict': 2293, 'suhrawardy': 10390, 'bhashani': 1132, 'airticket': 277, 'amadeus': 384, 'ca': 1554, 'businessman': 1537, 'weed': 11733, 'antidepressant': 512, 'instagram': 5423, 'past': 7909, 'must': 7148, 'textbook': 10740, 'philosophical': 8081, 'logic': 6311, 'absolute': 36, 'beginner': 1049, 'sri': 10130, 'lankan': 6036, 'understand': 11234, 'ltte': 6380, 'benefit': 1085, 'lanka': 6035, 'ill': 5181, 'intention': 5465, 'consume': 2352, 'educational': 3393, 'material': 6632, 'follower': 4151, 'anonymous': 494, 'anonymity': 493, 'lady': 6007, 'macbeth': 6419, 'plan': 8160, 'duncan': 3295, 'shakespeare': 9648, 'gulf': 4667, 'post': 8308, 'democratic': 2826, 'personally': 8045, 'superstition': 10444, 'blindly': 1251, 'believe': 1066, 'educate': 3391, 'convince': 2404, 'develop': 2931, 'instead': 5432, 'swift': 10523, 'mindset': 6876, 'motif': 7054, 'westerner': 11759, 'isi': 5603, 'delivery': 2812, 'partner': 7892, 'lsi': 6376, 'corporation': 2442, 'constantly': 2337, 'uneasy': 11247, 'split': 10098, 'squat': 10126, 'lunge': 6400, 'entrepreneurship': 3605, 'art': 658, 'bamford': 923, 'imucet': 5251, 'seem': 9540, 'empowerment': 3527, 'auditor': 793, 'dialect': 2961, 'unstressed': 11317, 'precede': 8358, 'blender': 1247, 'nasalized': 7212, 'tap': 10610, 'nɖ': 7508, 'nɾ': 7509, 'dropping': 3253, 'merger': 6777, 'meet': 6721, 'heaven': 4821, 'john': 5739, 'diggle': 3003, 'arrow': 656, 'crisis': 2549, 'conclusively': 2267, 'show': 9719, 'mantle': 6548, 'william': 11824, 'necessary': 7263, 'disclose': 3056, 'salary': 9351, 'employer': 3524, 'optionals': 7651, 'pcs': 7950, 'relational': 8966, 'algebra': 316, 'basis': 981, 'database': 2702, 'structural': 10305, 'shift': 9678, 'discussion': 3070, 'deviantart': 2937, 'fetish': 4011, 'prevalent': 8421, 'moderate': 6957, 'tyrannical': 11151, 'mail': 6471, 'july': 5781, 'kind': 5903, 'therapy': 10776, 'forget': 4179, 'memory': 6753, 'hypnosis': 5087, 'perfecty': 8009, 'hit': 4904, 'single': 9812, 'easily': 3344, 'stuter': 10328, 'breathe': 1414, 'superhero': 10434, 'beat': 1023, 'superman': 10439, 'strong': 10302, 'maverick': 6651, 'indecisive': 5287, 'person': 8041, 'trade': 10968, 'copanies': 2422, 'demographic': 2828, 'customer': 2635, 'magic': 6445, 'lucas': 6382, 'sequence': 9591, 'fibonacci': 4022, 'hunch': 5047, 'turn': 11124, 'smart': 9900, 'crack': 2508, 'jee': 5687, 'advance': 173, 'air': 260, 'study': 10318, 'political': 8244, 'fumbling': 4312, 'recognizable': 8857, 'short': 9705, 'story': 10261, 'shave': 9667, 'hair': 4700, 'leg': 6119, 'real': 8820, 'wordpress': 11884, 'follow': 4150, 'loan': 6292, 'director': 3040, 'nri': 7473, 'sox': 10024, 'series': 9598, 'netherlands': 7301, 'call': 1590, 'dutch': 3309, 'asian': 684, 'mask': 6613, 'chinese': 1905, 'fortune': 4199, 'stick': 10229, 'carrier': 1692, 'uk': 11182, 'angry': 469, 'brain': 1378, 'electrostatic': 3460, 'revolve': 9140, 'electron': 3456, 'centripetal': 1782, 'bikini': 1166, 'clock': 2044, 'morning': 7035, 'dimension': 3016, 'table': 10566, 'mandrill': 6523, 'layperson': 6080, 'profit': 8498, 'currency': 2620, 'failing': 3891, 'certain': 1790, 'die': 2977, 'abortion': 28, 'save': 9409, 'analyze': 441, 'national': 7217, 'economist': 3374, 'bansal': 947, 'sheet': 9668, 'religious': 8983, 'afraid': 219, 'decease': 2743, 'bathroom': 989, 'masturbate': 6627, 'toy': 10957, 'wooden': 11876, 'boat': 1284, 'kilogram': 5898, 'chevrolet': 1887, 'caprice': 1655, 'ppv': 8339, 'primarily': 8433, 'compete': 2215, 'franchise': 4230, 'surat': 10457, 'gujarat': 4663, 'economic': 3370, 'icse': 5120, 'examinaton': 3760, 'radar': 8715, 'guidance': 4657, 'gun': 4669, 'nudity': 7488, 'profanity': 8488, 'delete': 2802, 'restaurant': 9097, 'nice': 7346, 'insurance': 5444, 'damage': 2677, 'grab': 4569, 'seat': 9510, 'quota': 8697, 'west': 11754, 'bengal': 1086, 'abroad': 32, 'somewhere': 9999, 'sister': 9822, 'min': 6870, 'ride': 9166, 'im': 5194, 'curvature': 2627, 'humongous': 5039, 'net': 7296, 'curve': 2628, 'face': 3876, 'mild': 6854, 'colleague': 2127, 'skip': 9850, 'meeting': 6723, 'electromagnetic': 3455, 'interference': 5479, 'distinguish': 3109, 'relative': 8968, 'scale': 9423, 'breath': 1412, 'drug': 3256, 'trafficking': 10976, 'fetal': 4009, 'rate': 8789, 'pregnancy': 8379, 'pad': 7789, 'together': 10891, 'similarity': 9784, 'domain': 3170, 'cognizant': 2107, 'monster': 7012, 'alphabet': 366, 'dictionary': 2976, 'invent': 5530, 'portfolio': 8292, 'heat': 4818, 'directly': 3039, 'elecric': 3437, 'body': 1292, 'finix': 4062, 'coin': 2112, 'ico': 5117, 'legit': 6129, 'scam': 9425, 'phd': 8072, 'mit': 6926, 'caltech': 1601, 'berkeley': 1101, 'comment': 2176, 'rounding': 9268, 'weevil': 11737, 'infestation': 5343, 'treatment': 11031, 'matrix': 6643, 'mistake': 6922, 'chess': 1885, 'writer': 11923, 'dilute': 3014, 'urine': 11359, 'addisons': 132, 'disease': 3071, 'supercharge': 10428, 'ic': 5110, 'stiffness': 10233, 'attracts': 779, 'load': 6291, 'beam': 1018, 'somen': 9994, 'design': 2889, 'experiment': 3822, 'reincarnation': 8953, 'remember': 8994, 'respectful': 9087, 'successful': 10370, 'entrepreneur': 3604, 'millionaire': 6866, 'billionaire': 1171, 'politics': 8248, 'fluent': 4127, 'ghanaian': 4448, 'nigerian': 7359, 'objectively': 7523, 'powerful': 8334, 'universe': 11280, 'popular': 8277, 'nyt': 7506, 'memo': 6749, 'whereas': 11778, 'wsj': 11928, 'bias': 1148, 'mantis': 6547, 'shrimp': 9729, 'consist': 2326, 'linguistic': 6240, 'differential': 2990, 'actual': 116, 'graph': 4596, 'scalability': 9421, 'expert': 3823, 'mostly': 7050, 'unconnected': 11215, 'waffle': 11641, 'teddy': 10671, 'bear': 1021, 'hamster': 4721, 'imagine': 5198, 'fiction': 4024, 'sound': 10015, 'annual': 491, 'engineer': 3566, 'tooth': 10911, 'forming': 4192, 'already': 368, 'helpful': 4839, 'drop': 3250, 'result': 9103, 'approve': 577, 'accurate': 80, 'description': 2885, 'mucus': 7098, 'early': 3331, 'roosevelt': 9253, 'befriend': 1046, 'physical': 8104, 'strength': 10285, 'ready': 8818, 'overpower': 7742, 'tie': 10836, 'gag': 4340, 'safety': 9339, 'recomend': 8861, 'dish': 3076, 'tasty': 10627, 'employment': 3525, 'yacht': 11963, 'represent': 9037, 'employ': 3522, 'vessel': 11508, 'wbjee': 11710, 'california': 1589, 'practical': 8341, 'learning': 6103, 'ecology': 3366, 'conservation': 2317, 'biology': 1190, 'environmental': 3609, 'powder': 8330, 'rifle': 9170, 'specific': 10061, 'introduce': 5518, 'opportunity': 7633, 'transaction': 10988, 'fiduciary': 4027, 'advisor': 189, 'steal': 10202, 'prove': 8561, 'govt': 4562, 'medical': 6706, 'colege': 2119, 'ramk': 8756, 'reading': 8817, 'wire': 11845, 'ground': 4639, 'bar': 952, 'close': 2048, 'guess': 4654, 'prize': 8461, 'purches': 8624, 'dmt': 3142, 'orange': 7653, 'boiled': 1299, 'noodle': 7423, 'paddy': 7790, 'herb': 4850, 'care': 1676, 'sensitivity': 9574, 'sometimes': 9998, 'half': 4707, 'cse': 2590, 'vit': 11586, 'rank': 8772, 'legal': 6121, 'debtor': 2739, 'quit': 8689, 'creditor': 2537, 'collection': 2129, 'unemployment': 11250, 'suddenly': 10378, 'disappear': 3048, 'networking': 7305, 'mining': 6887, 'dream': 3234, 'jinping': 5721, 'serial': 9597, 'religion': 8982, 'murderer': 7131, 'rapist': 8781, 'mao': 6558, 'ammonium': 417, 'bicarbonate': 1151, 'production': 8484, 'bread': 1401, 'jat': 5675, 'gujjar': 4665, 'beautiful': 1027, 'box': 1362, 'ammo': 415, 'bullet': 1511, 'firework': 4072, 'impression': 5241, 'compound': 2242, 'sci': 9459, 'graduate': 4576, 'marine': 6573, 'gme': 4508, 'mumbai': 7119, 'wild': 11819, 'ilustrator': 5193, 'require': 9055, 'tinder': 10857, 'nothing': 7451, 'succeed': 10368, 'effect': 3398, 'polythene': 8265, 'bureau': 1523, 'investigate': 5536, 'homicide': 4951, 'fbi': 3956, 'tunisian': 11116, 'welfare': 11748, 'charity': 1841, 'epecially': 3618, 'limit': 6228, 'contribute': 2383, 'philadelphia': 8075, 'baltimore': 920, 'howie': 5016, 'seago': 9501, 'accomplishment': 68, 'actor': 114, 'bleeding': 1245, 'clot': 2052, 'sleep': 9871, 'graveyard': 4605, 'trouble': 11075, 'awake': 849, 'babyface': 874, 'wwe': 11935, 'topic': 10915, 'management': 6510, 'challenge': 1816, 'lori': 6341, 'anne': 483, 'allison': 351, 'makeup': 6488, 'remote': 9001, 'aadhar': 2, 'bandhup': 931, 'lb': 6085, 'marg': 6568, 'objective': 7522, 'criterion': 2551, 'evaluate': 3720, 'cell': 1769, 'range': 8767, 'less': 6158, 'attendance': 768, 'bush': 1534, 'correct': 2444, 'centre': 1779, 'correction': 2445, 'fee': 3977, 'cutoff': 2641, 'delhi': 2804, 'ray': 8801, 'converge': 2395, 'earth': 3338, 'atmosphere': 752, 'captain': 1656, 'phasma': 8071, 'somehow': 9993, 'trick': 11045, 'gang': 4356, 'ba': 868, 'suicide': 10392, 'racism': 8712, 'protest': 8554, 'padmaavat': 7791, 'padmavati': 7792, 'rotate': 9257, 'east': 3345, 'footballer': 4163, 'lte': 6378, 'volta': 11618, 'facility': 3882, 'forwarding': 4202, 'whatsapp': 11771, 'cocktail': 2092, 'wedding': 11731, 'common': 2188, 'injury': 5390, 'friendly': 4271, 'operation': 7626, 'carpet': 1689, 'installation': 5426, 'invoice': 5547, 'template': 10701, 'debate': 2735, 'mess': 6788, 'kosovo': 5961, 'albanian': 297, 'born': 1336, 'alive': 335, 'worker': 11887, 'handle': 4730, 'secure': 9529, 'cash': 1703, 'earnings': 3334, 'payment': 7941, 'aa': 0, 'recruitment': 8880, 'complete': 2223, 'deduct': 2765, 'mu': 7095, 'oet': 7566, 'usc': 11366, 'teenager': 10676, 'holder': 4927, 'fan': 3916, 'itunes': 5637, 'robin': 9209, 'gibb': 4458, 'singer': 9809, 'amendment': 405, 'worry': 11900, 'budget': 1496, 'camping': 1616, 'jaisalmer': 5656, 'humour': 5042, 'joke': 5746, 'leigh': 6136, 'francis': 4233, 'fictional': 4025, 'keith': 5848, 'lemon': 6139, 'telugu': 10695, 'blood': 1266, 'cough': 2468, 'mack': 6426, 'whatis': 11769, 'stag': 10149, 'buck': 1489, 'cultural': 2606, 'taboo': 10569, 'russia': 9310, 'articleship': 663, 'available': 837, 'anti': 509, 'semite': 9561, 'burke': 1525, 'deaf': 2725, 'professionals': 8492, 'depression': 2869, 'disassemble': 3049, 'revolver': 9141, 'nintendo': 7373, 'switch': 10529, 'store': 10254, 'ticket': 10833, 'london': 6325, 'quickly': 8684, 'breakdance': 1404, 'stereotype': 10215, 'attach': 761, 'sydney': 10535, 'northern': 7437, 'beach': 1016, 'inflation': 5352, 'electrician': 3447, 'summary': 10406, 'streetcar': 10282, 'broker': 1451, 'estate': 3681, 'agent': 232, 'whats': 11770, 'cleanshot': 2017, 'express': 3841, 'feeling': 3981, 'irrespective': 5587, 'barkha': 961, 'dutt': 3310, 'newsx': 7330, 'twitter': 11141, 'hire': 4897, 'swagatham': 10503, 'csa': 2588, 'iisc': 5172, 'gate': 4378, 'topper': 10921, 'others': 7703, 'also': 370, 'otherwise': 7704, 'three': 10807, 'hashtags': 4778, 'nearly': 7259, 'however': 5015, 'traffic': 10974, 'wrong': 11926, 'apparel': 544, 'industry': 5327, 'consultant': 2350, 'qualification': 8660, 'favourite': 3954, 'listed': 6261, 'unlisted': 11291, 'truth': 11094, 'matter': 6645, 'analog': 434, 'nazi': 7240, 'throw': 10818, 'ice': 5114, 'cube': 2598, 'ocean': 7551, 'molecule': 6977, 'acer': 86, 'aspire': 697, 'detect': 2914, 'forcibly': 4167, 'sunni': 10421, 'wahabbi': 11646, 'islam': 5605, 'princeton': 8441, 'urban': 11352, 'local': 6297, 'constitute': 2339, 'yin': 11987, 'yang': 11966, 'originate': 7687, 'consideration': 2324, 'hank': 4741, 'hill': 4880, 'costume': 2464, 'iron': 5582, 'humans': 5036, 'solidify': 9977, 'maintain': 6479, 'search': 9505, 'graf': 4578, 'death': 2732, 'threat': 10805, 'elevator': 3467, 'end': 3541, 'neutrality': 7317, 'traditional': 10972, 'rebound': 8837, 'mine': 6878, 'version': 11503, 'wrestler': 11918, 'agency': 230, 'arrest': 650, 'sit': 9824, 'jute': 5798, 'exporter': 3838, 'bangladesh': 938, 'europe': 3713, 'tum': 11108, 'master': 6625, 'recommender': 8866, 'temperature': 10699, 'slightly': 9879, 'feverish': 4015, 'concern': 2263, 'summer': 10408, 'internship': 5491, 'aspirant': 694, 'melancholia': 6733, 'childhood': 1899, 'adversity': 181, 'prime': 8436, 'motivator': 7059, 'genetic': 4404, 'tolerance': 10895, 'childbirth': 1898, 'menstrual': 6760, 'breastfeeding': 1411, 'historical': 4901, 'significance': 9761, 'mesopotamia': 6787, 'ironic': 5583, 'salem': 9353, 'hang': 4738, 'crucible': 2571, 'sight': 9755, 'akshay': 288, 'thakre': 10754, 'everyone': 3737, 'hat': 4782, 'staring': 10169, 'key': 5872, 'mock': 6953, 'aiims': 257, 'distribute': 3111, 'tomorrow': 10903, 'lg': 6181, 'tempature': 10698, 'smack': 9898, 'aerogel': 197, 'expensive': 3817, 'walk': 11656, 'rain': 8736, 'plural': 8201, 'mathematics': 6638, 'amazing': 393, 'everybody': 3735, 'else': 3483, 'asexuality': 676, 'either': 3424, 'childish': 1900, 'paris': 7871, 'tibetan': 10832, 'wording': 11883, 'groupon': 4641, 'submit': 10348, 'jorge': 5756, 'luis': 6390, 'borges': 1332, 'sure': 10460, 'implement': 5228, 'intersection': 5497, 'fraud': 4237, 'hospital': 4995, 'disrespect': 3097, 'exhaust': 3794, 'audi': 785, 'shower': 9722, 'breakfast': 1406, 'constant': 2335, 'volume': 11620, 'pressure': 8409, 'absorb': 38, 'bird': 1202, 'gir': 4471, 'forest': 4174, 'freeze': 4250, 'threaten': 10806, 'knowingly': 5938, 'heartbeat': 4815, 'inject': 5387, 'anesthetic': 460, 'surgery': 10467, 'rush': 9307, 'absolutely': 37, 'numbing': 7494, 'whatsoever': 11772, 'horrible': 4987, 'bloodstream': 1268, 'cryptorchidism': 2585, 'okay': 7586, 'respect': 9086, 'colonial': 2140, 'empires': 3518, 'swap': 10509, 'identity': 5135, 'debt': 2738, 'forever': 4175, 'graphic': 4597, 'ordinary': 7666, 'orthodox': 7693, 'argument': 619, 'filioque': 4040, 'bipolar': 1200, 'economically': 3372, 'wage': 11643, 'enter': 3591, 'workforce': 11888, 'waterproof': 11700, 'resent': 9062, 'address': 136, 'genre': 4414, 'goony': 4542, 'stand': 10163, 'fable': 3871, 'folktale': 4149, 'snapchat': 9924, 'popularity': 8278, 'decline': 2756, 'chairman': 1808, 'regional': 8941, 'federal': 3973, 'reserve': 9064, 'canada': 1621, 'pursue': 8636, 'banking': 942, 'finance': 4052, 'colour': 2150, 'methyl': 6810, 'limewater': 6227, 'itchiness': 5630, 'breast': 1410, 'comrade': 2253, 'ia': 5097, 'ip': 5559, 'ifs': 5152, 'ies': 5150, 'mentally': 6763, 'retard': 9111, 'autonomous': 830, 'clinic': 2039, 'amaze': 392, 'activist': 112, 'extremely': 3860, 'relate': 8963, 'command': 2173, 'running': 9301, 'shoe': 9696, 'flat': 4094, 'foot': 4160, 'cubic': 2599, 'liter': 6265, 'us': 11361, 'certificate': 1792, 'level': 6169, 'martial': 6598, 'record': 8870, 'electrical': 3446, 'intrested': 5516, 'equipment': 3642, 'administrator': 156, 'gopal': 4545, 'krishna': 5971, 'gokhale': 4524, 'mentor': 6766, 'gandhi': 4353, 'quirky': 8687, 'throne': 10815, 'arya': 671, 'littlefinger': 6276, 'undergraduate': 11227, 'integrated': 5450, 'paper': 7842, 'degree': 2792, 'deter': 2918, 'better': 1112, 'moment': 6983, 'walmartlabs': 11664, 'grant': 4591, 'rsu': 9280, 'vest': 11509, 'syria': 10558, 'hispanic': 4898, 'proud': 8560, 'prospect': 8545, 'automation': 827, 'audio': 788, 'device': 2938, 'specially': 10059, 'speed': 10069, 'interstate': 5499, 'highway': 4877, 'road': 9200, 'waste': 11694, 'limited': 6230, 'eso': 3671, 'collar': 2126, 'hypothesis': 5092, 'cancer': 1627, 'calcium': 1575, 'channel': 1827, 'blocker': 1261, 'cope': 2423, 'jealous': 5684, 'governmental': 4561, 'organisation': 7673, 'hide': 4868, 'reward': 9142, 'virtual': 11567, 'assistant': 718, 'stanford': 10165, 'criticise': 2553, 'indie': 5303, 'upsc': 11341, 'sanction': 9373, 'faith': 3900, 'season': 9507, 'indicate': 5300, 'authoritarian': 813, 'harsh': 4769, 'husky': 5063, 'sustain': 10494, 'tropical': 11072, 'environment': 3608, 'prerequisite': 8395, 'professor': 8493, 'mtech': 7093, 'aggregate': 233, 'christianity': 1936, 'augustus': 796, 'synapsis': 10549, 'besides': 1106, 'brit': 1440, 'queen': 8677, 'elizabeth': 3476, 'king': 5906, 'henry': 4848, 'viii': 11545, 'drain': 3222, 'fly': 4135, 'sewage': 9626, 'cow': 2494, 'ungrateful': 11258, 'america': 406, 'speaking': 10050, 'german': 4436, 'cover': 2491, 'clown': 2058, 'harvard': 4773, 'ecosystem': 3376, 'prototype': 8557, 'inventor': 5532, 'tier': 10837, 'tapmi': 10614, 'bim': 1174, 'kj': 5920, 'somaiya': 9988, 'lease': 6105, 'agreement': 241, 'tc': 10645, 'wipro': 11844, 'infosys': 5365, 'training': 10983, 'supplement': 10446, 'boob': 1317, 'concerned': 2264, 'carter': 1696, 'russian': 9311, 'spy': 10119, 'sense': 9571, 'immigrate': 5209, 'britain': 1441, 'fl': 4087, 'id': 5125, 'issuance': 5623, 'citation': 1978, 'infraction': 5367, 'electric': 3445, 'gear': 4389, 'impersonal': 5227, 'wet': 11762, 'deal': 2726, 'withdrawal': 11855, 'wechat': 11729, 'symbol': 10541, 'tuition': 11104, 'siliceous': 9774, 'ooze': 7616, 'wan': 11667, 'na': 7174, 'flipkart': 4111, 'fixed': 4085, 'reference': 8910, 'frame': 4224, 'dilation': 3011, 'thin': 10788, 'plat': 8174, 'armour': 634, 'folded': 4143, 'leather': 6109, 'underneath': 11232, 'knight': 5933, 'armor': 632, 'bandeau': 930, 'outfit': 7714, 'simlarity': 9786, 'arichtecture': 620, 'roller': 9233, 'coaster': 2084, 'civic': 1984, 'except': 3770, 'eventuality': 3729, 'prepared': 8393, 'collapse': 2125, 'gender': 4393, 'physically': 8105, 'gmail': 4506, 'mac': 6418, 'sidebar': 9750, 'along': 361, 'often': 7576, 'connection': 2306, 'cardiac': 1674, 'filling': 4044, 'cctv': 1756, 'surveillance': 10479, 'despite': 2902, 'abuse': 44, 'notify': 7456, 'tweeter': 11135, 'hack': 4692, 'pornographic': 8286, 'message': 6789, 'mcu': 6677, 'villain': 11551, 'cant': 1639, 'developed': 2932, 'armfeldt': 631, 'lewenhaupt': 6176, 'rehnskiöld': 8951, 'swedish': 10519, 'general': 4396, 'psychopath': 8582, 'acceptance': 59, 'caring': 1682, 'cheat': 1864, 'sql': 10121, 'fun': 4314, 'western': 11758, 'gaming': 4352, 'significant': 9762, 'logarithm': 6310, 'processing': 8474, 'banglore': 939, 'safest': 9338, 'nudge': 7487, 'hike': 4878, 'funny': 4326, 'rotation': 9258, 'polarity': 8235, 'active': 110, 'coast': 2082, 'dynamic': 3320, 'idc': 5127, 'lazyness': 6083, 'away': 854, 'posion': 8298, 'mintues': 6896, 'prison': 8452, 'dad': 2662, 'unnecessarily': 11297, 'sibling': 9745, 'thaads': 10751, 'hybrid': 5066, 'wheel': 11775, 'married': 6589, 'donald': 3177, 'news': 7328, 'host': 4997, 'improvement': 5248, 'population': 8280, 'nra': 7472, 'evil': 3742, 'skinny': 9849, 'jean': 5685, 'hammer': 4718, 'dagenhart': 2667, 'partially': 7885, 'homeowner': 4944, 'begin': 1048, 'put': 8642, 'panel': 7833, 'roof': 9249, 'en': 3532, 'masse': 6621, 'clip': 2042, 'tv': 11131, 'upload': 11336, 'watery': 11701, 'discharge': 3054, 'pregnant': 8380, 'mum': 7118, 'apparently': 548, 'twice': 11137, 'bankruptcy': 944, 'thunderstike': 10826, 'reveal': 9127, 'throughout': 10816, 'genome': 4412, 'platypus': 8181, 'renewable': 9011, 'feasibility': 3967, 'evaluation': 3721, 'lut': 6403, 'ewg': 3751, 'flaw': 4101, 'marked': 6579, 'rat': 8788, 'penetrate': 7983, 'venomous': 11488, 'snake': 9922, 'bite': 1215, 'sick': 9748, 'venom': 11487, 'cure': 2617, 'harm': 4764, 'proceed': 8472, 'amplify': 426, 'signal': 9759, 'recipient': 8851, 'lifeguard': 6204, 'aquatic': 590, 'diameter': 2963, 'bob': 1286, 'pendulum': 7982, 'multiplication': 7115, 'quantitative': 8665, 'percentage': 7999, 'intuitive': 5524, 'route': 9270, 'houston': 5012, 'san': 9372, 'francisco': 4234, 'structure': 10306, 'conversion': 2399, 'bba': 1002, 'bbm': 1005, 'comedk': 2165, 'motivation': 7057, 'receive': 8842, 'lotion': 6349, 'alone': 360, 'hypothetically': 5093, 'fill': 4043, 'grenade': 4625, 'enemy': 3553, 'combatant': 2159, 'syllabic': 10537, 'consonant': 2332, 'sanskrit': 9381, 'varnamala': 11447, 'vowel': 11631, 'clothes': 2054, 'article': 662, 'journal': 5760, 'tow': 10949, 'total': 10937, 'obedience': 7513, 'creature': 2534, 'dental': 2844, 'marketing': 6583, 'dentist': 2845, 'cambridge': 1606, 'pune': 8611, 'chapter': 1831, 'assignment': 715, 'revoke': 9135, 'pound': 8326, 'yes': 11982, 'apple': 557, 'radio': 8721, 'surge': 10465, 'member': 6744, 'part': 7882, 'incorporate': 5278, 'ike': 5179, 'ibeabuchi': 5104, 'somebody': 9991, 'guide': 4658, 'purchase': 8623, 'exercise': 3792, 'pleasure': 8193, 'enema': 3552, 'walter': 11666, 'bedell': 1036, 'beetle': 1045, 'kenya': 5860, 'foe': 4141, 'resident': 9071, 'suspension': 10491, 'profitable': 8499, 'leasing': 6107, 'plant': 8168, 'indoor': 5317, 'maintanable': 6480, 'newly': 7327, 'retire': 9115, 'midnight': 6844, 'kota': 5962, 'swing': 10527, 'mood': 7022, 'kennedy': 5856, 'beijing': 1058, 'cone': 2282, 'next': 7335, 'park': 7872, 'container': 2359, 'render': 9009, 'presentation': 8401, 'ronaldinho': 9246, 'casual': 1717, 'present': 8400, 'minister': 6889, 'karnataka': 5828, 'korean': 5958, 'parade': 7845, 'march': 6565, 'exaggerated': 3757, 'goose': 4543, 'unsuccessful': 11318, 'prey': 8428, 'soon': 10005, 'bos': 1340, 'porn': 8285, 'imortant': 5218, 'tall': 10590, 'sportsman': 10106, 'strategy': 10274, 'startup': 10178, 'reach': 8809, 'target': 10618, 'audience': 786, 'ad': 120, 'devil': 2939, 'grandmother': 4586, 'wrestling': 11919, 'wrastling': 11915, 'sudden': 10377, 'intrusive': 5522, 'crochet': 2558, 'scarf': 9436, 'pattern': 7929, 'brian': 1423, 'griffin': 4629, 'frequently': 4255, 'itchy': 5631, 'apparent': 547, 'usually': 11383, 'isolated': 5615, 'gene': 4395, 'allele': 344, 'con': 2255, 'surface': 10463, 'accord': 69, 'pet': 8054, 'belief': 1064, 'elite': 3474, 'paycheck': 7940, 'plus': 8202, 'debit': 2737, 'mp': 7079, 'sasuke': 9395, 'naruto': 7210, 'indra': 5319, 'ashura': 681, 'brother': 1460, 'phrase': 8102, 'economics': 3373, 'player': 8185, 'bjp': 1218, 'punjab': 8616, 'shouldnt': 9718, 'executive': 3789, 'contribution': 2384, 'abandoned': 11, 'campania': 1612, 'italy': 5627, 'lyft': 6409, 'reinstall': 8956, 'loved': 6359, 'naval': 7233, 'agni': 236, 'missile': 6916, 'mughals': 7101, 'descendant': 2882, 'genghis': 4408, 'khan': 5879, 'lifehacks': 6205, 'kick': 5885, 'function': 4315, 'amylose': 430, 'basketball': 983, 'france': 4228, 'cme': 2070, 'motorcycle': 7065, 'toronto': 10927, 'exempt': 3790, 'motion': 7055, 'whiteboard': 11796, 'lunch': 6396, 'cramp': 2514, 'um': 11189, 'uncomfortable': 11213, 'response': 9090, 'nucleus': 7485, 'insist': 5415, 'kubernetes': 5975, 'backend': 880, 'docker': 3148, 'cto': 2596, 'dating': 2705, 'bore': 1330, 'diffferently': 2995, 'stream': 10276, 'pixelated': 8150, 'choppy': 1924, 'subcontinent': 10336, 'girlfriend': 4473, 'sufficient': 10383, 'workplace': 11892, 'ham': 4716, 'licencing': 6197, 'asoc': 690, 'examination': 3759, 'welcome': 11746, 'cloud': 2056, 'solid': 9975, 'frieza': 4274, 'adam': 122, 'angelo': 464, 'kim': 5901, 'kardasian': 5824, 'novel': 7463, 'recommend': 8863, 'actress': 115, 'harvey': 4775, 'weinstein': 11743, 'queer': 8679, 'separation': 9586, 'nuremberg': 7496, 'earphone': 3336, 'mobile': 6951, 'partition': 7891, 'attitudes': 773, 'catchweight': 1729, 'match': 6630, 'overlay': 7739, 'levi': 6173, 'forecast': 4169, 'commodity': 2187, 'iq': 5571, 'leroy': 6153, 'robert': 9208, 'satchel': 9397, 'paige': 7799, 'mar': 6561, 'perfume': 8016, 'underground': 11228, 'pimple': 8129, 'hurt': 5060, 'pop': 8274, 'chad': 1804, 'ancestor': 448, 'wolf': 11867, 'wolverine': 11868, 'virgin': 11564, 'blow': 1271, 'koran': 5956, 'translation': 11009, 'raisin': 8739, 'rare': 8783, 'delicacy': 2807, 'sap': 9383, 'ewm': 3752, 'foundation': 4208, 'ritzman': 9192, 'cdn': 1758, 'positively': 8301, 'globalization': 4495, 'eyeliner': 3866, 'lashline': 6052, 'diesel': 2980, 'locomotive': 6305, 'railway': 8735, 'double': 3199, 'circulation': 1968, 'trend': 11036, 'careamics': 1677, 'display': 3091, 'amateur': 390, 'reader': 8816, 'swear': 10514, 'emotion': 3511, 'random': 8764, 'riddle': 9165, 'diophantine': 3025, 'equation': 3635, 'math': 6634, 'cardio': 1675, 'surgeon': 10466, 'anil': 471, 'bhan': 1127, 'senior': 9568, 'yr': 12006, 'exp': 3805, 'motivate': 7056, 'merton': 6783, 'sociologist': 9955, 'undeveloped': 11243, 'tend': 10707, 'placement': 8155, 'vlsiguru': 11604, 'earlier': 3330, 'mortgage': 7042, 'potassium': 8318, 'pineapple': 8131, 'juice': 5776, 'mermaid': 6782, 'chittorgarh': 1909, 'beverage': 1114, 'emoticon': 3510, 'friends': 4272, 'calculate': 1576, 'radius': 8726, 'mechanism': 6695, 'action': 107, 'xulane': 11955, 'contraceptive': 2377, 'patch': 7914, 'ignorance': 5157, 'bliss': 1255, 'lie': 6201, 'vocal': 11607, 'inch': 5265, 'erect': 3651, 'rocket': 9214, 'satellite': 9398, 'orbit': 7655, 'circle': 1963, 'neutrophil': 7320, 'wbc': 11709, 'platelet': 8176, 'lymphocyte': 6410, 'infection': 5337, 'enlarged': 3576, 'salivary': 9356, 'gland': 4487, 'sore': 10010, 'throat': 10813, 'fever': 4014, 'sinnister': 9817, 'underlying': 11231, 'bharathnatyam': 1131, 'annanagar': 482, 'approval': 576, 'request': 9054, 'kidnapping': 5889, 'spell': 10071, 'castrate': 1715, 'penance': 7978, 'postgraduate': 8314, 'nimhans': 7371, 'hons': 4969, 'webmd': 11724, 'mayo': 6659, 'iim': 5168, 'xii': 11945, 'obc': 7512, 'shotgun': 9715, 'neb': 7262, 'board': 1283, 'nepal': 7288, 'ten': 10705, 'posses': 8302, 'potential': 8320, 'dependant': 2852, 'statement': 10182, 'competence': 2216, 'quorreled': 8696, 'overrate': 7743, 'uninterruptible': 11270, 'mode': 6954, 'cooky': 2414, 'exponential': 3836, 'frac': 4219, 'sqrt': 10122, 'courtesy': 2488, 'useable': 11370, 'exit': 3802, 'kingdom': 5907, 'mnc': 6947, 'construction': 2345, 'monopoly': 7008, 'spiritual': 10092, 'narcist': 7203, 'ptsd': 8589, 'coagulate': 2080, 'lourdes': 6357, 'sebastián': 9513, 'french': 4252, 'justify': 5796, 'columbus': 2153, 'fifa': 4030, 'imo': 5217, 'frontend': 4284, 'amp': 424, 'per': 7996, 'km': 5926, 'perpetuate': 8035, 'sexism': 9629, 'niccolò': 7345, 'machiavelli': 6422, 'contributor': 2385, 'renaissance': 9008, 'inferior': 5340, 'anglocentric': 468, 'frustration': 4294, 'organize': 7680, 'atheist': 743, 'knock': 5935, 'transfer': 10995, 'attorney': 774, 'element': 3464, 'atom': 754, 'mainly': 6476, 'empty': 3529, 'policeman': 8237, 'squad': 10123, 'gorgeous': 4548, 'boxer': 1363, 'allen': 345, 'bet': 1108, 'grade': 4573, 'playful': 8186, 'teasing': 10658, 'artificial': 665, 'island': 5609, 'manhattan': 6531, 'sehwag': 9542, 'academy': 51, 'chris': 1933, 'tashima': 10622, 'downgrade': 3207, 'resume': 9105, 'position': 8299, 'leadership': 6093, 'mesh': 6786, 'mist': 6921, 'eliminator': 3471, 'errand': 3660, 'vlogging': 11602, 'approximately': 579, 'intermediate': 5481, 'figure': 4035, 'skating': 9838, 'generally': 4397, 'assume': 722, 'gap': 4358, 'measure': 6688, 'pretty': 8418, 'floyd': 4124, 'legend': 6125, 'classic': 1999, 'doordarshan': 3188, 'ducktales': 3278, 'talespin': 10587, 'jungle': 5786, 'aladdin': 292, 'onsite': 7612, 'ssd': 10137, 'esd': 3669, 'electronic': 3458, 'storage': 10253, 'quoras': 8695, 'blind': 1249, 'eye': 3862, 'quorans': 8694, 'abusive': 46, 'insincere': 5414, 'seo': 9582, 'marijuana': 6571, 'illegal': 5182, 'proven': 8562, 'greed': 4616, 'misinformation': 6909, 'lift': 6209, 'rage': 8729, 'tailgate': 10577, 'cut': 2638, 'knaresborough': 5929, 'england': 3569, 'mangalore': 6527, 'mysore': 7163, 'ee': 3395, 'vssut': 11638, 'global': 4492, 'counsellor': 2474, 'certification': 1793, 'pauline': 7933, 'donkey': 3180, 'kong': 5955, 'princess': 8440, 'peach': 7959, 'crowd': 2567, 'serious': 9599, 'synopsis': 10554, 'stem': 10208, 'injection': 5388, 'arthritic': 660, 'wrist': 11921, 'focus': 4139, 'procrastinate': 8477, 'ottoman': 7706, 'levant': 6168, 'arabian': 595, 'balkan': 911, 'betray': 1110, 'empire': 3517, 'afford': 214, 'hashimoto': 4777, 'blame': 1229, 'seizure': 9543, 'entirely': 3599, 'behaviour': 1054, 'tad': 10573, 'cummins': 2610, 'leniency': 6144, 'tj': 10876, 'maxx': 6656, 'attempt': 766, 'entertain': 3593, 'assure': 723, 'authentic': 808, 'assessment': 711, 'scrutiny': 9495, 'optimal': 7645, 'lonavala': 6324, 'crabbily': 2507, 'hunger': 5052, 'liberals': 6188, 'reality': 8824, 'foundry': 4211, 'percent': 7998, 'abrasive': 31, 'mineral': 6881, 'classify': 2003, 'biotic': 1197, 'factor': 3885, 'interact': 5467, 'abiotic': 20, 'telecommunication': 10680, 'rahul': 8733, 'pretending': 8415, 'iit': 5175, 'foreigner': 4172, 'lithium': 6270, 'dioxide': 3028, 'contain': 2358, 'metal': 6797, 'diploblastik': 3030, 'billion': 1170, 'frost': 4286, 'dropper': 3252, 'exactly': 3755, 'verify': 11498, 'characterize': 1835, 'clair': 1992, 'lune': 6398, 'natural': 7225, 'exploit': 3831, 'foster': 4205, 'trudeau': 11083, 'nationalistic': 7220, 'ideal': 5130, 'brexit': 1421, 'lepen': 6152, 'microbiology': 6834, 'astoundingly': 726, 'vast': 11453, 'cleverly': 2025, 'sarcastic': 9387, 'rest': 9095, 'indiaqr': 5299, 'compatible': 2212, 'paytm': 7943, 'qr': 8658, 'code': 2095, 'austria': 807, 'rationally': 8795, 'sensitive': 9573, 'cancel': 1626, 'lost': 6347, 'fully': 4311, 'transform': 10997, 'oneself': 7607, 'putin': 8643, 'cyber': 2646, 'slander': 9864, 'propagandist': 8525, 'realignment': 8821, 'essentially': 3678, 'globalism': 4494, 'taxi': 10637, 'hacked': 4693, 'marketer': 6582, 'influencer': 5355, 'abu': 42, 'dhabi': 2947, 'resistor': 9080, 'transistor': 11004, 'breadboard': 1402, 'statistic': 10189, 'soccer': 9945, 'tighten': 10842, 'immigration': 5210, 'resolution': 9081, 'audiology': 789, 'odds': 7559, 'desertification': 2887, 'sleeveless': 9876, 'frown': 4287, 'upon': 11337, 'indonesian': 5316, 'tube': 11100, 'hippopotamus': 4895, 'gorgops': 4549, 'primate': 8435, 'non': 7416, 'ivy': 5640, 'league': 6096, 'expandable': 3807, 'dreamweaver': 3237, 'band': 928, 'nightwish': 7365, 'romanian': 9239, 'indefinite': 5289, 'feminine': 3989, 'una': 11193, 'origin': 7684, 'ejaculate': 3426, 'ear': 3327, 'canal': 1623, 'stds': 10200, 'aid': 254, 'condom': 2278, 'tigernut': 10840, 'fattening': 3949, 'fridge': 4266, 'ias': 5100, 'vellore': 11480, 'peaceful': 7956, 'unanth': 11196, 'mooc': 7021, 'provider': 8565, 'kochi': 5944, 'munnar': 7123, 'afternoon': 225, 'infect': 5335, 'chlamydia': 1911, 'kissing': 5915, 'bill': 1167, 'shorty': 9712, 'award': 851, 'modernize': 6963, 'theme': 10768, 'pro': 8462, 'cruise': 2574, 'offer': 7568, 'freely': 4247, 'eardrum': 3329, 'eligible': 3468, 'decision': 2752, 'grape': 4595, 'prominent': 8515, 'flavor': 4099, 'dimetapp': 3017, 'medicine': 6711, 'connect': 2305, 'output': 7721, 'clickbait': 2029, 'paul': 7932, 'ii': 5163, 'mistress': 6924, 'kneeler': 5931, 'elon': 3481, 'musk': 7144, 'alien': 326, 'fragment': 4222, 'cross': 2563, 'lumberyard': 6391, 'myth': 7168, 'propagate': 8526, 'ffffound': 4017, 'premier': 8387, 'perform': 8011, 'competition': 2217, 'subscription': 10354, 'dirty': 3043, 'turkish': 11122, 'ancestry': 449, 'wife': 11815, 'vacant': 11403, 'rental': 9016, 'property': 8530, 'paranormal': 7858, 'caste': 1710, 'kamma': 5812, 'velama': 11479, 'subcastes': 10333, 'cmat': 2068, 'decent': 2747, 'principle': 8443, 'categorize': 1732, 'monitor': 7002, 'insanity': 5409, 'beyond': 1118, 'waite': 11651, 'phillips': 8078, 'michael': 6825, 'wallis': 11660, 'sunburn': 10412, 'apollo': 539, 'spirulina': 10093, 'tablet': 10567, 'aim': 258, 'clothing': 2055, 'designer': 2891, 'sought': 10013, 'dropout': 3251, 'google': 4541, 'abs': 33, 'adhesive': 143, 'punishment': 8615, 'iam': 5099, 'ubuntu': 11163, 'aws': 857, 'wake': 11653, 'dominate': 3175, 'nature': 7228, 'fearless': 3965, 'francine': 4232, 'pascal': 7896, 'fetxh': 4013, 'lakh': 6017, 'danny': 2692, 'wall': 11658, 'hymn': 5081, 'landed': 6025, 'immigrant': 5208, 'blue': 1274, 'beer': 1043, 'advertise': 182, 'mega': 6724, 'humanity': 5033, 'whistle': 11794, 'loundly': 6356, 'mosk': 7046, 'giant': 4456, 'incinerator': 5268, 'chamber': 1819, 'teach': 10649, 'tokyo': 10894, 'lessen': 6159, 'frequent': 4254, 'soledad': 9972, 'colombia': 2138, 'rice': 9157, 'visible': 11576, 'coaching': 2079, 'ssc': 10136, 'cgl': 1801, 'preparation': 8391, 'manger': 6529, 'regret': 8944, 'helpme': 4841, 'item': 5632, 'hi': 4864, 'streaming': 10278, 'mycaster': 7159, 'minimize': 6885, 'browse': 1464, 'operate': 7624, 'thanks': 10756, 'kurti': 5983, 'unstitched': 11316, 'pachabottu': 7778, 'workout': 11891, 'skilled': 9845, 'amanda': 385, 'rodgers': 9217, 'sensationalism': 9570, 'propaganda': 8524, 'facing': 3883, 'degrading': 2791, 'insult': 5443, 'grammar': 4582, 'obsess': 7533, 'overweight': 7753, 'misfit': 6906, 'homeschooled': 4948, 'bimbo': 1175, 'parallel': 7852, 'revenue': 9130, 'commission': 2181, 'hollywood': 4932, 'theatre': 10761, 'linguistics': 6241, 'facet': 3878, 'armenian': 630, 'georgian': 4432, 'azerbaijanis': 865, 'genetically': 4405, 'cla': 1990, 'grand': 4584, 'coulee': 2470, 'dam': 2676, 'stan': 10161, 'lee': 6114, 'urinate': 11358, 'obsessed': 7534, 'statue': 10192, 'side': 9749, 'smile': 9907, 'racist': 8713, 'irish': 5580, 'remainder': 8989, 'planet': 8162, 'modify': 6966, 'kitchen': 5916, 'vent': 11489, 'stove': 10262, 'odor': 7563, 'wo': 11864, 'apartment': 535, 'batra': 992, 'ludhiana': 6388, 'nehru': 7279, 'pimp': 8128, 'elasticity': 3433, 'studio': 10316, 'simple': 9787, 'laruelle': 6048, 'morgan': 7031, 'freeman': 4248, 'considerd': 2325, 'homosexual': 4954, 'torrent': 10931, 'quick': 8682, 'egregious': 3416, 'cruelty': 2573, 'cruel': 2572, 'perhaps': 8017, 'racially': 8710, 'svce': 10500, 'tamil': 10598, 'teaching': 10652, 'bhagat': 1123, 'vita': 11587, 'functioning': 4316, 'yiddish': 11985, 'khazari': 5882, 'jewish': 5708, 'secret': 9519, 'behind': 1056, 'porsche': 8288, 'pdk': 7954, 'release': 8975, 'dysfuntional': 3322, 'thailand': 10753, 'langan': 6030, 'ctmu': 2595, 'sooner': 10006, 'cable': 1561, 'sterilize': 10218, 'electricity': 3448, 'indians': 5298, 'susceptible': 10487, 'alcohol': 304, 'marcos': 6567, 'identical': 5131, 'twin': 11138, 'young': 12000, 'deceased': 2744, 'share': 9658, 'probate': 8467, 'sindhi': 9803, 'btu': 1485, 'pit': 8145, 'nit': 7381, 'surathkal': 10458, 'friendship': 4273, 'smok': 9910, 'vape': 11436, 'muscular': 7139, 'tension': 10711, 'nourish': 7460, 'tissue': 10870, 'attraction': 777, 'offline': 7574, 'gif': 4463, 'tenor': 10709, 'keyboard': 5873, '谢谢六佬': 12049, 'pinyin': 8136, 'xièxie': 11947, 'liùlâo': 6284, 'aptitude': 586, 'center': 1777, 'coimbatore': 2111, 'trolling': 11069, 'bromelain': 1454, 'curcumin': 2615, 'bioavailability': 1183, 'scenario': 9439, 'trevor': 11038, 'vibrate': 11522, 'tense': 10710, 'bid': 1154, 'al': 289, 'capone': 1654, 'recent': 8843, 'auction': 782, 'fondness': 4155, 'proponent': 8533, 'nouveau': 7461, 'erythromycin': 3664, 'acne': 96, 'minoxidil': 6894, 'beard': 1022, 'approximate': 578, 'trip': 11056, 'manchester': 6516, 'oman': 7600, 'elimination': 3470, 'airline': 267, 'minimum': 6886, 'frozen': 4288, 'easa': 3342, 'atpl': 758, 'steven': 10225, 'spielberg': 10084, 'underrated': 11233, 'tuluá': 11107, 'nokia': 7412, 'deport': 2862, 'ambassador': 396, 'monthly': 7017, 'bran': 1386, 'district': 3115, 'caa': 1555, 'kapil': 5820, 'dev': 2928, 'semen': 9558, 'initial': 5382, 'ngo': 7340, 'decrease': 2760, 'gym': 4683, 'dalit': 2674, 'oher': 7580, 'repay': 9020, 'viteee': 11590, 'ece': 3361, 'specialisation': 10055, 'realize': 8825, 'poetical': 8222, 'biotechnology': 1196, 'sow': 10023, 'stabilizer': 10144, 'ton': 10905, 'gts': 4649, 'hotel': 5002, 'havelock': 4789, 'severely': 9623, 'depressed': 2867, 'fiance': 4019, 'self': 9549, 'evidence': 3741, 'simply': 9792, 'hearsay': 4813, 'imprisonment': 5245, 'hillary': 4881, 'clinton': 2041, 'uniform': 11263, 'terrible': 10722, 'un': 11192, 'assembly': 710, 'kazeroon': 5841, 'epoch': 3627, 'suck': 10374, 'severus': 9624, 'snape': 9926, 'concoct': 2268, 'potion': 8322, 'alzheimer': 383, 'diagnose': 2956, 'frightened': 4276, 'liquids': 6257, 'nutritious': 7502, 'substantial': 10361, 'jadavpur': 5650, 'spot': 10107, 'round': 9265, 'manager': 6511, 'club': 2060, 'promote': 8517, 'kenyan': 5861, 'polite': 8240, 'courteous': 2487, 'disaster': 3050, 'nuke': 7490, 'investor': 5540, 'shy': 9741, 'struggle': 10308, 'halfway': 4708, 'scared': 9435, 'allows': 355, 'moron': 7037, 'supporter': 10450, 'lesson': 6160, 'stupid': 10325, 'bound': 1353, 'engel': 3562, 'vitale': 11588, 'absorbed': 39, 'freinds': 4251, 'scratch': 9479, 'influential': 5356, 'vendor': 11484, 'reject': 8961, 'slatwall': 9866, 'bhopal': 1140, 'draft': 3219, 'dogme': 3162, 'daddy': 2664, 'quantico': 8664, 'americans': 409, 'southern': 10020, 'whine': 11787, 'jim': 5718, 'crow': 2566, 'appreciator': 571, 'waitlist': 11652, 'sls': 9893, 'belong': 1072, 'luxury': 6406, 'lifestyle': 6207, 'vomit': 11623, 'warangal': 11673, 'map': 6560, 'problen': 8470, 'ant': 502, 'leftover': 6118, 'babe': 870, 'ruth': 9313, 'digit': 3004, 'seven': 9619, 'mofo': 6970, 'objectionable': 7521, 'fancy': 3918, 'investigator': 5538, 'client': 2030, 'universal': 11278, 'java': 5676, 'caption': 1658, 'insta': 5421, 'disgust': 3074, 'unwatermarking': 11327, 'japan': 5669, 'invade': 5527, 'six': 9831, 'cherry': 1884, 'blossom': 1270, 'alicia': 325, 'purely': 8626, 'salarie': 9350, 'simplify': 9791, 'shopping': 9703, 'sikkim': 9768, 'filmora': 4046, 'adobe': 160, 'premiere': 8388, 'pencil': 7979, 'digital': 3005, 'canvas': 1641, 'ernest': 3656, 'dwarf': 3314, 'fortress': 4198, 'stoicism': 10248, 'inxj': 5551, 'intj': 5509, 'infj': 5349, 'stoic': 10247, 'pore': 8282, 'tough': 10942, 'breakup': 1409, 'existence': 3798, 'energetic': 3554, 'pwd': 8650, 'merit': 6779, 'navy': 7238, 'technical': 10661, 'ssb': 10135, 'brace': 1374, 'campco': 1614, 'chocolate': 1916, 'weak': 11711, 'unconditionally': 11214, 'edward': 3394, 'snowden': 9940, 'traitor': 10985, 'hero': 4855, 'soil': 9967, 'erosion': 3657, 'ahmedabad': 247, 'labour': 5998, 'central': 1778, 'oscar': 7697, 'equality': 3633, 'bouble': 1350, 'tuba': 11099, 'transposition': 11017, 'xxl': 11958, 'panda': 7828, 'reinforcement': 8954, 'dome': 3171, 'bravery': 1398, 'winner': 11839, 'thor': 10795, 'ragnarok': 8730, 'warren': 11685, 'buffet': 1500, 'hometown': 4949, 'mpumalanga': 7083, 'tnie': 10880, 'fresher': 4258, 'usage': 11363, 'pack': 7783, 'ab': 9, 'screw': 9488, 'anonymously': 495, 'reliance': 8979, 'jio': 5722, 'merge': 6776, 'baker': 905, 'misremember': 6913, 'underwear': 11241, 'smell': 9905, 'ammonia': 416, 'induce': 5320, 'replicate': 9030, 'manipulative': 6538, 'whore': 11802, 'duplex': 3301, 'juli': 5777, 'financially': 4054, 'xo': 11952, 'ringtones': 9181, 'dialer': 2962, 'tone': 10906, 'irritate': 5591, 'default': 2774, 'ringtone': 9180, 'hypocrite': 5089, 'particle': 7889, 'intrapleural': 5515, 'inhale': 5379, 'trouser': 11080, 'jacket': 5646, 'wrinkle': 11920, 'lithuania': 6271, 'muscle': 7138, 'adductovarus': 137, 'toe': 10888, 'bfsi': 1121, 'cibil': 1956, 'audiences': 787, 'pornography': 8287, 'maturity': 6649, 'proton': 8556, 'orbital': 7656, 'painful': 7802, 'cv': 2642, 'intolerant': 5511, 'brave': 1397, 'equinix': 3639, 'interest': 5474, 'apparences': 546, 'futile': 4332, 'worldwide': 11896, 'promotion': 8518, 'path': 7917, 'visio': 11577, 'kiet': 5891, 'ghaziabad': 4450, 'whatever': 11768, 'discuss': 3069, 'involve': 5548, 'biden': 1155, 'bee': 1039, 'peasant': 7962, 'ir': 5573, 'gmat': 4507, 'binary': 1177, 'breakimg': 1407, 'nht': 7343, 'distributor': 3114, 'approachable': 573, 'upcoming': 11330, 'fork': 4183, 'federalism': 3974, 'colleges': 2134, 'tiss': 10868, 'hrm': 5019, 'ti': 10830, 'csc': 2589, 'ucranian': 11169, 'street': 10281, 'yuri': 12012, 'gagarin': 4341, 'jared': 5672, 'kushner': 5984, 'kelly': 5851, 'mcmaster': 6675, 'yrs': 12007, 'recep': 8845, 'tayyip': 10642, 'erdoğan': 3650, 'ataturk': 739, 'svg': 10501, 'wikipedia': 11818, 'bailey': 901, 'cream': 2525, 'freshman': 4260, 'exclusive': 3784, 'holocaust': 4935, 'continent': 2369, 'moral': 7026, 'bang': 935, 'cycle': 2648, 'mortal': 7039, 'kombat': 5952, 'theft': 10765, 'auto': 820, 'lighter': 6215, 'pocket': 8214, 'crowded': 2568, 'hamper': 4719, 'butane': 1540, 'ink': 5391, 'bleed': 1244, 'onto': 7614, 'press': 8408, 'doughnut': 3202, 'marsha': 6593, 'administration': 154, 'cort': 2456, 'ibanez': 5103, 'gio': 4470, 'heavy': 4822, 'rcb': 8806, 'jersey': 5698, 'virat': 11563, 'kohli': 5947, 'transgenders': 11002, 'advise': 187, 'migrate': 6850, 'peddler': 7967, 'texas': 10738, 'constitution': 2340, 'medinah': 6714, 'homeless': 4941, 'wealthy': 11714, 'initiator': 5386, 'pursuer': 8637, 'creepy': 2540, 'pervert': 8052, 'gesture': 4443, 'neuro': 7308, 'replication': 9031, 'transcription': 10993, 'mahindra': 6466, 'kuv': 5987, 'tuv': 11129, 'xuv': 11956, 'crypto': 2581, 'kitty': 5919, 'aliyar': 336, 'roblox': 9210, 'cart': 1695, 'albino': 300, 'cories': 2433, 'fish': 4076, 'goldfish': 4529, 'giselle': 4477, 'salandy': 9349, 'ring': 9179, 'monte': 7014, 'cristo': 2550, 'alexandre': 313, 'duma': 3286, 'impose': 5237, 'tariff': 10619, 'domestic': 3172, 'poltics': 8256, 'independent': 5292, 'dependent': 2854, 'variable': 11441, 'slow': 9891, 'relay': 8974, 'soldier': 9970, 'carry': 1693, 'ammunition': 418, 'combat': 2158, 'orchestar': 7658, 'addict': 129, 'addiction': 130, 'bypass': 1550, 'security': 9532, 'birthday': 1206, 'conductor': 2281, 'algeria': 319, 'cookbook': 2410, 'reddit': 8888, 'politely': 8242, 'upvote': 11345, 'meme': 6747, 'internal': 5484, 'beauty': 1029, 'quoran': 8693, 'orson': 7691, 'techonolgy': 10669, 'speaker': 10049, 'io': 5552, 'mongolian': 6998, 'gypsy': 4686, 'turk': 11119, 'eu': 3707, 'desperately': 2899, 'adsense': 169, 'craft': 2509, 'vaporize': 11438, 'nuclear': 7483, 'tipped': 10863, 'torpedo': 10928, 'fearsome': 3966, 'weapon': 11715, 'technologically': 10667, 'acc': 52, 'killer': 5896, 'shortwave': 9711, 'controversial': 2390, 'mention': 6764, 'mary': 6606, 'winstead': 11841, 'michal': 6826, 'jackson': 5647, 'plastické': 8173, 'surggery': 10468, 'billionare': 1172, 'hong': 4963, 'locate': 6299, 'willing': 11826, 'taliban': 10588, 'evening': 3726, 'muon': 7127, 'cosmic': 2461, 'detector': 2917, 'building': 1505, 'cdp': 1759, 'network': 7304, 'interface': 5478, 'september': 9589, 'adhaar': 140, 'proof': 8523, 'upvotes': 11347, 'star': 10167, 'dy': 3316, 'hole': 4929, 'scatter': 9438, 'singularity': 9814, 'screaming': 9481, 'nasty': 7215, 'bedroom': 1038, 'yo': 11988, 'suggestion': 10389, 'disinfect': 3077, 'earring': 3337, 'faculty': 3888, 'dhanbad': 2948, 'infrastructure': 5369, 'intellect': 5454, 'gadget': 4339, 'fabs': 3875, 'excessive': 3776, 'removal': 9003, 'bloodhound': 1267, 'unmarried': 11295, 'couple': 2483, 'upvoted': 11346, 'feed': 3978, 'complication': 2233, 'pill': 8125, 'offset': 7575, 'third': 10793, 'deliberate': 2805, 'emigration': 3500, 'sane': 9377, 'wto': 11931, 'serve': 9605, 'grilled': 4632, 'veda': 11464, 'muslims': 7146, 'slim': 9880, 'bible': 1149, 'jesus': 5700, 'apostle': 542, 'beg': 1047, 'sarah': 9385, 'abraham': 30, 'banish': 940, 'ishmael': 5602, 'velpatasvir': 11483, 'singapore': 9807, 'eliminate': 3469, 'corruption': 2455, 'dictator': 2974, 'loy': 6366, 'machedo': 6421, 'rape': 8777, 'alveolus': 380, 'artery': 659, 'pharynx': 8069, 'trachea': 10963, 'bronchus': 1457, 'quantity': 8666, 'fuel': 4304, 'handsome': 4736, 'tripple': 11059, 'tallak': 10592, 'paragraph': 7848, 'finger': 4058, 'resistance': 9078, 'prospective': 8546, 'zambia': 12017, 'sociology': 9956, 'jeremiah': 5694, 'duggar': 3282, 'summation': 10407, 'definite': 2786, 'integral': 5448, 'concept': 2261, 'wallow': 11661, 'idiocy': 5139, 'drdo': 3233, 'odd': 7557, 'israeli': 5621, 'logo': 6317, 'fi': 4018, 'astronomy': 732, 'sector': 9526, 'saturate': 9403, 'motivational': 7058, 'stage': 10150, 'infamous': 5333, 'specification': 10063, 'jong': 5754, 'armored': 633, 'mercedes': 6768, 'benz': 1096, 'limo': 6231, 'eyebrow': 3863, 'meditation': 6716, 'barrel': 964, 'rider': 9167, 'horse': 4989, 'hitler': 4906, 'overpopulation': 7741, 'flower': 4122, 'fresh': 4256, 'mehendi': 6730, 'democrat': 2825, 'homophobic': 4953, 'rethink': 9113, 'rhetoric': 9148, 'dinner': 3023, 'invasion': 5529, 'ukraine': 11184, 'polish': 8239, 'revenge': 9129, 'wolyn': 11869, 'ukrainian': 11185, 'brutally': 1475, 'murder': 7130, 'thousand': 10801, 'haemoglobin': 4697, 'linkin': 6246, 'cool': 2415, 'desktop': 2897, 'substance': 10360, 'receipt': 8841, 'jamshedpur': 5665, 'mirror': 6899, 'attractive': 778, 'freudian': 4261, 'recession': 8848, 'palisade': 7821, 'tower': 10953, 'porion': 8283, 'conviction': 2403, 'pardon': 7864, 'annie': 485, 'vivanti': 11594, 'mea': 6679, 'culpa': 2603, 'prostitute': 8548, 'community': 2197, 'severe': 9622, 'remedy': 8993, 'effectively': 3400, 'boomerang': 1323, 'zone': 12039, 'calvinball': 1603, 'tiller': 10848, 'garden': 4362, 'hanuman': 4744, 'vahana': 11412, 'camel': 1607, 'troubled': 11076, 'goa': 4514, 'ropar': 9255, 'desirable': 2894, 'girls': 4475, 'antique': 516, 'object': 7519, 'emma': 3507, 'indirectly': 5307, 'cenp': 1774, 'mailing': 6472, 'playboy': 8184, 'callboy': 1591, 'tez': 10746, 'offensive': 7567, 'advertising': 184, 'jazzy': 5681, 'rock': 9213, 'gnostic': 4512, 'gospel': 4552, 'forgery': 4178, 'ravioli': 8799, 'cissp': 1976, 'platform': 8177, 'screen': 9483, 'nostradamus': 7442, 'kelvin': 5853, 'transgender': 11000, 'bangkok': 937, 'spi': 10078, 'coep': 2101, 'rural': 9306, 'gall': 4346, 'holm': 4933, 'correia': 2448, 'sand': 9374, 'salt': 9360, 'mixture': 6935, 'front': 4283, 'randomness': 8766, 'solidity': 9978, 'ethereum': 3693, 'url': 11360, 'socialism': 9947, 'cheaper': 1863, 'rent': 9015, 'chip': 1906, 'kathmandu': 5834, 'nd': 7254, 'dumb': 3287, 'consequence': 2315, 'overstay': 7747, 'ballistic': 914, 'eclipse': 3364, 'spamming': 10035, 'rating': 8791, 'borax': 1327, 'toxic': 10955, 'alternator': 374, 'shortcut': 9707, 'challenging': 1817, 'farmer': 3929, 'sacrificial': 9330, 'lamb': 6018, 'deem': 2768, 'han': 4722, 'undergo': 11225, 'castration': 1716, 'implication': 5230, 'plot': 8194, 'pacing': 7782, 'trilogy': 11051, 'qa': 8654, 'rogan': 9220, 'truly': 11085, 'hungry': 5053, 'male': 6495, 'sperm': 10073, 'birth': 1205, 'deactivate': 2719, 'blackbody': 1222, 'spectrum': 10066, 'developmentally': 2935, 'eriksen': 3654, 'signing': 9765, 'rupees': 9305, 'youtuber': 12004, 'debasree': 2734, 'banerjee': 934, 'affiliate': 210, 'radical': 8719, 'whatwill': 11773, 'wrapp': 11914, 'following': 4152, 'behavior': 1052, 'difficulty': 2997, 'paralizing': 7850, 'perfeccionism': 8005, 'depreciaton': 2865, 'rourkela': 9269, 'differently': 2993, 'scream': 9480, 'helplessly': 4840, 'sky': 9855, 'repeat': 9021, 'abvicable': 47, 'feng': 3995, 'shui': 9733, 'geopathic': 4427, 'illustration': 5190, 'hydrate': 5071, 'formation': 4189, 'pastel': 7911, 'goth': 4556, 'bentinho': 1094, 'massaro': 6620, 'jocelyn': 5731, 'daher': 2668, 'cum': 2609, 'lucifer': 6385, 'announce': 488, 'advocate': 190, 'shooting': 9699, 'comfort': 2168, 'scold': 9466, 'lay': 6075, 'hetero': 4861, 'catanation': 1725, 'inspector': 5417, 'format': 4188, 'dole': 3167, 'afterwards': 226, 'nami': 7192, 'seriously': 9600, 'undisputed': 11245, 'iraq': 5577, 'afghanistan': 217, 'legitimate': 6130, 'visa': 11572, 'pitch': 8146, 'leasership': 6106, 'dd': 2716, 'crystal': 2586, 'ethnic': 3698, 'dee': 2766, 'dexter': 2945, 'laboratory': 5997, 'tune': 11114, 'nail': 7186, 'clinically': 2040, 'psychopathic': 8583, 'mrf': 7085, 'airplane': 269, 'tire': 10865, 'moto': 7061, 'censor': 1775, 'translator': 11010, 'fellow': 3984, 'cop': 2421, 'own': 7760, 'overrepresented': 7745, 'shinchan': 9680, 'himawari': 4886, 'eighth': 3422, 'rome': 9243, 'predator': 8364, 'armageddon': 628, 'banning': 946, 'assassin': 704, 'cia': 1955, 'juan': 5769, 'peter': 8055, 'jp': 5765, 'schultz': 9457, 'nba': 7243, 'basket': 982, 'dunk': 3297, 'takeaway': 10581, 'locally': 6298, 'craigslist': 2513, 'marketplace': 6584, 'vietnamese': 11539, 'hated': 4784, 'import': 5234, 'stentor': 10209, 'violin': 11560, 'luts': 6405, 'tile': 10846, 'homeopathy': 4943, 'loss': 6346, 'defibrillator': 2783, 'capacitor': 1647, 'specie': 10060, 'attention': 769, 'elementary': 3465, 'algorithms': 321, 'calder': 1582, 'creepypasta': 2541, 'driving': 3246, 'permit': 8029, 'peruse': 8051, 'modi': 6965, 'scheme': 9446, 'germanic': 4437, 'vocabulary': 11606, 'counterpoint': 2480, 'largely': 6046, 'danger': 2685, 'gonorrhea': 4537, 'doxycycline': 3215, 'fine': 4057, 'din': 3020, 'stockholm': 10244, 'treaty': 11032, 'rapallo': 8776, 'authority': 815, 'guys': 4678, 'excite': 3779, 'chase': 1853, 'scene': 9440, 'millenium': 6862, 'falcon': 3904, 'shall': 9650, 'pulsar': 8605, 'hornet': 4984, 'cryptocurrencies': 2582, 'rapper': 8782, 'album': 301, 'stevia': 10226, 'fluorescent': 4130, 'norm': 7427, 'memorabilia': 6750, 'cult': 2604, 'jonestown': 5753, 'balaguruswamy': 907, 'stressful': 10290, 'consent': 2314, 'sue': 10380, 'bum': 1514, 'zip': 12032, 'lancashire': 6022, 'overachieve': 7732, 'zod': 12034, 'terraform': 10721, 'icwai': 5123, 'icwa': 5122, 'cleanliness': 2014, 'psychological': 8578, 'etsy': 3703, 'aesthetic': 201, 'multimedia': 7112, 'capital': 1650, 'tapper': 10615, 'cleanse': 2015, 'detox': 2925, 'naughty': 7230, 'bombay': 1305, 'ebooks': 3357, 'assistance': 717, 'unable': 11194, 'tirupati': 10867, 'sra': 10128, 'wizard': 11863, 'jock': 5732, 'itch': 5629, 'permanent': 8024, 'medication': 6709, 'tired': 10866, 'fatigue': 3948, 'concentrate': 2259, 'raise': 8738, 'luna': 6395, 'gravity': 4607, 'feminazi': 3988, 'lucknow': 6386, 'cloth': 2053, 'mcneeley': 6676, 'deliberately': 2806, 'journeyman': 5763, 'hype': 5082, 'mike': 6851, 'tyson': 11155, 'upper': 11338, 'maharashtra': 6460, 'grace': 4571, 'fox': 4215, 'ipo': 5567, 'spa': 10028, 'massage': 6619, 'crocodile': 2559, 'scorpion': 9473, 'tradition': 10971, 'kabbalah': 5801, 'fordham': 4168, 'analhak': 433, 'dual': 3271, 'subtitle': 10364, 'hd': 4797, 'krennic': 5970, 'choke': 1920, 'aspiration': 695, 'ellora': 3479, 'sculpture': 9496, 'igneous': 5155, 'comfortably': 2170, 'parel': 7865, 'fundamental': 4319, 'branson': 1393, 'scenic': 9441, 'missouri': 6919, 'bollywood': 1302, 'preview': 8425, 'vega': 11467, 'golden': 4528, 'nhl': 7342, 'openly': 7622, 'sake': 9347, 'calcaneal': 1573, 'spur': 10117, 'polarimerty': 8234, 'optical': 7644, 'harder': 4761, 'johnson': 5741, 'cowboys': 2498, 'belichick': 1063, 'patriot': 7927, 'homosexuality': 4955, 'panchakarma': 7826, 'conjunction': 2304, 'bali': 910, 'cake': 1570, 'anantnag': 442, 'pipe': 8139, 'square': 10125, 'glass': 4488, 'animator': 475, 'rap': 8775, 'outstretched': 7727, 'ward': 11674, 'blackness': 1224, 'lecturing': 6113, 'inspire': 5419, 'djimon': 3138, 'hounsou': 5007, 'spacecraft': 10030, 'momentum': 6984, 'truster': 11093, 'push': 8640, 'variance': 11442, 'proper': 8528, 'equity': 3643, 'attend': 767, 'unbearable': 11203, 'bus': 1533, 'brts': 1467, 'explicitly': 3829, 'ron': 9244, 'deathly': 2733, 'hallows': 4713, 'nigeria': 7358, 'lnmiit': 6289, 'staircases': 10153, 'maybe': 6658, 'surround': 10477, 'parapet': 7859, 'amuse': 428, 'arabic': 596, 'flag': 4088, 'hoist': 4925, 'observe': 7532, 'provoke': 8567, 'reaction': 8811, 'ucsb': 11170, 'ucsd': 11171, 'venezuela': 11485, 'postcard': 8311, 'collector': 2131, 'joseph': 5758, 'simplified': 9790, 'ipcc': 5561, 'copy': 2427, 'baloney': 919, 'downright': 3209, 'pathetic': 7918, 'unemployed': 11249, 'punishable': 8613, 'jail': 5652, 'ethical': 3696, 'hacking': 4695, 'canary': 1625, 'enroll': 3587, 'learnvern': 6104, 'reverse': 9132, 'lois': 6320, 'status': 10194, 'awadhi': 848, 'bajjika': 903, 'bhojpuri': 1138, 'maithili': 6482, 'deposit': 2864, 'betway': 1113, 'eurovision': 3716, 'contest': 2366, 'fuckin': 4302, 'af': 203, 'vapor': 11437, 'continuity': 2373, 'belongs': 1073, 'catchy': 1730, 'quran': 8700, 'speaks': 10051, 'gog': 4522, 'magog': 6454, 'float': 4114, 'stylist': 10331, 'edition': 3387, 'bello': 1070, 'gallico': 4350, 'cascade': 1701, 'lti': 6379, 'causal': 1742, 'stable': 10145, 'inference': 5338, 'silicon': 9775, 'valley': 11425, 'marker': 6580, 'manifest': 6533, 'tbe': 10643, 'db': 2713, 'ki': 5884, 'trinicalm': 11054, 'webassembly': 11721, 'javascript': 5677, 'joint': 5744, 'jointly': 5745, 'revolution': 9137, 'intolerance': 5510, 'kingsman': 5909, 'eggsy': 3412, 'charlie': 1845, 'taunt': 10632, 'rude': 9292, 'dior': 3026, 'payable': 7939, 'flow': 4121, 'dissolve': 3103, 'thorough': 10798, 'typeface': 11146, 'widespread': 11810, 'attitude': 772, 'jury': 5791, 'sucker': 10375, 'jaramogi': 5671, 'oginga': 7577, 'odinga': 7561, 'independence': 5291, 'gwent': 4680, 'geiger': 4390, 'counter': 2477, 'bind': 1178, 'tolerate': 10896, 'nuisance': 7489, 'turtle': 11127, 'additive': 135, 'inverse': 5534, 'negative': 7273, 'netweaver': 7303, 'bowling': 1360, 'massacre': 6618, 'mlk': 6939, 'tanf': 10604, 'benifits': 1091, 'warranty': 11684, 'undergrad': 11226, 'adrenaline': 167, 'pupil': 8618, 'guardian': 4651, 'retrieve': 9119, 'rogue': 9223, 'crew': 2544, 'relocate': 8985, 'ghana': 4447, 'oily': 7584, 'fatherhood': 3946, 'virus': 11571, 'hdd': 4798, 'indirect': 5306, 'correspondence': 2450, 'spacex': 10032, 'cobra': 2088, 'kai': 5807, 'johnny': 5740, 'lawrence': 6072, 'town': 10954, 'euro': 3712, 'tumblr': 11110, 'lgbtq': 6183, 'demonstrate': 2832, 'thermodynamics': 10781, 'hunt': 5054, 'aerie': 195, 'inconsiderate': 5275, 'affair': 206, 'border': 1328, 'internationally': 5487, 'ethene': 3692, 'smooth': 9913, 'jazz': 5680, 'amarnath': 389, 'yatra': 11969, 'peace': 7955, 'touch': 10941, 'butt': 1542, 'kavan': 5837, 'hassan': 4780, 'rouhani': 9264, 'tear': 10655, 'iranian': 5576, 'warfare': 11676, 'topical': 10916, 'lighten': 6214, 'keloid': 5852, 'scar': 9432, 'silicone': 9776, 'gpa': 4566, 'observatory': 7531, 'sham': 9652, 'diode': 3024, 'circumstance': 1972, 'normally': 7429, 'ai': 250, 'chatbot': 1856, 'interesting': 5476, 'los': 6343, 'angeles': 462, 'las': 6049, 'rhythm': 9152, 'breezer': 1417, 'kindle': 5905, 'pokemon': 8230, 'atp': 757, 'synthesis': 10555, 'fortitide': 4196, 'dealership': 2728, 'cute': 2639, 'isb': 5599, 'consulting': 2351, 'sphere': 10074, 'schooler': 9454, 'identify': 5134, 'choledochal': 1921, 'cyst': 2653, 'warrior': 11686, 'swordsman': 10533, 'gypsie': 4685, 'symbolic': 10542, 'logical': 6312, 'nighttime': 7364, 'ambition': 400, 'fibroid': 4023, 'lover': 6361, 'crush': 2575, 'nipple': 7374, 'adult': 171, 'silky': 9777, 'soft': 9963, 'consolidate': 2331, 'postpone': 8316, 'buddhist': 1493, 'monk': 7004, 'linear': 6236, 'circuit': 1964, 'tuberculosis': 11102, 'include': 5271, 'superbug': 10427, 'pose': 8296, 'michelangelo': 6828, 'sistine': 9823, 'chapel': 1830, 'ceiling': 1761, 'meteorite': 6803, 'adolf': 163, 'eichmann': 3419, 'corn': 2434, 'microwave': 6841, 'latino': 6058, 'withdrow': 11857, 'bomblasts': 1308, 'incident': 5267, 'diligence': 3013, 'conduct': 2280, 'henpecked': 4847, 'patterson': 7930, 'philippine': 8077, 'syllabus': 10538, 'crossdress': 2564, 'survival': 10482, 'unit': 11274, 'em': 3487, 'muammar': 7096, 'gaddafi': 4338, 'kenoly': 5857, 'jennifer': 5692, 'katharine': 5832, 'hepburn': 4849, 'meryl': 6785, 'streep': 10280, 'genocidal': 4410, 'uproot': 11340, 'examiner': 3761, 'derivation': 2875, 'ncert': 7249, 'uan': 11159, 'till': 10847, 'required': 9056, 'habib': 4688, 'fanny': 3921, 'eventually': 3730, 'pariah': 7870, 'ultimate': 11187, 'snowflake': 9941, 'correspondent': 2451, 'inductor': 5322, 'dc': 2714, 'kn': 5928, 'tha': 10750, 'protagonist': 8549, 'calorie': 1599, 'hershey': 4858, 'kiss': 5914, 'lucid': 6384, 'astral': 727, 'projection': 8512, 'permanently': 8025, 'conscious': 2311, 'transformation': 10998, 'jacobian': 5648, 'limitation': 6229, 'spouse': 10108, 'recently': 8844, 'drunk': 3258, 'apostate': 541, 'protrons': 8559, 'neutron': 7319, 'commits': 2184, 'गई': 12048, 'narendra': 7205, 'bsnl': 1482, 'constipation': 2338, 'apart': 534, 'madhya': 6435, 'pradesh': 8347, 'cite': 1979, 'false': 3908, 'alarm': 295, 'nightmare': 7363, 'tummy': 11111, 'ache': 88, 'laravel': 6044, 'obstacle': 7538, 'superpower': 10443, 'jakarta': 5657, 'wander': 11668, 'epoxy': 3628, 'coating': 2086, 'cement': 1773, 'soylent': 10026, 'strawberry': 10275, 'digitally': 3007, 'tale': 10584, 'lacrimal': 6004, 'punctum': 8610, 'swell': 10521, 'ally': 357, 'bcz': 1010, 'excel': 3767, 'analyse': 436, 'cbit': 1750, 'dignity': 3009, 'patriarchal': 7924, 'compromise': 2246, 'dipole': 3034, 'ohm': 7582, 'impedance': 5223, 'refrigerator': 8926, 'kerala': 5863, 'engineerer': 3567, 'recommed': 8862, 'bondage': 1310, 'wind': 11830, 'umour': 11191, 'swann': 10508, 'eden': 3381, 'remark': 8990, 'com': 2155, 'fiitjee': 4036, 'iitjee': 5177, 'navi': 7234, 'cabinet': 1560, 'beneath': 1081, 'elasticated': 3432, 'fitted': 4082, 'tuck': 11103, 'corner': 2436, 'exhibit': 3795, 'symptom': 10548, 'cerebral': 1788, 'hypoxia': 5094, 'roth': 9260, 'anthony': 507, 'van': 11430, 'halen': 4706, 'capitalize': 1653, 'iipe': 5171, 'vizag': 11599, 'title': 10874, 'synthetic': 10556, 'fiber': 4021, 'bio': 1182, 'chemist': 1878, 'deep': 2769, 'kvpy': 5991, 'interviewer': 5505, 'newspaper': 7329, 'benchmark': 1079, 'repercussion': 9027, 'forum': 4200, 'divide': 3126, 'clone': 2047, 'failure': 3892, 'playstore': 8189, 'labtop': 5999, 'broadcast': 1445, 'useless': 11374, 'crap': 2516, 'abort': 27, 'consumption': 2356, 'migraine': 6848, 'nursing': 7498, 'reside': 9068, 'cretaceous': 2543, 'extinction': 3851, 'catholic': 1737, 'church': 1952, 'onion': 7609, 'intensity': 5461, 'radiator': 8718, 'peak': 7960, 'wavelength': 11704, 'inceases': 5262, 'christmas': 1938, 'mbm': 6664, 'jodhpur': 5734, 'crossover': 2565, 'mic': 6824, 'venue': 11492, 'musician': 7143, 'reunite': 9124, 'lesotho': 6157, 'swaziland': 10513, 'namibia': 7193, 'maid': 6468, 'heartbreak': 4816, 'eradicate': 3647, 'npd': 7470, 'gordon': 4547, 'miller': 6864, 'tarzana': 10621, 'edgar': 3382, 'burroughs': 1530, 'tarzan': 10620, 'seoul': 9583, 'vegan': 11468, 'inuyasha': 5526, 'citizenship': 1981, 'lola': 6322, 'blanc': 1230, 'parameter': 7855, 'nosy': 7444, 'untrustworthy': 11321, 'anybody': 525, 'rob': 9203, 'bunty': 1519, 'whose': 11804, 'oye': 7771, 'lucky': 6387, 'cursor': 2625, 'autism': 817, 'liquid': 6254, 'complex': 2227, 'polyamorous': 8257, 'societal': 9951, 'backfire': 881, 'feminist': 3993, 'sjws': 9834, 'ucas': 11165, 'ap': 532, 'sat': 9396, 'retainer': 9109, 'toilet': 10892, 'diploma': 3031, 'imas': 5200, 'cma': 2067, 'honor': 4966, 'bunheads': 1518, 'direct': 3035, 'asia': 683, 'turkic': 11121, 'conquest': 2309, 'rama': 8748, 'avatar': 839, 'vishnu': 11575, 'shivaji': 9691, 'maharaj': 6459, 'father': 3945, 'spanish': 10037, 'plagiocephaly': 8158, 'cast': 1709, 'validity': 11423, 'photograph': 8093, 'painting': 7807, 'consistent': 2327, 'chafe': 1805, 'suggest': 10388, 'asymmetrical': 737, 'hotmail': 5004, 'duke': 3285, 'kkk': 5922, 'evolve': 3749, 'clarify': 1994, 'density': 2842, 'drift': 3239, 'brighter': 1432, 'spark': 10041, 'stereotypical': 10216, 'confidence': 2288, 'arrogance': 654, 'acoustic': 97, 'guitar': 4662, 'pub': 8591, 'statistical': 10190, 'library': 6195, 'immature': 5205, 'fuck': 4300, 'koko': 5949, 'gorilla': 4550, 'masculine': 6611, 'slavoj': 9870, 'žižek': 12046, 'karl': 5826, 'marx': 6603, 'dispatcher': 3088, 'medically': 6707, 'qualify': 8661, 'empower': 3526, 'seriousness': 9601, 'caller': 1593, 'scaler': 9424, 'agree': 239, 'polygamous': 8260, 'mythology': 7172, 'folklore': 4148, 'teenage': 10675, 'competitive': 2218, 'boxing': 1364, 'ship': 9682, 'cleaning': 2013, 'detailing': 2911, 'exterior': 3847, 'interior': 5480, 'citycarclean': 1983, 'multiverse': 7117, 'viking': 11547, 'sweden': 10518, 'finland': 4063, 'georgia': 4431, 'nato': 7224, 'usual': 11382, 'deterministic': 2924, 'nondeterministic': 7417, 'gendered': 4394, 'familiar': 3912, 'anthropology': 508, 'ect': 3377, 'aluminum': 378, 'dissipate': 3100, 'brake': 1383, 'versa': 11499, 'joan': 5729, 'miró': 6900, 'painter': 7806, 'cliff': 2031, 'perfect': 8006, 'perfectly': 8008, 'ettringite': 3704, 'leading': 6094, 'surveyor': 10481, 'discipline': 3055, 'screechy': 9482, 'uesing': 11175, 'withdrew': 11856, 'tpp': 10960, 'radial': 8716, 'pulse': 8606, 'lacerate': 6001, 'milo': 6867, 'sleepy': 9875, 'misdemeanor': 6904, 'felony': 3985, 'judgmental': 5775, 'parable': 7844, 'betta': 1111, 'neon': 7287, 'tetra': 10734, 'aquarium': 588, 'willhandjob': 11823, 'loose': 6335, 'virginity': 11566, 'habitat': 4691, 'tiger': 10839, 'shark': 9663, 'exaggerate': 3756, 'seek': 9539, 'excuse': 3786, 'underestimate': 11223, 'leia': 6134, 'skirt': 9851, 'drape': 3228, 'jabba': 5644, 'billionsites': 1173, 'jack': 5645, 'jones': 5752, 'june': 5785, 'mole': 6976, 'boric': 1333, 'acid': 94, 'thank': 10755, 'szechuan': 10563, 'aromatics': 643, 'motor': 7062, 'spirit': 10090, 'exceed': 3766, 'totally': 10939, 'accountable': 72, 'insecure': 5412, 'worried': 11899, 'overthinking': 7749, 'erase': 3648, 'rx': 9316, 'refurbish': 8932, 'laptops': 6042, 'overhead': 7737, 'pronounce': 8522, 'bentley': 1095, 'farook': 3930, 'abdullah': 16, 'jinnah': 5720, 'judgement': 5772, 'height': 4831, 'ignition': 5156, 'cc': 1753, 'litre': 6273, 'petrol': 8056, 'outsource': 7724, 'dentistry': 2846, 'supportive': 10451, 'firearm': 4069, 'socialist': 9948, 'fireguns': 4071, 'nutrilite': 7499, 'rhodiola': 9150, 'maintenance': 6481, 'unsafe': 11310, 'urdu': 11354, 'core': 2431, 'wheat': 11774, 'penny': 7988, 'adamantine': 123, 'marvel': 6602, 'comic': 2171, 'residency': 9070, 'orleans': 7689, 'inspirational': 5418, 'prelim': 8383, 'pakistani': 7813, 'indigenous': 5304, 'width': 11812, 'pixel': 8149, 'creation': 2528, 'kolkata': 5950, 'bhubaneswar': 1143, 'motorbike': 7063, 'notch': 7447, 'lavender': 6068, 'dividing': 3128, 'upset': 11343, 'molest': 6979, 'passport': 7907, 'identification': 5133, 'sample': 9366, 'periodic': 8020, 'potato': 8319, 'tuber': 11101, 'mongoloid': 6999, 'renewed': 9013, 'volunteer': 11622, 'puerto': 8600, 'rico': 9163, 'inland': 5392, 'dock': 3147, 'organizational': 7679, 'amato': 391, 'dukanat': 3284, 'muliebrity': 7107, 'brainwashed': 1382, 'vein': 11478, 'trivia': 11063, 'barc': 956, 'bioscience': 1193, 'moisturisers': 6974, 'slingshot': 9883, 'supreme': 10455, 'argue': 617, 'adapt': 124, 'bull': 1510, 'deeply': 2770, 'alkyl': 339, 'bromide': 1455, 'partial': 7884, 'waymo': 11708, 'chrysler': 1946, 'pacifica': 7781, 'cuba': 2597, 'sastra': 9394, 'adolescence': 161, 'intuition': 5523, 'ayurvedic': 864, 'kadyrov': 5804, 'slove': 9890, 'rubick': 9287, 'constructive': 2346, 'rebuild': 8838, 'failed': 3890, 'op': 7617, 'endogenetic': 3545, 'exogenetic': 3803, 'differ': 2985, 'subheading': 10337, 'tbh': 10644, 'prefix': 8376, 'wang': 11669, 'belgrade': 1062, 'serbia': 9594, 'yoda': 11989, 'lifespan': 6206, 'longer': 6329, 'shiv': 9689, 'nadar': 7178, 'differentiate': 2991, 'writing': 11925, 'discus': 3068, 'ict': 5121, 'constraint': 2343, 'positive': 8300, 'creativity': 2532, 'nude': 7486, 'indulge': 5323, 'happening': 4746, 'becquer': 1034, 'clog': 2045, 'creamy': 2526, 'justeat': 5792, 'ubereats': 11162, 'foodora': 4158, 'retailer': 9107, 'tattoo': 10630, 'mouth': 7073, 'lingua': 6239, 'franca': 4227, 'wealth': 11713, 'gdp': 4386, 'caput': 1660, 'dr': 3217, 'vinay': 11554, 'kumaran': 5978, 'liver': 6280, 'transplant': 11015, 'shadow': 9643, 'blush': 1276, 'lipstick': 6252, 'conscription': 2313, 'intp': 5512, 'doom': 3185, 'unless': 11287, 'string': 10296, 'intel': 5453, 'amaranth': 387, 'seed': 9536, 'plasic': 8170, 'dumping': 3293, 'vice': 11524, 'watts': 11702, 'volt': 11617, 'brush': 1472, 'sunrise': 10422, 'swim': 10525, 'tumbler': 11109, 'loca': 6296, 'netflix': 7300, 'fandango': 3919, 'quickbooks': 8683, 'payroll': 7942, 'northeast': 7434, 'dung': 3296, 'taiwan': 10578, 'usaually': 11364, 'caliber': 1588, 'mauser': 6650, 'kiit': 5893, 'orientation': 7682, 'stuff': 10320, 'reporting': 9036, 'bold': 1301, 'agreeable': 240, 'klinefelter': 5925, 'syndrome': 10551, 'lean': 6098, 'bodybuilder': 1293, 'medusa': 6720, 'sutherland': 10496, 'astronomical': 731, 'observation': 7530, 'popularizer': 8279, 'emt': 3531, 'seedless': 9537, 'coordinator': 2420, 'palestine': 7819, 'abbas': 14, 'minecraft': 6879, 'robotics': 9212, 'microphone': 6837, 'srk': 10132, 'rebellion': 8836, 'anoint': 492, 'ordain': 7662, 'theocracy': 10769, 'monarchy': 6988, 'kayastha': 5839, 'mughal': 7100, 'barbaric': 955, 'islamic': 5606, 'demo': 2823, 'sb': 9418, 'silencer': 9770, 'rim': 9178, 'reliable': 8978, 'workshop': 11893, 'taller': 10593, 'mysterious': 7165, 'literary': 6268, 'rebecca': 8835, 'brook': 1458, 'polar': 8233, 'solvent': 9986, 'solute': 9983, 'nutritional': 7500, 'talc': 10583, 'ripple': 9185, 'unicorns': 11262, 'awesome': 855, 'embarrassing': 3493, 'monodevelop': 7006, 'halt': 4715, 'yellowstone': 11979, 'volcano': 11615, 'staff': 10148, 'weakness': 11712, 'mathworks': 6640, 'publication': 8594, 'gentleman': 4416, 'hormone': 4981, 'expectation': 3811, 'nga': 7339, 'craig': 2512, 'isiah': 5604, 'friedlander': 4268, 'shane': 9654, 'cal': 1571, 'dramatic': 3226, 'entrance': 3603, 'neodymium': 7286, 'postal': 8310, 'usps': 11380, 'personalize': 8044, 'letter': 6165, 'santa': 9382, 'withdraw': 11854, 'assamese': 702, 'vaishnavites': 11415, 'beef': 1040, 'spite': 10095, 'revere': 9131, 'vaishnav': 11413, 'worship': 11902, 'mitsubishi': 6928, 'pajero': 7809, 'gls': 4500, 'aperture': 536, 'retrospective': 9120, 'transmit': 11012, 'beamforming': 1019, 'stone': 10250, 'ussr': 11381, 'sputnik': 10118, 'stupidly': 10327, 'vanguard': 11434, 'la': 5994, 'seattle': 9511, 'bay': 998, 'region': 8940, 'strucuture': 10307, 'msit': 7091, 'scottish': 9475, 'pussy': 8641, 'ferraris': 4001, 'privately': 8456, 'vaginal': 11410, 'fluid': 4129, 'reassignment': 8834, 'entp': 3602, 'weekend': 11735, 'saudi': 9406, 'kuwait': 5988, 'refuge': 8927, 'interested': 5475, 'franchisee': 4231, 'fil': 4037, 'desperate': 2898, 'gon': 4536, 'reduced': 8902, 'liquidity': 6256, 'riskiness': 9189, 'prisoner': 8453, 'undetermined': 11242, 'coefficient': 2100, 'laplace': 6039, 'apologize': 540, 'oppression': 7639, 'everlast': 3732, 'punch': 8609, 'bag': 898, 'ft': 4298, 'circumference': 1970, 'reckon': 8853, 'proficient': 8495, 'exact': 3754, 'realm': 8827, 'aged': 229, 'hudson': 5026, 'wi': 11806, 'collegeboard': 2133, 'cloister': 2046, 'lnct': 6288, 'bhopl': 1141, 'consumer': 2353, 'shield': 9677, 'gargi': 4367, 'bksc': 1220, 'disability': 3045, 'aspect': 692, 'mural': 7129, 'stephen': 10212, 'austin': 804, 'satisfaction': 9400, 'defence': 2777, 'ivanka': 5639, 'judge': 5771, 'harshly': 4771, 'eminem': 3502, 'lyric': 6415, 'uncle': 11212, 'aunt': 797, 'pondan': 8268, 'transsexual': 11018, 'transvestite': 11019, 'malay': 6492, 'epidemic': 3620, 'pandemic': 7829, 'spread': 10110, 'konakam': 5954, 'essential': 3677, 'diffuser': 3000, 'brass': 1395, 'schooling': 9455, 'loreal': 6340, 'dye': 3317, 'salon': 9358, 'jhana': 5711, 'evm': 3743, 'election': 3440, 'median': 6700, 'mnnit': 6948, 'emerge': 3495, 'translated': 11008, 'poet': 8220, 'poems': 8218, 'spaniard': 10036, 'efficacy': 3402, 'evms': 3744, 'manipulate': 6536, 'fitness': 4081, 'youtubers': 12005, 'intact': 5445, 'mentality': 6762, 'condensation': 2273, 'protection': 8551, 'machinery': 6425, 'steel': 10206, 'metre': 6811, 'coral': 2429, 'xeno': 11941, 'goten': 4555, 'ssg': 10139, 'bhuvan': 1146, 'bam': 922, 'impress': 5240, 'calpurnia': 1600, 'influence': 5354, 'jem': 5691, 'scout': 9477, 'anthe': 505, 'spin': 10085, 'tickle': 10834, 'nervous': 7294, 'hawk': 4792, 'fraction': 4220, 'exponent': 3835, 'crop': 2561, 'dslr': 3263, 'camera': 1608, 'corrode': 2452, 'kidney': 5890, 'maggie': 6444, 'suzanne': 10498, 'farrell': 3931, 'bhajiawala': 1125, 'paintball': 7805, 'airsoft': 272, 'nonlinear': 7419, 'edit': 3386, 'grabol': 4570, 'calll': 1595, 'kanyakumari': 5818, 'importance': 5235, 'alastor': 296, 'moody': 7023, 'nitpicks': 7384, 'morse': 7038, 'fiancées': 4020, 'insanely': 5408, 'attracted': 776, 'disconnect': 3058, 'uncertainty': 11209, 'keeper': 5847, 'molester': 6980, 'hyundai': 5096, 'cvt': 2644, 'condense': 2274, 'methodist': 6808, 'sea': 9499, 'cancun': 1628, 'anderfels': 451, 'thedas': 10764, 'pachelbel': 7779, 'canon': 1636, 'beaver': 1030, 'housing': 5011, 'muthoot': 7151, 'lcd': 6087, 'plate': 8175, 'miranda': 6898, 'cosgrove': 2459, 'caribbean': 1681, 'tamilnadu': 10599, 'drought': 3254, 'purine': 8629, 'soluble': 9982, 'dispose': 3092, 'massachusetts': 6617, 'gre': 4612, 'ieee': 5148, 'airpower': 271, 'wireless': 11846, 'discovery': 3065, 'nasa': 7211, 'srm': 10133, 'campus': 1618, 'jaipur': 5655, 'soul': 10014, 'potty': 8325, 'planning': 8166, 'execute': 3787, 'privacy': 8454, 'blockchain': 1259, 'swach': 10502, 'bharat': 1129, 'abhiyan': 18, 'infinity': 5348, 'transwomen': 11020, 'dictate': 2973, 'ciswomen': 1977, 'eg': 3409, 'aliexpress': 327, 'sd': 9497, 'wayfair': 11707, 'inc': 5259, 'scotus': 9476, 'ruling': 9298, 'mi': 6821, 'rs': 9279, 'plum': 8199, 'pip': 8138, 'sketch': 9840, 'ipl': 5565, 'pender': 7980, 'lushington': 6401, 'ch': 1803, 'discourse': 3063, 'intellectual': 5455, 'showcase': 9720, 'unjust': 11285, 'ie': 5147, 'envy': 3613, 'demat': 2820, 'consciousness': 2312, 'bruuuuuu': 1476, 'shshshd': 9731, 'saw': 9412, 'potentially': 8321, 'http': 5024, 'milan': 6853, 'charter': 1851, 'accountant': 74, 'pat': 7912, 'handbag': 4724, 'highly': 4875, 'appreciate': 570, 'jurisprudence': 5790, 'newzeland': 7334, 'platinum': 8179, 'blonde': 1265, 'benjamin': 1092, 'keldani': 5850, 'grout': 4642, 'peck': 7964, 'horndean': 4983, 'animals': 473, 'categorically': 1731, 'thumb': 10823, 'intent': 5464, 'mormon': 7034, 'gradually': 4575, 'roll': 9232, 'hermetic': 4853, 'doctrine': 3151, 'prophecy': 8531, 'evolution': 3746, 'enamor': 3535, 'arcane': 606, 'esoterica': 3672, 'combine': 2161, 'romania': 9238, 'premed': 8386, 'hyip': 5080, 'calf': 1585, 'iptables': 5569, 'recovery': 8874, 'dislike': 3081, 'overwhelmingly': 7754, 'trained': 10981, 'department': 2849, 'pierce': 8117, 'ke': 5843, 'hunter': 5055, 'derren': 2879, 'brown': 1461, 'fraudsters': 4239, 'nirav': 7376, 'vijay': 11546, 'mallya': 6500, 'loot': 6336, 'pm': 8208, 'chest': 1886, 'doinformation': 3164, 'accidentally': 65, 'telegram': 10682, 'chat': 1855, 'immediately': 5207, 'appoint': 564, 'humor': 5040, 'morgue': 7032, 'peanut': 7961, 'butter': 1543, 'liquor': 6259, 'handcuff': 4726, 'broiler': 1449, 'cage': 1565, 'known': 5941, 'zainab': 12015, 'bint': 1181, 'sa': 9320, 'anniversary': 486, 'commerce': 2177, 'shopify': 9701, 'bigcommerce': 1160, 'magento': 6443, 'counselor': 2475, 'recommendation': 8864, 'eca': 3360, 'scanned': 9429, 'recom': 8860, 'beneficial': 1083, 'geography': 4422, 'journalist': 5761, 'revolutionize': 9139, 'institution': 5434, 'tigris': 10845, 'euphrates': 3711, 'river': 9195, 'widely': 11809, 'egyptian': 3418, 'tineye': 10858, 'shi': 9675, 'cooperate': 2417, 'whitehouse': 11797, 'shun': 9734, 'applicable': 559, 'hood': 4970, 'scoop': 9467, 'blower': 1272, 'custody': 2632, 'presumption': 8411, 'arrangement': 648, 'cruze': 2578, 'giá': 4481, 'bao': 949, 'nhiêu': 7341, 'tại': 11157, 'việt': 11600, 'nam': 7189, 'bpc': 1370, 'eamcet': 3326, 'listener': 6263, 'meaningful': 6685, 'heroine': 4857, 'abou': 29, 'gandhinagar': 4354, 'hairy': 4703, 'underestimated': 11224, 'pasta': 7910, 'sauce': 9405, 'invitation': 5544, 'matrimonial': 6642, 'regulate': 8947, 'ensure': 3588, 'factual': 3887, 'unbiased': 11205, 'deployment': 2860, 'ebp': 3358, 'triad': 11039, 'miami': 6823, 'colorway': 2148, 'terrorism': 10726, 'patent': 7916, 'genius': 4409, 'quite': 8690, 'jewelry': 5707, 'lackey': 6003, 'praise': 8350, 'vegeta': 11470, 'appliance': 558, 'boiler': 1300, 'furnace': 4328, 'combustion': 2162, 'composition': 2241, 'gaseous': 4376, 'propane': 8527, 'reacts': 8814, 'oxygen': 7769, 'temp': 10697, 'merkel': 6780, 'macron': 6428, 'bent': 1093, 'refugee': 8928, 'silently': 9772, 'typical': 11149, 'norwegian': 7440, 'climb': 2034, 'cod': 2094, 'refract': 8920, 'nm': 7396, 'angle': 467, 'noice': 7408, 'margin': 6569, 'sinister': 9815, 'eating': 3352, 'omprakash': 7602, 'mishra': 6908, 'er': 3645, 'normandy': 7431, 'mammal': 6506, 'evolutionary': 3747, 'prehistoric': 8381, 'reptile': 9045, 'dimetrodon': 3018, 'triangle': 11041, 'receptionist': 8846, 'cafe': 1564, 'robbie': 9206, 'conundrum': 2391, 'carbon': 1665, 'monoxide': 7011, 'serbs': 9595, 'broadcasting': 1446, 'snap': 9923, 'nmat': 7397, 'tissnet': 10869, 'iift': 5165, 'bayern': 999, 'munich': 7121, 'ribéry': 9156, 'lahm': 6013, 'robben': 9204, 'madrid': 6438, 'champion': 1820, 'mosquito': 7049, 'pond': 8267, 'trace': 10962, 'log': 6308, 'bitsat': 1216, 'outloud': 7719, 'socio': 9953, 'kadamba': 5802, 'conference': 2284, 'enjoyable': 3575, 'audit': 791, 'globally': 4496, 'upgrade': 11334, 'freshersworld': 4259, 'premium': 8389, 'evan': 3722, 'samuel': 9368, 'mickelson': 6830, 'derek': 2874, 'parfit': 7869, 'douglass': 3204, 'hofstadter': 4922, 'plagiarize': 8157, 'dan': 2680, 'dennet': 2837, 'th': 10749, 'switzerland': 10530, 'neighbour': 7282, 'xishuangbanna': 11946, 'yunnan': 12011, 'arrival': 652, 'seahawks': 9502, 'locker': 6303, 'xlix': 11949, 'afect': 205, 'length': 6142, 'completion': 2225, 'invisible': 5543, 'invisibility': 5542, 'terminology': 10720, 'universally': 11279, 'regularly': 8946, 'appropriately': 575, 'calligraphy': 1594, 'resultant': 9104, 'magnitude': 6452, 'brinjal': 1438, 'typhoid': 11148, 'illegally': 5183, 'radiology': 8724, 'mvp': 7157, 'boost': 1324, 'festive': 4008, 'fingertip': 4060, 'emitter': 3505, 'bjt': 1219, 'ktm': 5973, 'adventure': 177, 'bajaj': 902, 'chakan': 1810, 'proficiency': 8494, 'manu': 6550, 'hdfc': 4799, 'germeny': 4439, 'drill': 3240, 'diametrically': 2964, 'bomb': 1304, 'exhibition': 3796, 'oregano': 7668, 'saving': 9411, 'lic': 6196, 'reagan': 8819, 'regulation': 8948, 'poverty': 8328, 'ingrain': 5373, 'subconsciously': 10335, 'motorcade': 7064, 'lamp': 6021, 'leak': 6097, 'anticorruption': 511, 'activity': 113, 'thrive': 10812, 'nowadays': 7469, 'belive': 1068, 'imperial': 5225, 'colony': 2143, 'fusion': 4331, 'isotope': 5617, 'hydrogen': 5074, 'jake': 5658, 'williams': 11825, 'lysol': 6416, 'describe': 2884, 'spring': 10112, 'enchant': 3536, 'noble': 7403, 'expand': 3806, 'massive': 6622, 'block': 1258, 'springfield': 10113, 'mo': 6949, 'inner': 5396, 'leh': 6133, 'whqt': 11805, 'creed': 2538, 'delegated': 2801, 'tea': 10648, 'ratio': 8792, 'privilege': 8459, 'apron': 585, 'cook': 2409, 'economical': 3371, 'hebrew': 4824, 'bd': 1011, 'stretch': 10291, 'acknowledge': 95, 'occurrence': 7549, 'alanis': 293, 'morissette': 7033, 'purposely': 8633, 'condemn': 2272, 'creationism': 2529, 'genesis': 4403, 'metaphor': 6801, 'hope': 4974, 'finally': 4051, 'topicwise': 10917, 'weightage': 11740, 'clause': 2008, 'infinitive': 5347, 'conjugated': 2303, 'subjunctive': 10341, 'verb': 11494, 'humanizing': 5034, 'sincere': 9801, 'quarterback': 8671, 'october': 7556, 'seasonal': 9508, 'holiday': 4930, 'aldehyde': 306, 'ketone': 5867, 'nah': 7181, 'earny': 3335, 'chump': 1950, 'reserved': 9065, 'tarak': 10617, 'maheta': 6465, 'babita': 871, 'ji': 5713, 'hydernager': 5070, 'bipc': 1199, 'lion': 6248, 'je': 5683, 'suis': 10393, 'excitee': 3780, 'inappropriate': 5254, 'connotation': 2307, 'hick': 4866, 'taste': 10626, 'pcm': 7947, 'adverse': 180, 'oxycodone': 7768, 'outbreak': 7708, 'cooling': 2416, 'behave': 1051, 'mature': 6648, 'guilty': 4661, 'grammatically': 4583, 'task': 10623, 'carefully': 1679, 'tightly': 10843, 'coordinate': 2418, 'vivipoarous': 11597, 'degradation': 2790, 'setting': 9614, 'bryan': 1477, 'spherocyte': 10076, 'hereditary': 4852, 'spherocytosis': 10077, 'isophyril': 5616, 'affective': 208, 'bed': 1035, 'protocol': 8555, 'retired': 9116, 'cvc': 2643, 'kv': 5989, 'choudary': 1932, 'secretly': 9521, 'recall': 8839, 'irritated': 5592, 'remorseful': 9000, 'disturb': 3117, 'ingredient': 5374, 'shutdown': 9736, 'decimal': 2750, 'calculator': 1579, 'virtually': 11569, 'impossible': 5238, 'buyer': 1547, 'beware': 1116, 'immune': 5215, 'lenovo': 6148, 'root': 9254, 'colonist': 2141, 'calendar': 1584, 'contraband': 2376, 'ait': 280, 'vary': 11450, 'bengalore': 1089, 'bat': 986, 'depopulation': 2861, 'cryolite': 2580, 'snoop': 9938, 'babysitting': 876, 'assam': 701, 'specialist': 10056, 'civilian': 1986, 'nsit': 7479, 'former': 4190, 'retain': 9108, 'confuse': 2296, 'understands': 11236, 'jewel': 5705, 'slime': 9881, 'inferential': 5339, 'pda': 7951, 'cmu': 2073, 'bu': 1486, 'bc': 1007, 'northeastern': 7435, 'emory': 3509, 'nyu': 7507, 'michigan': 6829, 'villanova': 11552, 'vegetarian': 11472, 'remedial': 8992, 'vitamin': 11589, 'detective': 2916, 'context': 2368, 'classification': 2001, 'monger': 6993, 'candida': 1629, 'julia': 5778, 'gillard': 4468, 'sack': 9327, 'unsupervised': 11319, 'cluster': 2063, 'sender': 9567, 'greer': 4623, 'fraudster': 4238, 'ufo': 11176, 'arabia': 594, 'photography': 8095, 'ipad': 5560, 'browned': 1463, 'sausage': 9407, 'cuisine': 2602, 'upsell': 11342, 'deliver': 2811, 'committed': 2185, 'accomodation': 66, 'reffered': 8914, 'exceptional': 3772, 'chipotle': 1907, 'abnormal': 23, 'vfx': 11515, 'charming': 1849, 'pacific': 7780, 'islander': 5610, 'affirmative': 213, 'latvia': 6060, 'estonia': 3684, 'bot': 1343, 'filter': 4047, 'tree': 11034, 'sura': 10456, 'meditate': 6715, 'enhance': 3572, 'mindfulness': 6875, 'mantra': 6549, 'awareness': 853, 'trojan': 11066, 'processor': 8475, 'amd': 402, 'gpu': 4568, 'uco': 11168, 'clerk': 2023, 'sniff': 9932, 'info': 5357, 'capgemini': 1649, 'experienced': 3820, 'accounting': 75, 'contractor': 2379, 'drainage': 3223, 'documentation': 3154, 'dependency': 2853, 'appeal': 549, 'committee': 2186, 'abuser': 45, 'jellyfish': 5690, 'analytics': 440, 'coke': 2115, 'session': 9612, 'mccabe': 6668, 'bowler': 1359, 'collect': 2128, 'geocoins': 4419, 'loyalty': 6368, 'membership': 6745, 'satisfied': 9401, 'ferrari': 4000, 'dynamically': 3321, 'pdf': 7952, 'sexual': 9633, 'desire': 2895, 'flute': 4133, 'sketching': 9841, 'friday': 4265, 'pollution': 8253, 'metro': 6813, 'psychedelic': 8575, 'prayer': 8355, 'imam': 5199, 'geographic': 4420, 'spray': 10109, 'tan': 10602, 'st': 10142, 'kilda': 5894, 'asshole': 713, 'emigrate': 3499, 'consultancy': 2349, 'demand': 2819, 'صور': 12047, 'phoenician': 8087, 'shah': 9646, 'rukh': 9295, 'sherlock': 9674, 'holmes': 4934, 'recruiter': 8879, 'unstable': 11315, 'alter': 371, 'schedule': 9443, 'patanjali': 7913, 'aloevera': 359, 'gel': 4391, 'refuse': 8933, 'beloved': 1074, 'mystery': 7166, 'ammeter': 414, 'ac': 48, 'acrimony': 102, 'greenlit': 4621, 'backstory': 886, 'budapest': 1491, 'gregory': 4624, 'vii': 11544, 'iv': 5638, 'galilee': 4345, 'bengali': 1087, 'dubai': 3274, 'repeatedly': 9023, 'polycystic': 8258, 'ovary': 7729, 'pcos': 7948, 'wellness': 11750, 'tourism': 10945, 'richard': 9159, 'müller': 7173, 'olympic': 7597, 'rio': 9182, 'chair': 1807, 'amcat': 401, 'teeth': 10677, 'extraction': 3855, 'heal': 4807, 'frank': 4236, 'winfield': 11834, 'woolworth': 11881, 'dividend': 3127, 'overwatch': 7751, 'ios': 5556, 'andriod': 456, 'viral': 11562, 'ethnicity': 3699, 'african': 221, 'mixing': 6934, 'inhaled': 5380, 'exhale': 3793, 'misconception': 6903, 'philosophy': 8083, 'invader': 5528, 'akhbar': 286, 'innocent': 5398, 'television': 10691, 'tech': 10659, 'sucessfully': 10373, 'combination': 2160, 'establish': 3680, 'entity': 3601, 'patient': 7920, 'permission': 8028, 'pcr': 7949, 'amplification': 425, 'baseline': 975, 'threshold': 10809, 'nclex': 7252, 'bsn': 1481, 'repair': 9019, 'proproetor': 8540, 'nahata': 7182, 'indore': 5318, 'costing': 2463, 'dt': 3265, 'doodle': 3183, 'prevents': 8424, 'fatality': 3943, 'subscriber': 10353, 'worldquant': 11895, 'atelactasis': 741, 'lung': 6399, 'obstruct': 7539, 'tumor': 11112, 'ct': 2593, 'scan': 9427, 'poise': 8228, 'irrevocably': 5590, 'unlike': 11288, 'stewart': 10228, 'carl': 1683, 'froch': 4281, 'andre': 454, 'prevail': 8419, 'chill': 1902, 'easter': 3346, 'banner': 945, 'signature': 9760, 'premonition': 8390, 'parapsychology': 7861, 'glad': 4484, 'fateful': 3944, 'whippet': 11790, 'nitrous': 7391, 'oxide': 7765, 'migeration': 6846, 'chlorophyll': 1915, 'photosynthesis': 8098, 'fry': 4295, 'plank': 8164, 'thick': 10784, 'emerges': 3497, 'retardation': 9112, 'distinction': 3108, 'sem': 9557, 'marksheet': 6586, 'abm': 22, 'dji': 3137, 'ronin': 9248, 'sony': 10003, 'metabones': 6795, 'tn': 10879, 'micheal': 6827, 'periplaneta': 8022, 'americana': 408, 'wing': 11836, 'vestigial': 11510, 'glue': 4503, 'shyness': 9743, 'bit': 1211, 'blogging': 1264, 'accuracy': 79, 'inbreeding': 5257, 'opposite': 7635, 'hurley': 5058, 'bone': 1311, 'stanch': 10162, 'paranoid': 7857, 'delusion': 2817, 'sensor': 9575, 'manufacturing': 6555, 'serving': 9609, 'fried': 4267, 'venture': 11490, 'exploration': 3832, 'greece': 4615, 'sewer': 9627, 'drawback': 3231, 'netlogon': 7302, 'kingsley': 5908, 'browne': 1462, 'adress': 168, 'error': 3661, 'fb': 3955, 'saxophone': 9414, 'trumpet': 11088, 'alialshamsi': 323, 'monotonous': 7010, 'medico': 6712, 'progressive': 8507, 'historic': 4900, 'politically': 8245, 'incorrect': 5279, 'burma': 1527, 'astronomer': 730, 'flexibility': 4108, 'joker': 5747, 'narikoravar': 7206, 'meat': 6690, 'tamils': 10600, 'outrage': 7722, 'superuser': 10445, 'custom': 2633, 'validators': 11422, 'airtel': 276, 'wallet': 11659, 'dronabinol': 3248, 'kapp': 5822, 'putsch': 8644, 'mould': 7068, 'stain': 10151, 'baking': 906, 'bake': 904, 'hearing': 4812, 'vertigo': 11507, 'brahma': 1375, 'fonda': 4154, 'barron': 967, 'penalty': 7977, 'mmorpg': 6943, 'paving': 7934, 'slab': 9861, 'zoloft': 12036, 'backlog': 885, 'cgpa': 1802, 'dizzy': 3134, 'builder': 1504, 'liquidation': 6255, 'homework': 4950, 'estuate': 3687, 'halide': 4709, 'nitrogen': 7390, 'customary': 2634, 'divorcing': 3133, 'sexually': 9635, 'occupy': 7547, 'vibe': 11521, 'mathematical': 6635, 'egypt': 3417, 'strongly': 10303, 'icai': 5111, 'parmigiana': 7878, 'relativism': 8970, 'threesome': 10808, 'jonah': 5750, 'goldberg': 4527, 'stitch': 10241, 'victorian': 11529, 'pair': 7808, 'maneuver': 6525, 'bottom': 1349, 'belgium': 1061, 'permittivity': 8031, 'dielectric': 2979, 'straight': 10265, 'oked': 7587, 'dnc': 3144, 'collusion': 2137, 'desperation': 2900, 'mandi': 6522, 'burb': 1522, 'ramsay': 8758, 'aura': 800, 'grasp': 4600, 'impeach': 5221, 'impeachment': 5222, 'cultivar': 2605, 'gold': 4526, 'prefers': 8375, 'voodoo': 11625, 'cooked': 2411, 'blend': 1246, 'smoothie': 9915, 'drinking': 3243, 'favor': 3952, 'pharmaceutical': 8067, 'profession': 8489, 'impunity': 5250, 'opioid': 7630, 'whilst': 11785, 'damodardas': 2679, 'orchestrate': 7659, 'assassination': 706, 'sympathy': 10546, 'poll': 8250, 'sodium': 9962, 'chopstick': 1926, 'initiation': 5385, 'declare': 2755, 'judaism': 5770, 'sabbath': 9322, 'transformer': 10999, 'extension': 3845, 'socket': 9959, 'adaptor': 127, 'grandparent': 4587, 'sudoku': 10379, 'puzzle': 8647, 'remotely': 9002, 'doesnt': 3157, 'fabric': 3872, 'spacetime': 10031, 'hence': 4846, 'prosecutor': 8544, 'plea': 8190, 'prodigal': 8480, 'danielle': 2689, 'kannada': 5816, 'duolingo': 3300, 'ryan': 9317, 'rohlinger': 9227, 'baseball': 973, 'photon': 8096, 'annex': 484, 'chromodynamics': 1942, 'surgical': 10469, 'oncology': 7604, 'calculus': 1580, 'chicago': 1891, 'backlink': 884, 'coulomb': 2471, 'loyal': 6367, 'warming': 11680, 'continuous': 2374, 'planetary': 8163, 'rewarming': 9143, 'fergus': 3996, 'minnesota': 6891, 'facial': 3880, 'unattractive': 11198, 'wich': 11808, 'celebs': 1766, 'ennis': 3580, 'haywood': 4794, 'showdown': 9721, 'corrupt': 2454, 'nawaz': 7239, 'sharif': 9661, 'zardari': 12019, 'scalar': 9422, 'vector': 11463, 'creator': 2533, 'garfield': 4365, 'rivalry': 9194, 'calvin': 1602, 'hobbes': 4916, 'register': 8942, 'aunty': 798, 'toch': 10885, 'as': 672, 'hip': 4893, 'thebest': 10763, 'sprout': 10116, 'emperor': 3515, 'texture': 10745, 'geronimo': 4441, 'apache': 533, 'tribe': 11043, 'occupation': 7546, 'devalue': 2929, 'ejacuate': 3425, 'masturbation': 6628, 'anap': 443, 'nth': 7481, 'tutorial': 11128, 'comptia': 2247, 'bundle': 1517, 'eulogize': 3710, 'victimhood': 11528, 'oppressor': 7640, 'considerably': 2323, 'empathy': 3514, 'sunstop': 10424, 'aqagel': 587, 'ib': 5102, 'diagonal': 2958, 'cm': 2066, 'cus': 2630, 'classmate': 2004, 'carb': 1663, 'radicalise': 8720, 'utah': 11386, 'snobby': 9934, 'selfish': 9552, 'reductionist': 8905, 'altruistic': 376, 'projectile': 8511, 'artillery': 666, 'shell': 9670, 'junk': 5788, 'ozone': 7773, 'instamix': 5428, 'concrete': 2269, 'salad': 9348, 'sim': 9780, 'verse': 11502, 'solipsism': 9979, 'christians': 1937, 'humankind': 5035, 'rod': 9215, 'caddy': 1562, 'shaggy': 9645, 'stoner': 10251, 'undelete': 11220, 'properly': 8529, 'shock': 9695, 'pool': 8272, 'std': 10198, 'baf': 897, 'bbi': 1004, 'bfm': 1120, 'flop': 4117, 'jaane': 5642, 'bhi': 1136, 'yaaron': 11962, 'satire': 9399, 'dispensation': 3089, 'effegies': 3401, 'meghan': 6728, 'markle': 6585, 'portray': 8295, 'wood': 11875, 'golfer': 4533, 'epiglottis': 3621, 'tongue': 10907, 'enzyme': 3614, 'immobilization': 5212, 'rigid': 9176, 'via': 11519, 'entanglement': 3590, 'carol': 1687, 'ann': 480, 'duffy': 3281, 'hilly': 4882, 'primitive': 8437, 'nobody': 7404, 'islamist': 5607, 'rohit': 9226, 'nigam': 7357, 'dismal': 3082, 'aap': 6, 'overestimation': 7735, 'satisfy': 9402, 'bono': 1312, 'distrust': 3116, 'catalunyan': 1723, 'counterpart': 2479, 'euler': 3709, 'extent': 3846, 'catherine': 1736, 'aragon': 599, 'literal': 6266, 'hell': 4835, 'misleader': 6911, 'loudmouth': 6352, 'spatial': 10047, 'justice': 5793, 'humility': 5038, 'quiz': 8691, 'circulate': 1967, 'steward': 10227, 'snl': 9933, 'skit': 9852, 'vintage': 11556, 'tread': 11026, 'additional': 134, 'tit': 10871, 'spectre': 10065, 'meltdown': 6743, 'monkey': 7005, 'harshad': 4770, 'chopra': 1925, 'fourth': 4214, 'echoponic': 3363, 'dub': 3273, 'hulu': 5031, 'partnership': 7893, 'tennessee': 10708, 'spoil': 10099, 'prank': 8351, 'passion': 7904, 'ranjani': 8771, 'gayathri': 4381, 'vocalist': 11608, 'lancaster': 6023, 'kent': 5858, 'sussex': 10493, 'essex': 3679, 'adviser': 188, 'commute': 2198, 'zara': 12018, 'doorstep': 3189, 'sheriff': 9673, 'woodson': 11878, 'adultness': 172, 'mate': 6631, 'fairy': 3899, 'kentucky': 5859, 'medicaid': 6705, 'refundable': 8931, 'sicily': 9747, 'saracen': 9384, 'norman': 7430, 'scandinavia': 9428, 'raspy': 8787, 'xie': 11944, 'gratuity': 4604, 'geology': 4424, 'mint': 6895, 'gluten': 4504, 'donut': 3182, 'emission': 3504, 'liquiir': 6258, 'nine': 7372, 'tail': 10576, 'strain': 10266, 'jupiter': 5789, 'swati': 10511, 'nakshatra': 7188, 'rahu': 8732, 'vishakha': 11574, 'libra': 6193, 'ascendant': 674, 'jain': 5654, 'temple': 10702, 'narrow': 7209, 'chuck': 1948, 'garlic': 4369, 'unlimited': 11290, 'curb': 2614, 'idiom': 5140, 'phrasal': 8101, 'ielts': 5149, 'isabelle': 5598, 'kavalireddi': 5836, 'shankara': 9656, 'dip': 3029, 'subclass': 10334, 'haskell': 4779, 'hybridization': 5067, 'enlightenment': 3579, 'walker': 11657, 'oppose': 7634, 'craster': 2519, 'infant': 5334, 'lipid': 6250, 'enfield': 3557, 'illuminati': 5188, 'pgi': 8063, 'jipmer': 5725, 'kem': 5854, 'mamc': 6504, 'sobriety': 9943, 'duo': 3299, 'indicator': 5302, 'clrs': 2059, 'sacral': 9328, 'chakra': 1811, 'imbalance': 5201, 'decipline': 2751, 'few': 4016, 'halloween': 4712, 'suspender': 10490, 'prematurely': 8385, 'personnel': 8046, 'languish': 6034, 'norden': 7425, 'literally': 6267, 'donate': 3178, 'cmc': 2069, 'dmc': 3140, 'shemale': 9672, 'windows': 11832, 'erasmus': 3649, 'recreational': 8876, 'zombie': 12037, 'majority': 6484, 'clue': 2061, 'cb': 1748, 'capture': 1659, 'prior': 8448, 'crowdfunding': 2569, 'blogger': 1263, 'bsee': 1480, 'offering': 7569, 'claustrum': 2009, 'reveller': 9128, 'pre': 8356, 'doctorate': 3150, 'expences': 3814, 'dime': 3015, 'memristors': 6754, 'shrink': 9730, 'gimng': 4469, 'stamp': 10160, 'deadline': 2722, 'routine': 9272, 'phobia': 8086, 'capacitance': 1646, 'jan': 5666, 'freestyle': 4249, 'skiing': 9843, 'sinarest': 9799, 'dosage': 3193, 'marrow': 6591, 'holy': 4938, 'confederation': 2283, 'coincide': 2114, 'sweating': 10516, 'selma': 9556, 'alabama': 290, 'millenia': 6860, 'videoing': 11536, 'extended': 3844, 'ejectulate': 3428, 'acpi': 98, 'virtualbox': 11568, 'intensively': 5463, 'dealer': 2727, 'nirbhaya': 7377, 'glucoze': 4502, 'login': 6314, 'suspicious': 10492, 'patna': 7921, 'chaos': 1829, 'unexpected': 11253, 'installed': 5427, 'restriction': 9102, 'sharma': 9664, 'tollywood': 10897, 'joining': 5743, 'ihm': 5162, 'koine': 5948, 'greek': 4618, 'discounted': 3061, 'starbucks': 10168, 'poilt': 8224, 'fau': 3950, 'erlangen': 3655, 'garbage': 4360, 'museum': 7140, 'andrew': 455, 'breakdown': 1405, 'ugandan': 11179, 'knuckle': 5942, 'stanley': 10166, 'kubrick': 5976, 'aside': 685, 'landing': 6026, 'walnut': 11665, 'harvest': 4774, 'pumpkin': 8608, 'proactive': 8463, 'harassment': 4753, 'mmorpgs': 6944, 'preferably': 8372, 'reiser': 8959, 'comedian': 2164, 'twitch': 11140, 'whatapp': 11766, 'unavailable': 11199, 'multi': 7110, 'fair': 3895, 'econometrics': 3369, 'hedge': 4827, 'beatles': 1024, 'fucker': 4301, 'shut': 9735, 'hazel': 4795, 'fleet': 4106, 'cargo': 1680, 'epigram': 3622, 'spec': 10053, 'wsyx': 11929, 'streptococcus': 10287, 'criticism': 2554, 'sumup': 10410, 'izettle': 5641, 'zinc': 12028, 'underlie': 11230, 'depressing': 2868, 'athens': 745, 'mahadasha': 6458, 'scorpio': 9472, 'suicidal': 10391, 'agony': 238, 'helen': 4832, 'delich': 2809, 'biosystem': 1194, 'distributed': 3112, 'blast': 1236, 'ancalagon': 447, 'celebrate': 1763, 'saint': 9345, 'patrick': 7926, 'auaurangzeb': 781, 'downfall': 3206, 'mogul': 6971, 'besic': 1104, 'neutralize': 7318, 'relieve': 8981, 'calculates': 1578, 'shipping': 9683, 'council': 2472, 'linkebeek': 6244, 'openccc': 7620, 'mlm': 6940, 'awkward': 856, 'hunchback': 5048, 'articulate': 664, 'dualism': 3272, 'bored': 1331, 'expansion': 3808, 'valve': 11428, 'photoelectric': 8092, 'photovoltaic': 8099, 'mca': 6666, 'sean': 9504, 'spicer': 10080, 'gaggle': 4342, 'originally': 7686, 'eliot': 3472, 'shelf': 9669, 'hyperactive': 5084, 'needy': 7270, 'sub': 10332, 'kilometre': 5900, 'minute': 6897, 'ukash': 11183, 'voucher': 11630, 'tomato': 10899, 'hairline': 4701, 'zahra': 12014, 'invention': 5531, 'mechanic': 6692, 'igidr': 5154, 'meral': 6767, 'aksener': 287, 'lazy': 6082, 'accidental': 64, 'wp': 11910, 'parallax': 7851, 'canara': 1624, 'refractory': 8922, 'farce': 3925, 'mri': 7086, 'muoet': 7126, 'lever': 6170, 'distribution': 3113, 'podcast': 8216, 'registration': 8943, 'charles': 1843, 'darwin': 2699, 'deceit': 2745, 'selling': 9555, 'honest': 4959, 'consumerist': 2354, 'associate': 720, 'easyazon': 3350, 'photoshop': 8097, 'logout': 6318, 'icbm': 5113, 'detection': 2915, 'chelyabinsk': 1875, 'meteor': 6802, 'perfection': 8007, 'cassini': 1708, 'finale': 4050, 'bonus': 1315, 'resigns': 9075, 'hormonal': 4980, 'fertility': 4003, 'doi': 3163, 'minded': 6874, 'dse': 3262, 'eq': 3631, 'conform': 2294, 'shisui': 9686, 'shinobi': 9681, 'surfactant': 10464, 'saturation': 9404, 'kinship': 5910, 'bonobo': 1313, 'recoil': 8859, 'magnum': 6453, 'liturgical': 6277, 'prohibition': 8509, 'applicant': 560, 'enforce': 3558, 'yogi': 11992, 'adityanath': 147, 'demonise': 2830, 'pentatonix': 7991, 'videographer': 11535, 'kurd': 5980, 'homeland': 4940, 'mongolia': 6997, 'deportation': 2863, 'turks': 11123, 'reproduction': 9043, 'alongside': 362, 'desiigner': 2893, 'authorized': 816, 'dennison': 2838, 'cheque': 1882, 'bupropion': 1521, 'tonight': 10908, 'imply': 5233, 'oops': 7615, 'kotak': 5963, 'asymptotic': 738, 'decay': 2742, 'cryptocurrency': 2583, 'mankind': 6541, 'beneficiary': 1084, 'bds': 1014, 'ur': 11351, 'redmond': 8900, 'integration': 5451, 'complicate': 2231, 'github': 4479, 'commercial': 2178, 'fundal': 4318, 'carbonate': 1666, 'sulphate': 10401, 'shallow': 9651, 'highschool': 4876, 'confident': 2289, 'fundamentalism': 4320, 'irrevalant': 5588, 'lonely': 6326, 'unethical': 11252, 'arvind': 670, 'jason': 5674, 'malachi': 6490, 'simsree': 9793, 'albanians': 298, 'persuasive': 8049, 'dehydration': 2796, 'slur': 9895, 'obligated': 7526, 'sayyid': 9417, 'qutb': 8701, 'drama': 3225, 'scare': 9434, 'manav': 6515, 'rachna': 8708, 'swimming': 10526, 'birmingham': 1204, 'allah': 340, 'ayesha': 862, 'bride': 1427, 'fatherland': 3947, 'tensorflow': 10713, 'ahmad': 245, 'jamal': 5661, 'obedient': 7514, 'studious': 10317, 'nerd': 7293, 'alpha': 365, 'endow': 3550, 'syracuse': 10557, 'ny': 7503, 'belly': 1071, 'whey': 11781, 'protein': 8553, 'phenomena': 8073, 'hangover': 4740, 'inventory': 5533, 'turnover': 11125, 'noticeable': 7453, 'hub': 5025, 'notable': 7445, 'mahasweta': 6462, 'devi': 2936, 'sarcosuchus': 9388, 'mawsonia': 6652, 'estuarine': 3686, 'langer': 6032, 'tipper': 10864, 'specialized': 10058, 'gallery': 4349, 'efficient': 3404, 'affordable': 215, 'transport': 11016, 'definition': 2788, 'dada': 2663, 'subliminal': 10343, 'audios': 790, 'synchronize': 10550, 'selection': 9545, 'catalyst': 1724, 'cataclysmic': 1719, 'oxygenation': 7770, 'triple': 11057, 'flip': 4110, 'voluntary': 11621, 'nystagmus': 7505, 'climbing': 2036, 'paid': 7798, 'coach': 2078, 'upfront': 11333, 'naturally': 7227, 'yellowist': 11978, 'getaway': 4445, 'montreal': 7019, 'ski': 9842, 'mexican': 6815, 'cambodia': 1605, 'southeast': 10019, 'discrimination': 3067, 'cyclone': 2649, 'kedar': 5845, 'jadhav': 5651, 'batting': 994, 'expose': 3839, 'up': 11328, 'elbow': 3435, 'backwards': 888, 'servicenow': 9608, 'orchestration': 7660, 'diagram': 2959, 'hook': 4971, 'bristle': 1439, 'escalator': 3665, 'celtic': 1772, 'uninhabitable': 11268, 'successfully': 10371, 'celestial': 1767, 'handmaiden': 4734, 'nomination': 7414, 'organ': 7670, 'witch': 11853, 'validation': 11421, 'commuter': 2199, 'transit': 11005, 'zelda': 12023, 'fart': 3932, 'statute': 10195, 'championship': 1821, 'mlb': 6938, 'directv': 3042, 'inning': 5397, 'downside': 3210, 'extend': 3843, 'upto': 11344, 'manageable': 6509, 'borivali': 1335, 'compulsory': 2248, 'bifocal': 1157, 'tribal': 11042, 'designing': 2892, 'victorious': 11530, 'magoosh': 6455, 'valid': 11419, 'complaint': 2221, 'ctc': 2594, 'adjust': 149, 'allowance': 354, 'iqos': 5572, 'heets': 4829, 'sailkot': 9343, 'melhus': 6737, 'norway': 7439, 'psychopaths': 8584, 'moderator': 6960, 'preferable': 8371, 'mute': 7150, 'tragic': 10978, 'pock': 8213, 'sorry': 10011, 'pupose': 8619, 'barnsley': 962, 'fern': 3999, 'sociopath': 9957, 'eyelash': 3864, 'beethoven': 1044, 'fulfil': 4306, 'masterpiece': 6626, 'filch': 4038, 'norris': 7432, 'baccarat': 877, 'bisexual': 1208, 'lyndon': 6414, 'liar': 6186, 'interaction': 5468, 'cohen': 2108, 'peddling': 7968, 'soap': 9942, 'smelt': 9906, 'caloric': 1598, 'gor': 4546, 'restore': 9099, 'pan': 7823, 'node': 7407, 'neural': 7306, 'masaru': 6608, 'gotsubo': 4557, 'kadokawa': 5803, 'shoten': 9714, 'lumia': 6392, 'prevention': 8423, 'hotline': 5003, 'om': 7599, 'puri': 8627, 'decaffeinate': 2741, 'afterlife': 223, 'utilities': 11389, 'folder': 4144, 'trigonometric': 11049, 'bod': 1289, 'presence': 8399, 'casket': 1705, 'guilt': 4660, 'prosecute': 8543, 'marrige': 6590, 'evocative': 3745, 'dawn': 2711, 'snow': 9939, 'dilemma': 3012, 'sophist': 10008, 'hacker': 4694, 'stdin': 10199, 'november': 7465, 'circuital': 1965, 'farm': 3928, 'maiko': 6470, 'fujita': 4305, 'prohibit': 8508, 'friendliness': 4270, 'rift': 9171, 'tito': 10875, 'yugoslavia': 12010, 'lincoln': 6233, 'assassinate': 705, 'reputed': 9052, 'cinema': 1961, 'zealand': 12020, 'smartphone': 9902, 'inr': 5406, 'heba': 4823, 'kotb': 5964, 'threw': 10810, 'mad': 6429, 'mckinsey': 6673, 'nikon': 7369, 'seduce': 9534, 'widow': 11811, 'zoroastrian': 12041, 'peacefully': 7957, 'darker': 2697, 'ldsplanet': 6089, 'radium': 8725, 'ballot': 917, 'lenses': 6150, 'baranagar': 954, 'irregular': 5585, 'reflection': 8918, 'subjectivity': 10339, 'autonomy': 831, 'buffer': 1499, 'acceptable': 58, 'landlord': 6027, 'wannacry': 11670, 'jam': 5659, 'psi': 8570, 'sidewall': 9753, 'warrant': 11683, 'subpoena': 10350, 'misspelling': 6920, 'vaccination': 11405, 'hospice': 4994, 'congolese': 2298, 'genocide': 4411, 'lpa': 6369, 'pnp': 8210, 'fabrication': 3874, 'grateful': 4603, 'igrau': 5161, 'arnold': 640, 'schwarzenegger': 9458, 'bankrupt': 943, 'append': 554, 'smarter': 9901, 'leicester': 6135, 'dreaming': 3236, 'soo': 10004, 'noah': 7400, 'ark': 626, 'birthright': 1207, 'longbowman': 6328, 'diver': 3122, 'trunk': 11089, 'ramadan': 8749, 'deteriorate': 2920, 'rib': 9153, 'asperger': 693, 'recognise': 8855, 'sarcasm': 9386, 'autocad': 822, 'dolphin': 3169, 'stats': 10191, 'reproduce': 9042, 'geopolitical': 4428, 'lynch': 6412, 'sink': 9816, 'knockout': 5936, 'mma': 6942, 'conspiracy': 2333, 'rear': 8830, 'buying': 1548, 'winnie': 11840, 'mandela': 6521, 'lewis': 6177, 'clark': 1996, 'nickel': 7351, 'bihar': 1162, 'valuable': 11426, 'cosmetic': 2460, 'dick': 2972, 'pic': 8111, 'vagena': 11408, 'vague': 11411, 'unsolicited': 11314, 'mount': 7069, 'ararat': 602, 'detergent': 2919, 'unusual': 11324, 'storm': 10256, 'brick': 1426, 'brothel': 1459, 'romantize': 9242, 'wait': 11650, 'efficiency': 3403, 'demon': 2829, 'oracle': 7652, 'trinity': 11055, 'leaf': 6095, 'grass': 4601, 'campsites': 1617, 'campfire': 1615, 'incuced': 5284, 'psychotic': 8587, 'ace': 85, 'hardware': 4763, 'predominantly': 8369, 'stomach': 10249, 'pharmacy': 8068, 'ryancare': 9318, 'neurosurgen': 7313, 'charlamagne': 1842, 'stair': 10152, 'remorse': 8999, 'rbi': 8804, 'reluctant': 8986, 'lower': 6363, 'repo': 9033, 'rutherford': 9314, 'chemists': 1880, 'impactful': 5220, 'condominium': 2279, 'feedback': 3979, 'aspd': 691, 'psychopathy': 8585, 'rowing': 9274, 'joy': 5764, 'tiny': 10861, 'terminal': 10717, 'alumnus': 379, 'penn': 7986, 'irs': 5594, 'formula': 4193, 'orthocenter': 7692, 'simulate': 9794, 'tide': 10835, 'converter': 2401, 'yesterday': 11983, 'completly': 2226, 'multilevel': 7111, 'wycliffe': 11938, 'titan': 10872, 'fanfiction': 3920, 'sexuality': 9634, 'notion': 7457, 'escobar': 3667, 'hippo': 4894, 'formal': 4185, 'reputation': 9051, 'catcall': 1727, 'souvenir': 10021, 'kangaroo': 5815, 'scrotum': 9493, 'gig': 4466, 'internment': 5489, 'geneva': 4407, 'convention': 2393, 'symbiosis': 10540, 'voldemort': 11616, 'mutilate': 7152, 'preserve': 8402, 'horcrux': 4976, 'autistic': 818, 'substitute': 10362, 'calombaris': 1597, 'skateboard': 9836, 'deck': 2754, 'truck': 11082, 'tamu': 10601, 'atomic': 755, 'button': 1545, 'narrative': 7208, 'professionally': 8491, 'administer': 153, 'mensa': 6759, 'official': 7572, 'reconcile': 8867, 'wrap': 11913, 'rajasthani': 8741, 'turban': 11117, 'equip': 3641, 'vivo': 11598, 'nikola': 7368, 'modernization': 6962, 'dehumanization': 2794, 'outlaw': 7716, 'restart': 9096, 'safely': 9337, 'merwin': 6784, 'assimilation': 716, 'diversity': 3125, 'representative': 9039, 'differences': 2988, 'timely': 10852, 'fold': 4142, 'ue': 11174, 'ilr': 5192, 'naturalization': 7226, 'happens': 4747, 'sterling': 10219, 'supermarket': 10441, 'correctional': 2446, 'ethic': 3695, 'responsibility': 9091, 'underinformed': 11229, 'brainwash': 1381, 'helmet': 4837, 'streetwear': 10283, 'sidney': 9754, 'crosby': 2562, 'hockey': 4919, 'stun': 10322, 'durgapur': 3307, 'metallurgy': 6799, 'pdfs': 7953, 'ibooks': 5107, 'supermarionation': 10440, 'gerry': 4442, 'anderson': 452, 'limbo': 6225, 'machinarium': 6423, 'scheduling': 9445, 'herbert': 4851, 'gallen': 4348, 'ellen': 3478, 'tracy': 10967, 'microscope': 6838, 'hydraulic': 5072, 'outlet': 7717, 'mediterranean': 6717, 'jeroen': 5697, 'dijsselbloem': 3010, 'brochure': 1448, 'dp': 3216, 'panellenics': 7834, 'holland': 4931, 'runny': 9302, 'sneeze': 9931, 'salute': 9362, 'disintegrate': 3078, 'wildlife': 11822, 'nicolas': 7353, 'secretary': 9520, 'apr': 583, 'kidnap': 5888, 'mueller': 7099, 'resign': 9074, 'plyos': 8205, 'kinsiology': 5911, 'safari': 9334, 'morally': 7028, 'obligate': 7525, 'toyota': 10958, 'camry': 1619, 'conditional': 2276, 'instability': 5422, 'bmw': 1281, 'lexus': 6179, 'finns': 4065, 'edgy': 3384, 'orgasm': 7681, 'companion': 2202, 'ruminant': 9299, 'recycle': 8885, 'glossy': 4498, 'unpredictable': 11304, 'proportion': 8534, 'atlas': 750, 'onecoin': 7606, 'branding': 1390, 'brim': 1434, 'cap': 1643, 'laundry': 6066, 'blank': 1231, 'spoof': 10103, 'vodeo': 11609, 'console': 2330, 'chord': 1928, 'progression': 8506, 'coward': 2496, 'po': 8211, 'jgec': 5710, 'gmr': 4509, 'axis': 860, 'breakthrough': 1408, 'lpu': 6373, 'iter': 5633, 'superheroes': 10435, 'monica': 7001, 'codeine': 2097, 'envision': 3612, 'drilling': 3241, 'rig': 9172, 'ndt': 7256, 'abandon': 10, 'paramahansa': 7853, 'yogananda': 11991, 'carcinogenic': 1670, 'absence': 34, 'emil': 3501, 'behring': 1057, 'physiologist': 8107, 'irritating': 5593, 'collaborate': 2120, 'stroke': 10301, 'lengthy': 6143, 'passage': 7900, 'chsl': 1947, 'reinstate': 8957, 'pennsylvania': 7987, 'dallas': 2675, 'cowboy': 2497, 'rip': 9183, 'infected': 5336, 'piercing': 8118, 'ionic': 5554, 'ethanol': 3690, 'nascant': 7213, 'duplicate': 3302, 'ed': 3379, 'josé': 5759, 'antonio': 520, 'primo': 8438, 'rivera': 9196, 'superficial': 10431, 'vilify': 11550, 'poland': 8232, 'diversify': 3124, 'embarassed': 3490, 'rythm': 9319, 'accurately': 81, 'ununderstandable': 11322, 'uneasiness': 11246, 'commonwealth': 2190, 'nauseous': 7231, 'conception': 2262, 'casteism': 1711, 'prevailing': 8420, 'reign': 8952, 'mario': 6574, 'puzo': 8646, 'godfather': 4520, 'memorable': 6751, 'wither': 11858, 'worthy': 11906, 'ferment': 3998, 'gary': 4374, 'vaynerchuk': 11458, 'energetically': 3555, 'reintroduce': 8958, 'rerum': 9058, 'novarum': 7462, 'nobel': 7402, 'bluemail': 1275, 'newton': 7331, 'programme': 8502, 'parcel': 7862, 'intuitively': 5525, 'inertia': 5329, 'tensor': 10712, 'nimber': 7370, 'intermittent': 5482, 'stunt': 10324, 'growth': 4645, 'puberty': 8592, 'roj': 9229, 'hilata': 4879, 'tge': 10748, 'kashmir': 5830, 'lake': 6015, 'meadow': 6680, 'magazine': 6441, 'purity': 8630, 'belt': 1075, 'wiretapped': 11847, 'vegas': 11469, 'reframe': 8923, 'portrait': 8294, 'dissertation': 3099, 'analytical': 439, 'tetrahydrocannabinol': 10735, 'stimulate': 10236, 'appetite': 555, 'velour': 11482, 'upholstery': 11335, 'autobiography': 821, 'reductionary': 8904, 'increasetionary': 5282, 'legalization': 6122, 'unsay': 11311, 'withstand': 11861, 'comprehensive': 2243, 'entitle': 3600, 'shoplift': 9702, 'dvd': 3312, 'protozoan': 8558, 'december': 2746, 'aggressive': 234, 'deprivation': 2870, 'neurotypicals': 7315, 'concurrent': 2271, 'md': 6678, 'assault': 707, 'harbour': 4757, 'jon': 5749, 'used': 11371, 'nissan': 7379, 'micra': 6831, 'xv': 11957, 'tiago': 10831, 'xz': 11960, 'estimate': 3682, 'pilot': 8127, 'mussolini': 7147, 'enable': 3533, 'evernote': 3733, 'notebooks': 7449, 'encode': 3537, 'videos': 11537, 'router': 9271, 'advices': 186, 'eve': 3724, 'therefore': 10777, 'lorne': 6342, 'greene': 4620, 'infiltrate': 5344, 'rehabilitate': 8950, 'chew': 1888, 'librarian': 6194, 'hmp': 4912, 'pgp': 8064, 'healthcare': 4809, 'rene': 9010, 'descartes': 2881, 'residence': 9069, 'explore': 3833, 'rohingyan': 9225, 'umbrella': 11190, 'preconception': 8363, 'counsel': 2473, 'arnhem': 639, 'gelderland': 4392, 'nl': 7394, 'export': 3837, 'kg': 5875, 'levon': 6174, 'bi': 1147, 'brilliant': 1433, 'indoctrinate': 5313, 'atheism': 742, 'compass': 2209, 'evolved': 3750, 'expend': 3815, 'madras': 6437, 'cinder': 1960, 'vegina': 11474, 'aerodynamics': 196, 'intake': 5446, 'digitalise': 3006, 'les': 6154, 'guppy': 4673, 'snail': 9921, 'algae': 315, 'agenda': 231, 'maga': 6440, 'superposition': 10442, 'theorem': 10770, 'thinktank': 10792, 'toefl': 10889, 'rigor': 9177, 'ec': 3359, 'notorious': 7458, 'overwork': 7755, 'whois': 11799, 'longitude': 6330, 'intercambio': 5470, 'telecom': 10679, 'thanos': 10757, 'antipsychotic': 515, 'slit': 9885, 'diffraction': 2998, 'iims': 5170, 'poisonous': 8229, 'ciro': 1973, 'gomes': 4534, 'coronel': 2439, 'streamr': 10279, 'iota': 5558, 'quarter': 8670, 'gram': 4581, 'meth': 6805, 'weigh': 11738, 'tobacco': 10884, 'ceo': 1784, 'founder': 4209, 'hug': 5028, 'stipens': 10240, 'sergi': 9596, 'constance': 2334, 'typescript': 11147, 'angular': 470, 'cli': 2027, 'thermal': 10778, 'hydro': 5073, 'biomass': 1191, 'conventional': 2394, 'transgenderism': 11001, 'calculater': 1577, 'agricultural': 242, 'kart': 5829, 'auditory': 794, 'synesthesia': 10552, 'deleted': 2803, 'thrawn': 10803, 'lore': 6339, 'moana': 6950, 'disney': 3084, 'selectively': 9547, 'noun': 7459, 'abstract': 40, 'imagery': 5196, 'grader': 4574, 'supercluster': 10429, 'barycentric': 971, 'immortal': 5214, 'roorkee': 9252, 'indigo': 5305, 'wwi': 11936, 'rfc': 9146, 'aircrew': 265, 'assign': 714, 'sbi': 9419, 'trainee': 10982, 'fluency': 4126, 'loki': 6321, 'yoga': 11990, 'revolt': 9136, 'madagascar': 6430, 'suppress': 10453, 'bogged': 1296, 'bloody': 1269, 'indochina': 5312, 'increased': 5281, 'charger': 1839, 'leisure': 6137, 'newbie': 7324, 'cnn': 2076, 'halal': 4704, 'communal': 2192, 'tactically': 10572, 'strategically': 10273, 'comparative': 2206, 'greedy': 4617, 'algorithm': 320, 'dtc': 3266, 'barry': 968, 'marathon': 6563, 'disguise': 3073, 'ludiculous': 6389, 'pluck': 8197, 'tulasi': 11106, 'sensory': 9576, 'continuously': 2375, 'aerospace': 200, 'shria': 9727, 'threadbird': 10804, 'bulk': 1508, 'previously': 8427, 'subsequent': 10355, 'thickness': 10786, 'iterate': 5634, 'ditch': 3119, 'politecnico': 8241, 'torino': 10924, 'ce': 1760, 'sole': 9971, 'delaware': 2799, 'coo': 2408, 'exams': 3763, 'uppsc': 11339, 'prageru': 8348, 'officially': 7573, 'fantastic': 3922, 'freshar': 4257, 'sciatica': 9460, 'wearable': 11717, 'measurement': 6689, 'bodily': 1291, 'circulatory': 1969, 'visually': 11584, 'mathematically': 6636, 'accumulation': 78, 'passive': 7905, 'fatalist': 3942, 'proposal': 8536, 'experienceed': 3821, 'astrophysicist': 733, 'static': 10185, 'dealy': 2729, 'engg': 3563, 'vagina': 11409, 'dryness': 3261, 'intercourse': 5472, 'durex': 3305, 'rightist': 9175, 'totalitarian': 10938, 'discriminate': 3066, 'stinky': 10238, 'cowpoke': 2500, 'stadium': 10147, 'unite': 11275, 'pedophilia': 7970, 'justification': 5794, 'qwrtdfe': 8702, 'unpronounceable': 11305, 'churn': 1954, 'trajectory': 10986, 'fingernail': 4059, 'bemilendu': 1076, 'pandey': 7830, 'steve': 10224, 'bsa': 1478, 'negotiation': 7278, 'contradiction': 2380, 'monotone': 7009, 'penetration': 7984, 'mohali': 6972, 'communicate': 2193, 'badminton': 895, 'yonex': 11997, 'carbonex': 1667, 'nanoray': 7197, 'constitutional': 2341, 'omani': 7601, 'baloch': 918, 'kansas': 5817, 'icici': 5116, 'fasal': 3933, 'bhima': 1137, 'yojana': 11993, 'gallant': 4347, 'taught': 10631, 'cartilage': 1697, 'fwb': 4334, 'illness': 5187, 'sympathize': 10545, 'wilde': 11821, 'dorian': 3190, 'gray': 4609, 'malmo': 6501, 'snoke': 9936, 'maz': 6660, 'kanata': 5813, 'lucasarts': 6383, 'puppet': 8620, 'chewbacca': 1889, 'understanding': 11235, 'responsive': 9093, 'rwd': 9315, 'regimental': 8939, 'opponent': 7632, 'ww': 11934, 'hurdle': 5057, 'nontecnical': 7421, 'sfakians': 9638, 'informatics': 5361, 'versatile': 11501, 'holstering': 4937, 'micron': 6836, 'hp': 5017, 'configuration': 2290, 'remixes': 8997, 'doujinshi': 3205, 'distort': 3110, 'sinful': 9805, 'inhuman': 5381, 'atrocity': 760, 'jiofy': 5724, 'recharge': 8849, 'gross': 4637, 'mechatronics': 6696, 'xmas': 11950, 'diagnosis': 2957, 'cryptography': 2584, 'nap': 7198, 'relive': 8984, 'goldman': 4530, 'sachs': 9326, 'randomly': 8765, 'hf': 4863, 'transceiver': 10989, 'emirate': 3503, 'monaco': 6986, 'boys': 1369, 'natured': 7229, 'unknown': 11286, 'commie': 2179, 'ufos': 11177, 'ghost': 4452, 'collages': 2124, 'appease': 553, 'armpit': 635, 'yeast': 11973, 'lock': 6301, 'necessity': 7264, 'stripe': 10298, 'sallary': 9357, 'chiwawas': 1910, 'shoukd': 9716, 'adelaide': 138, 'striker': 10295, 'bash': 977, 'metallic': 6798, 'golang': 4525, 'timetable': 10853, 'bust': 1539, 'stall': 10157, 'pedophile': 7969, 'karna': 5827, 'ekalavya': 3429, 'confront': 2295, 'mahabharata': 6457, 'repressed': 9041, 'demonitisation': 2831, 'eith': 3423, 'uceed': 11166, 'grandson': 4588, 'terrify': 10723, 'aftermath': 224, 'section': 9524, 'resort': 9084, 'schizoid': 9447, 'barter': 969, 'starrett': 10171, 'isabel': 5596, 'allende': 346, 'colorado': 2145, 'sweat': 10515, 'bump': 1515, 'inorganic': 5401, 'elder': 3436, 'badam': 892, 'pisin': 8143, 'incapable': 5260, 'licensing': 6199, 'supplier': 10447, 'novorossiysk': 7467, 'novosibirsk': 7468, 'oblast': 7524, 'destroyed': 2907, 'ge': 4388, 'chief': 1895, 'innovation': 5399, 'encounter': 3538, 'surprise': 10473, 'moroccan': 7036, 'prestigious': 8410, 'slurp': 9896, 'anytime': 529, 'limb': 6224, 'troll': 11067, 'idiots': 5142, 'bigot': 1161, 'diplomatic': 3032, 'sardar': 9389, 'patel': 7915, 'casserole': 1707, 'oven': 7730, 'lego': 6131, 'gowlidoddy': 4564, 'sharing': 9662, 'submachineguns': 10344, 'eomer': 3616, 'aragorn': 600, 'wrestle': 11917, 'plutonium': 8204, 'made': 6433, 'propositional': 8539, 'sneak': 9929, 'du': 3268, 'casino': 1704, 'chrome': 1939, 'matt': 6644, 'webb': 11722, 'muhajirs': 7102, 'defame': 2773, 'intimate': 5508, 'co': 2077, 'vps': 11633, 'mos': 7043, 'lynda': 6413, 'laurel': 6067, 'wreath': 11916, 'babysitter': 875, 'prophet': 8532, 'actively': 111, 'lipton': 6253, 'aromatic': 642, 'baptize': 951, 'veil': 11477, 'vitiligo': 11592, 'perfluoromethyldecalin': 8010, 'enrich': 3583, 'wine': 11833, 'liability': 6184, 'accident': 63, 'kashmiri': 5831, 'pandit': 7831, 'brutal': 1474, 'designate': 2890, 'pawn': 7936, 'viewer': 11542, 'fairelynna': 3897, 'fairelyia': 3896, 'cairelynn': 1567, 'brenaiya': 1420, 'ebola': 3355, 'flatulence': 4097, 'pink': 8134, 'mlas': 6937, 'disqualify': 3095, 'defection': 2776, 'arunachal': 668, 'schizophrenia': 9448, 'stigmatize': 10234, 'maritime': 6577, 'disposition': 3093, 'probability': 8464, 'acquire': 99, 'hiv': 4907, 'enzymes': 3615, 'biocatalyst': 1184, 'saffron': 9340, 'strand': 10268, 'grain': 4580, 'graphite': 4599, 'wat': 11695, 'flee': 4104, 'ahead': 244, 'copyright': 2428, 'elisabeth': 3473, 'shue': 9732, 'whirlpool': 11791, 'yellow': 11976, 'pernicious': 8033, 'anemia': 458, 'subsaharan': 10352, 'frigidaire': 4277, 'affinity': 212, 'washer': 11691, 'vicious': 11525, 'warlord': 11678, 'muhammad': 7103, 'paragon': 7847, 'ideological': 5136, 'sect': 9522, 'devote': 2943, 'doggystyle': 3160, 'zodiac': 12035, 'automobile': 828, 'polnad': 8254, 'wpu': 11911, 'qaeda': 8655, 'richest': 9161, 'roundabout': 9266, 'socially': 9950, 'uninstalled': 11269, 'fro': 4279, 'dell': 2813, 'aia': 251, 'ms': 7088, 'predestination': 8365, 'parter': 7883, 'fx': 4335, 'vat': 11455, 'justified': 5795, 'ashdod': 678, 'patrol': 7928, 'handler': 4732, 'alert': 309, 'disgusting': 3075, 'scrapbook': 9478, 'carlas': 1684, 'olampic': 7590, 'kindergartener': 5904, 'sequestration': 9593, 'airstrike': 274, 'kurdish': 5981, 'obummer': 7542, 'differs': 2994, 'alejandro': 308, 'garcia': 4361, 'honk': 4964, 'incessantly': 5263, 'indiscriminately': 5308, 'uncivilized': 11210, 'rc': 8805, 'tilt': 10849, 'ministry': 6890, 'reshuffle': 9067, 'yeat': 11974, 'netanyahu': 7297, 'speeding': 10070, 'bulky': 1509, 'warning': 11682, 'gunman': 4672, 'equivalent': 3644, 'tectonics': 10670, 'coca': 2089, 'cola': 2116, 'fructose': 4289, 'syrup': 10561, 'manufacturer': 6554, 'cane': 1632, 'maidstone': 6469, 'aristotle': 622, 'plato': 8180, 'socrates': 9960, 'relevance': 8976, 'dengue': 2834, 'merengue': 6775, 'peg': 7973, 'diane': 2967, 'keaton': 5844, 'smash': 9904, 'blankie': 1233, 'stuffed': 10321, 'environmentalism': 3610, 'obscure': 7529, 'hatred': 4786, 'industrial': 5325, 'miner': 6880, 'wieser': 11814, 'idaho': 5126, 'vertex': 11505, 'estimation': 3683, 'folin': 4145, 'wu': 11932, 'colorimeter': 2147, 'complimentary': 2234, 'moses': 7045, 'creep': 2539, 'slept': 9877, 'crept': 2542, 'kept': 5862, 'beep': 1042, 'peep': 7972, 'cheep': 1868, 'mix': 6931, 'rainbow': 8737, 'rishon': 9187, 'leziyyon': 6180, 'lombard': 6323, 'ccna': 1755, 'temporal': 10703, 'diorama': 3027, 'beside': 1105, 'psychodynamic': 8577, 'liberia': 6189, 'suffocate': 10384, 'successul': 10372, 'falklands': 3905, 'argentina': 616, 'humxms': 5044, 'humxns': 5045, 'slack': 9862, 'grey': 4626, 'anatomy': 446, 'intelligently': 5458, 'habitable': 4690, 'divine': 3129, 'providence': 8564, 'optimism': 7646, 'delicate': 2808, 'youth': 12002, 'brimstone': 1435, 'saddlebag': 9332, 'believable': 1065, 'preach': 8357, 'climate': 2033, 'catastrophists': 1726, 'blindfold': 1250, 'hulk': 5030, 'crappy': 2517, 'liturgy': 6278, 'unify': 11265, 'strengthen': 10286, 'melissa': 6738, 'vandella': 11433, 'avril': 845, 'lavigne': 6070, 'imposter': 5239, 'laffer': 6008, 'inflection': 5353, 'nephew': 7290, 'pmc': 8209, 'knowledgeable': 5940, 'highlight': 4874, 'regan': 8935, 'wisdom': 11848, 'erupt': 3662, 'broadband': 1444, 'hod': 4920, 'prague': 8349, 'audition': 792, 'bengalis': 1088, 'infrared': 5368, 'transparent': 11014, 'nicki': 7352, 'minaj': 6871, 'subtend': 10363, 'legalize': 6123, 'nris': 7474, 'hesitant': 4859, 'desk': 2896, 'horizontal': 4978, 'notation': 7446, 'controller': 2389, 'mistakely': 6923, 'screenplay': 9485, 'trollhunter': 11068, 'toga': 10890, 'gcse': 4384, 'afar': 204, 'miui': 6929, 'tag': 10574, 'badass': 893, 'dumbbell': 3288, 'elein': 3463, 'sedition': 9533, 'utensil': 11387, 'hsc': 5021, 'poetic': 8221, 'elastic': 3431, 'descriptive': 2886, 'inbuilt': 5258, 'uae': 11158, 'hampton': 4720, 'redefine': 8892, 'banta': 948, 'gb': 4383, 'ram': 8747, 'sulfur': 10399, 'suv': 10497, 'unreasonable': 11307, 'boring': 1334, 'weirdo': 11745, 'colourful': 2151, 'lemming': 6138, 'animosity': 477, 'makeover': 6486, 'exclusivity': 3785, 'arc': 605, 'sens': 9569, 'diplopia': 3033, 'hegel': 4830, 'separately': 9585, 'angiogram': 466, 'applied': 562, 'columbia': 2152, 'relevant': 8977, 'contended': 2363, 'contend': 2362, 'pla': 8152, 'badmouths': 896, 'scent': 9442, 'ar': 591, 'vr': 11634, 'slobs': 9886, 'snobs': 9935, 'dracula': 3218, 'rancor': 8762, 'pact': 7788, 'avenger': 840, 'layoff': 6078, 'ola': 7589, 'closer': 2050, 'parchment': 7863, 'devise': 2940, 'outgo': 7715, 'bmi': 1278, 'rotc': 9259, 'universities': 11281, 'unpaid': 11300, 'intern': 5483, 'jog': 5736, 'kilometer': 5899, 'thief': 10787, 'disgrace': 3072, 'klaus': 5924, 'eberwein': 3354, 'koren': 5959, 'smth': 9917, 'steph': 10211, 'mcgovern': 6672, 'elocution': 3480, 'theano': 10759, 'lightweight': 6218, 'situate': 9829, 'enrol': 3586, 'downward': 3214, 'spiral': 10089, 'distilled': 3106, 'mb': 6661, 'mentionong': 6765, 'facilitator': 3881, 'iso': 5613, 'unnoticed': 11299, 'unlikeable': 11289, 'kcet': 5842, 'inhabitant': 5377, 'forge': 4177, 'transcript': 10992, 'shanghai': 9655, 'dramatically': 3227, 'hundred': 5049, 'smartphones': 9903, 'cajuns': 1569, 'consequential': 2316, 'surrender': 10475, 'pi': 8109, 'agarwood': 227, 'consular': 2347, 'rohingya': 9224, 'uneducated': 11248, 'autistics': 819, 'raw': 8800, 'colombian': 2139, 'lenient': 6145, 'guerrilla': 4653, 'surroundings': 10478, 'bronchoconstriction': 1456, 'bregoli': 1418, 'detain': 2912, 'chaser': 1854, 'nyc': 7504, 'concert': 2265, 'msg': 7090, 'toyotomi': 10959, 'hideyoshi': 4869, 'samurai': 9370, 'norton': 7438, 'suite': 10397, 'criticize': 2555, 'expression': 3842, 'performs': 8015, 'row': 9273, 'inmate': 5394, 'dine': 3021, 'fxpro': 4336, 'batch': 987, 'hindus': 4890, 'hinduism': 4889, 'brings': 1437, 'agriculture': 243, 'nikah': 7366, 'halala': 4705, 'keyword': 5874, 'checker': 1867, 'whip': 11789, 'fervor': 4005, 'cheer': 1869, 'capable': 1645, 'infinite': 5345, 'zebra': 12022, 'uc': 11164, 'diego': 2978, 'skype': 9856, 'dummy': 3291, 'marsoc': 6596, 'delta': 2816, 'snapper': 9927, 'bribe': 1424, 'psat': 8568, 'interval': 5502, 'sagan': 9341, 'visisted': 11578, 'realise': 8822, 'seal': 9503, 'inhalation': 5378, 'ebook': 3356, 'precious': 8361, 'sacrifice': 9329, 'philosophically': 8082, 'feasible': 3968, 'boil': 1298, 'celcius': 1762, 'blaster': 1237, 'cannon': 1635, 'anger': 465, 'drum': 3257, 'electrolux': 3452, 'horror': 4988, 'distinct': 3107, 'thomas': 10794, 'utopia': 11392, 'annotation': 487, 'mph': 7081, 'adjustable': 150, 'amit': 411, 'tatkal': 10629, 'hosting': 5000, 'horny': 4985, 'modiji': 6967, 'advertisement': 183, 'louise': 6354, 'douglas': 3203, 'mymit': 7161, 'lse': 6375, 'simultaneously': 9797, 'capability': 1644, 'whis': 11792, 'strict': 10292, 'pour': 8327, 'lobby': 6293, 'availability': 836, 'navigation': 7236, 'stranger': 10271, 'jews': 5709, 'nazis': 7241, 'secular': 9527, 'thermodynamic': 10780, 'kirby': 5912, 'uub': 11398, 'balloon': 916, 'induction': 5321, 'overreaching': 7744, 'ore': 7667, 'ingot': 5372, 'bauru': 997, 'sp': 10027, 'brazil': 1399, 'arguement': 618, 'slap': 9865, 'spear': 10052, 'le': 6090, 'depict': 2855, 'patriarchy': 7925, 'transferable': 10996, 'rhyme': 9151, 'mehboob': 6729, 'nitish': 7383, 'kumar': 5977, 'wih': 11817, 'yadav': 11964, 'ordered': 7665, 'dump': 3292, 'fpga': 4216, 'teachers': 10651, 'classclowns': 1998, 'empirical': 3520, 'miscarriage': 6902, 'grill': 4631, 'midwife': 6845, 'certify': 1795, 'bobsleigh': 1288, 'cameras': 1609, 'earning': 3333, 'vloggers': 11601, 'pee': 7971, 'ameen': 403, 'buainess': 1487, 'vipasha': 11561, 'khanna': 5880, 'label': 5996, 'boruto': 1339, 'cba': 1749, 'frog': 4282, 'intend': 5459, 'ate': 740, 'kitten': 5918, 'correctly': 2447, 'equally': 3634, 'safeguard': 9336, 'chlorophyceae': 1914, 'facewash': 3879, 'idiot': 5141, 'illegals': 5184, 'descent': 2883, 'perception': 8001, 'borderline': 1329, 'existent': 3799, 'solely': 9973, 'prism': 8451, 'baseless': 974, 'worly': 11897, 'parson': 7880, 'equinox': 3640, 'epc': 3617, 'appshopper': 581, 'nicely': 7347, 'appstore': 582, 'hastings': 4781, 'banda': 929, 'aurangzeb': 801, 'assasinate': 703, 'chhatrapati': 1890, 'sambhaji': 9363, 'manusmriti': 6556, 'brahmin': 1376, 'sum': 10405, 'converges': 2397, 'overheard': 7738, 'malicious': 6497, 'ash': 677, 'cassandra': 1706, 'clare': 1993, 'thrush': 10820, 'gardner': 4364, 'scanner': 9430, 'quadrant': 8659, 'mivan': 6930, 'shutter': 9737, 'resonance': 9083, 'haxratanj': 4793, 'bolt': 1303, 'areaof': 615, 'etymology': 3706, 'abbreviation': 15, 'secondary': 9517, 'cockroach': 2091, 'garage': 4359, 'baluchistan': 921, 'muscarinic': 7136, 'receptor': 8847, 'nephilim': 7291, 'dublin': 3276, 'arizona': 625, 'hall': 4710, 'perceive': 7997, 'westworld': 11761, 'suffering': 10382, 'cheetahs': 1870, 'trait': 10984, 'kathie': 5833, 'gifford': 4464, 'cereal': 1787, 'unused': 11323, 'grazing': 4611, 'settlement': 9616, 'carbs': 1668, 'acually': 118, 'statesman': 10183, 'lymphokine': 6411, 'shree': 9725, 'iitians': 5176, 'eric': 3653, 'lakeland': 6016, 'promise': 8516, 'nicholas': 7349, 'cruz': 2577, 'roommate': 9251, 'athiest': 746, 'chronic': 1943, 'rash': 8784, 'slavery': 9868, 'raksha': 8745, 'sloga': 9887, 'recite': 8852, 'geological': 4423, 'likelihood': 6220, 'saxon': 9413, 'bruhl': 1469, 'palace': 7816, 'warsaw': 11687, 'placebo': 8154, 'superhuman': 10436, 'sigma': 9757, 'jeju': 5689, 'okinawa': 7588, 'pu': 8590, 'forth': 4195, 'utilize': 11391, 'probably': 8466, 'sendai': 9566, 'earthquake': 3341, 'coconut': 2093, 'drupe': 3259, 'incompatible': 5273, 'horticulture': 4992, 'feather': 3969, 'scheduled': 9444, 'labyrinthitis': 6000, 'microalgae': 6832, 'hygiene': 5079, 'brushing': 1473, 'bathing': 988, 'naive': 7187, 'loop': 6334, 'slum': 9894, 'vibration': 11523, 'venis': 11486, 'gripe': 4634, 'hostel': 4999, 'godzilla': 4521, 'indominus': 5314, 'prostatitis': 8547, 'dani': 2687, 'alves': 381, 'neymar': 7336, 'bitch': 1212, 'vormann': 11627, 'berlin': 1102, 'architect': 610, 'bhai': 1124, 'kabadi': 5800, 'anywhere': 531, 'dietary': 2982, 'perentie': 8004, 'lizard': 6283, 'raspberry': 8786, 'tab': 10565, 'chromium': 1941, 'jindal': 5719, 'mikhail': 6852, 'kutuzov': 5986, 'methane': 6806, 'misuse': 6925, 'interpersonal': 5492, 'sentiment': 9580, 'civilization': 1987, 'geographical': 4421, 'infest': 5342, 'usefulness': 11373, 'calcify': 1574, 'granuloma': 4593, 'simcoe': 9781, 'tsundere': 11097, 'malone': 6502, 'complexity': 2228, 'sas': 9393, 'congruence': 2300, 'postulate': 8317, 'sitcom': 9825, 'diaper': 2968, 'mutually': 7155, 'gaslighting': 4377, 'fluoride': 4131, 'toothpaste': 10913, 'tally': 10594, 'erp': 3658, 'composer': 2239, 'overall': 7733, 'arrear': 649, 'studied': 10315, 'crash': 2518, 'oceanic': 7552, 'crust': 2576, 'continental': 2370, 'moderation': 6959, 'blair': 1228, 'outermost': 7713, 'rubidium': 9288, 'pyrite': 8651, 'mandate': 6518, 'reconciliation': 8868, 'statutory': 10196, 'unconscious': 11216, 'wimp': 11828, 'rounded': 9267, 'boycott': 1366, 'randhawa': 8763, 'sh': 9639, 'deadly': 2723, 'nondurable': 7418, 'mummy': 7120, 'cmos': 2072, 'cpu': 2506, 'passenger': 7903, 'housework': 5010, 'zeroadha': 12025, 'unbanned': 11202, 'prone': 8520, 'retract': 9118, 'reissue': 8960, 'rectify': 8882, 'noc': 7405, 'parrelal': 7879, 'calm': 1596, 'aiesec': 256, 'whichtreatment': 11784, 'blade': 1227, 'exemption': 3791, 'parkland': 7874, 'misguided': 6907, 'admin': 152, 'laziness': 6081, 'tata': 10628, 'moflex': 6969, 'sandwich': 9376, 'mms': 6945, 'zionist': 12030, 'denial': 2835, 'osteoarthritis': 7701, 'aarushi': 8, 'talwar': 10596, 'anal': 432, 'hemraj': 4844, 'convergent': 2396, 'blindness': 1252, 'maryland': 6607, 'eczema': 3378, 'sulls': 10400, 'chelsea': 1874, 'theoretically': 10772, 'zombies': 12038, 'uni': 11261, 'ut': 11385, 'westboro': 11756, 'baptist': 950, 'nid': 7354, 'behavioral': 1053, 'schizophrenic': 9449, 'truss': 11090, 'daw': 2709, 'autotuning': 833, 'inviter': 5546, 'ayahuasca': 861, 'metric': 6812, 'malaysia': 6494, 'ignou': 5160, 'theoretical': 10771, 'vaule': 11457, 'candle': 1631, 'asus': 735, 'adaptation': 125, 'unconsentual': 11217, 'iica': 5164, 'cylindrical': 2651, 'module': 6968, 'ferrite': 4002, 'bead': 1017, 'blackout': 1225, 'stuck': 10312, 'compactall': 2200, 'compactor': 2201, 'neutral': 7316, 'repel': 9025, 'nazism': 7242, 'hyena': 5078, 'coyote': 2502, 'hanoverian': 4743, 'codeforces': 2096, 'ambani': 395, 'betelnuts': 1109, 'ceremony': 1789, 'volatility': 11614, 'overnight': 7740, 'volatile': 11613, 'passout': 7906, 'telogen': 10694, 'effluvium': 3406, 'reopen': 9017, 'vsc': 11637, 'frustrating': 4293, 'malkovich': 6499, 'thai': 10752, 'diabetes': 2953, 'ifix': 5151, 'broken': 1450, 'isolate': 5614, 'coming': 2172, 'christ': 1934, 'sombrero': 9990, 'barycentre': 970, 'canyon': 1642, 'ifttt': 5153, 'vimeo': 11553, 'playlist': 8188, 'timeline': 10851, 'singing': 9811, 'attainable': 765, 'albeit': 299, 'variety': 11444, 'crown': 2570, 'ranchi': 8761, 'pogues': 8223, 'characteristics': 1834, 'applaud': 556, 'uniformly': 11264, 'jerusalem': 5699, 'arrogant': 655, 'showoffs': 9723, 'sitting': 9828, 'inevitably': 5331, 'psychosis': 8586, 'tr': 10961, 'optional': 7650, 'cannabis': 1633, 'intestinal': 5506, 'bmr': 1279, 'menace': 6756, 'contrition': 2386, 'chateau': 1857, 'pierrefonds': 8120, 'gist': 4478, 'legs': 6132, 'sudan': 10376, 'practicals': 8343, 'masonry': 6614, 'fc': 3957, 'westbengal': 11755, 'kgp': 5876, 'durgapore': 3306, 'taylor': 10641, 'devito': 2941, 'ets': 3702, 'horus': 4993, 'ra': 8703, 'capella': 1648, 'mr': 7084, 'awadesh': 847, 'secularism': 9528, 'wasp': 11693, 'recover': 8873, 'cannae': 1634, 'overtake': 7748, 'scroll': 9492, 'vi': 11518, 'skyrim': 9858, 'aide': 255, 'copter': 2426, 'unpowered': 11303, 'helicopter': 4834, 'redirect': 8898, 'cardholder': 1672, 'khmer': 5883, 'vietnam': 11538, 'shia': 9676, 'authenticate': 809, 'sincerity': 9802, 'aerial': 194, 'subway': 10367, 'toa': 10881, 'blacklist': 1223, 'echolocation': 3362, 'tripping': 11058, 'scientologists': 9464, 'unavoidable': 11200, 'imminent': 5211, 'ug': 11178, 'oregon': 7669, 'unilever': 11267, 'hindustan': 4891, 'mountaineer': 7071, 'confess': 2286, 'rejection': 8962, 'bf': 1119, 'whiskey': 11793, 'zimbabwe': 12027, 'defeat': 2775, 'homer': 4947, 'elledge': 3477, 'reevaluate': 8908, 'sixth': 9832, 'nadu': 7179, 'indestructible': 5293, 'teleport': 10689, 'negate': 7272, 'bremen': 1419, 'isabella': 5597, 'castile': 1712, 'torque': 10929, 'mosque': 7048, 'monarch': 6987, 'constanta': 2336, 'sermon': 9602, 'boot': 1325, 'grail': 4579, 'shuttle': 9739, 'bounce': 1352, 'chiggers': 1896, 'harayana': 4754, 'fierce': 4029, 'practicings': 8345, 'bouts': 1357, 'garmin': 4371, 'fishfinder': 4077, 'taqiyya': 10616, 'intps': 5513, 'sulphur': 10402, 'kuala': 5974, 'lumpur': 6393, 'myanmar': 7158, 'da': 2657, 'vanci': 11431, 'seeing': 9538, 'reva': 9125, 'mandarin': 6517, 'haram': 4751, 'stormy': 10259, 'daniel': 2688, 'oppositely': 7636, 'pray': 8354, 'xylem': 11959, 'phloem': 8085, 'compile': 2219, 'tvc': 11132, 'unappreciative': 11197, 'ito': 5636, 'plastic': 8172, 'ion': 5553, 'barrier': 966, 'stepmother': 10213, 'remedey': 8991, 'apportion': 567, 'electoral': 3443, 'tasking': 10625, 'marshmallow': 6595, 'garp': 4372, 'frm': 4278, 'hone': 4957, 'uttar': 11394, 'immaturity': 5206, 'talladega': 10591, 'aluminium': 377, 'compassionate': 2211, 'palpatine': 7822, 'validate': 11420, 'emptiness': 3528, 'jnu': 5728, 'traditionally': 10973, 'instantaneously': 5430, 'messenger': 6791, 'perspective': 8047, 'endurance': 3551, 'riding': 9169, 'girth': 4476, 'unc': 11208, 'charlotte': 1846, 'smoking': 9912, 'carr': 1690, 'srcc': 10129, 'bcom': 1009, 'subsidiary': 10356, 'thus': 10828, 'indeed': 5288, 'frobenius': 4280, 'disjunct': 3079, 'compnay': 2236, 'richardson': 9160, 'liberty': 6191, 'avoidant': 844, 'thesis': 10783, 'xpack': 11953, 'flea': 4102, 'unlock': 11293, 'involved': 5549, 'imaginary': 5197, 'alex': 310, 'rodriguez': 9218, 'grievance': 4628, 'diabetic': 2954, 'pageviews': 7795, 'iisers': 5174, 'breathable': 1413, 'glassdoor': 4489, 'squeaker': 10127, 'pigeon': 8122, 'gorillavid': 4551, 'click': 2028, 'theism': 10766, 'viewpoint': 11543, 'layout': 6079, 'aiactr': 252, 'feminisam': 3991, 'quiet': 8685, 'reactivate': 8812, 'deactivated': 2720, 'bend': 1080, 'clarity': 1995, 'obfuscate': 7517, 'fpv': 4217, 'drone': 3249, 'claw': 2011, 'discounting': 3062, 'powerball': 8332, 'lottery': 6350, 'anual': 521, 'beautiness': 1028, 'printed': 8445, 'swan': 10507, 'binding': 1179, 'selective': 9546, 'inquire': 5405, 'sidetrack': 9751, 'subjugate': 10340, 'customize': 2637, 'refrigerate': 8925, 'flyer': 4136, 'customise': 2636, 'philosophic': 8080, 'fairly': 3898, 'wonderful': 11872, 'biochemistry': 1185, 'metabolism': 6794, 'civilize': 1988, 'turbocharge': 11118, 'carburetor': 1669, 'resemble': 9061, 'subspace': 10359, 'astrophysics': 734, 'heating': 4820, 'filipino': 4041, 'wallpaper': 11662, 'monetize': 6991, 'monetary': 6990, 'compensation': 2214, 'collaborative': 2122, 'suspect': 10489, 'neighbor': 7280, 'oxidization': 7766, 'glycerine': 4505, 'permanganate': 8026, 'syringe': 10560, 'gf': 4446, 'waterbugs': 11698, 'zlatans': 12033, 'cl': 1989, 'hiding': 4870, 'coinbase': 2113, 'sprinkler': 10114, 'cfa': 1799, 'medicial': 6710, 'unload': 11292, 'assistantship': 719, 'thrown': 10819, 'benzene': 1097, 'avaliable': 838, 'cúram': 2656, 'bosnian': 1341, 'icon': 5118, 'emoji': 3508, 'kayboard': 5840, 'recognition': 8856, 'technically': 10662, 'wonder': 11871, 'diana': 2966, 'shashank': 9666, 'cochin': 2090, 'juvenile': 5799, 'violent': 11559, 'resides': 9073, 'rashtrapati': 8785, 'bhavan': 1134, 'strait': 10267, 'gibraltar': 4462, 'overwater': 7752, 'hermione': 4854, 'granger': 4589, 'tomes': 10902, 'voraciously': 11626, 'expire': 3825, 'intraday': 5514, 'sychronous': 10534, 'framworks': 4226, 'pregel': 8378, 'persian': 8037, 'tetanus': 10732, 'vaccine': 11406, 'mathura': 6639, 'vrindavan': 11635, 'arthur': 661, 'magtf': 6456, 'carreer': 1691, 'panzer': 7841, 'dehumidifier': 2795, 'starter': 10176, 'engage': 3560, 'taxation': 10636, 'novemeber': 7466, 'austerity': 803, 'fetch': 4010, 'delusional': 2818, 'inculcated': 5286, 'credential': 2535, 'informative': 5363, 'ramshorn': 8759, 'immaterial': 5204, 'delicious': 2810, 'yaris': 11968, 'mpg': 7080, 'rameshwaram': 8753, 'shweta': 9740, 'shalini': 9649, 'looting': 6337, 'jiofi': 5723, 'huf': 5027, 'elevate': 3466, 'nominee': 7415, 'rubio': 9290, 'carson': 1694, 'cain': 1566, 'fiorina': 4067, 'versus': 11504, 'ncr': 7253, 'skywalker': 9860, 'redundant': 8906, 'perimeter': 8018, 'lender': 6141, 'refinance': 8915, 'smo': 9909, 'tabloid': 10568, 'dying': 3319, 'camilla': 1610, 'alcoholic': 305, 'ocr': 7553, 'lums': 6394, 'sse': 10138, 'lahore': 6014, 'sidewalk': 9752, 'neck': 7265, 'ibps': 5108, 'sneaker': 9930, 'stye': 10329, 'atmospheric': 753, 'inmo': 5395, 'rogaine': 9219, 'foam': 4137, 'groom': 4636, 'seemingly': 9541, 'regulatory': 8949, 'persistent': 8040, 'directive': 3037, 'hoard': 4914, 'bpd': 1371, 'deloitte': 2814, 'amnesia': 419, 'tuvans': 11130, 'commandment': 2175, 'amortize': 422, 'rewrite': 9144, 'whining': 11788, 'vcs': 11462, 'securitization': 9531, 'eyesight': 3868, 'rrb': 9278, 'communism': 2195, 'opening': 7621, 'ibn': 5106, 'khaldun': 5877, 'burst': 1531, 'subprime': 10351, 'maruthi': 6600, 'suzuki': 10499, 'dzire': 3323, 'explaination': 3827, 'redeem': 8891, 'nashville': 7214, 'excitement': 3781, 'rcc': 8807, 'industrialize': 5326, 'lohar': 6319, 'pwc': 8649, 'announcement': 489, 'sebi': 9514, 'liverpool': 6281, 'rom': 9234, 'repeatable': 9022, 'persimmon': 8038, 'baggage': 899, 'tight': 10841, 'forex': 4176, 'greatly': 4614, 'urge': 11356, 'collude': 2136, 'eggnog': 3411, 'brandy': 1392, 'pompeii': 8266, 'zach': 12013, 'tedy': 10673, 'bruschi': 1471, 'plzzz': 8207, 'harden': 4760, 'oval': 7728, 'shape': 9657, 'accentuate': 56, 'preferred': 8374, 'athletes': 748, 'oddly': 7558, 'proportioned': 8535, 'landmark': 6028, 'jarvis': 5673, 'simultaneous': 9796, 'dice': 2971, 'yajyas': 11965, 'ganesh': 4355, 'infra': 5366, 'shiver': 9693, 'bhagabat': 1122, 'athletics': 749, 'retructuring': 9121, 'monitoring': 7003, 'ncaa': 7248, 'puddle': 8599, 'mahavatar': 6463, 'babaji': 869, 'roi': 9228, 'mercyhurst': 6772, 'pal': 7815, 'biblical': 1150, 'bathsheba': 990, 'precedent': 8359, 'catalonia': 1722, 'unilaterally': 11266, 'catalans': 1721, 'penalize': 7976, 'caan': 1556, 'josaa': 5757, 'jianyang': 5714, 'sichuan': 9746, 'cab': 1557, 'cognitively': 2106, 'cumulative': 2611, 'determinate': 2922, 'interpret': 5493, 'predominant': 8368, 'swenson': 10522, 'cottonseed': 2467, 'manaphy': 6513, 'firearms': 4070, 'ownership': 7762, 'marina': 6572, 'multiply': 7116, 'genetics': 4406, 'assad': 700, 'ahmadinejad': 246, 'craziest': 2523, 'yemen': 11981, 'alimony': 332, 'depend': 2851, 'janet': 5667, 'lipomas': 6251, 'encrypted': 3540, 'motorola': 7067, 'aakash': 5, 'electrolysis': 3453, 'electrode': 3450, 'mm': 6941, 'fragile': 4221, 'workload': 11890, 'polytechnic': 8264, 'alike': 330, 'lowered': 6364, 'handbook': 4725, 'smurfs': 9918, 'gnome': 4511, 'unvaccinated': 11325, 'stractched': 10264, 'fuse': 4330, 'panasonic': 7825, 'rabies': 8705, 'beehive': 1041, 'flamethrower': 4091, 'outspoken': 7725, 'hurtful': 5061, 'worthwhile': 11905, 'survey': 10480, 'elected': 3439, 'vetting': 11513, 'clearance': 2020, 'refund': 8930, 'arrive': 653, 'astronaut': 729, 'blink': 1254, 'tom': 10898, 'delonge': 2815, 'strontium': 10304, 'xenon': 11942, 'cup': 2613, 'viewed': 11541, 'patr': 7922, 'woud': 11907, 'electorate': 3444, 'massively': 6623, 'martin': 6599, 'luther': 6404, 'eeca': 3396, 'oedipus': 7565, 'holding': 4928, 'beverley': 1115, 'naidoo': 7184, 'preference': 8373, 'daf': 2666, 'adiru': 145, 'heading': 4803, 'mgm': 6819, 'infinitely': 5346, 'vacuum': 11407, 'hawaiian': 4791, 'inconsistent': 5276, 'adwords': 191, 'stabilize': 10143, 'telephone': 10688, 'initiate': 5384, 'aware': 852, 'fucking': 4303, 'fulfill': 4307, 'obligation': 7527, 'wormhole': 11898, 'swastik': 10510, 'obamacare': 7511, 'organiser': 7675, 'comfortable': 2169, 'obvious': 7543, 'harbrioum': 4758, 'bully': 1513, 'hectare': 4826, 'superfood': 10432, 'skincare': 9848, 'accordance': 70, 'utilitarianism': 11388, 'sexist': 9630, 'slam': 9863, 'telekinesis': 10683, 'mitigate': 6927, 'redenomination': 8894, 'spasm': 10045, 'dumber': 3289, 'smoothy': 9916, 'closure': 2051, 'subtraction': 10366, 'align': 328, 'quark': 8668, 'hatter': 4787, 'waist': 11649, 'hdtv': 4800, 'vga': 11516, 'adhere': 142, 'panic': 7835, 'disco': 3057, 'fecal': 3971, 'intestine': 5507, 'aud': 783, 'psg': 8569, 'valencia': 11417, 'barca': 957, 'inter': 5466, 'thr': 10802, 'undefeated': 11219, 'invincibles': 5541, 'cept': 1785, 'aicte': 253, 'stipend': 10239, 'pgdm': 8062, 'hannibal': 4742, 'cliffhanger': 2032, 'skyscraper': 9859, 'outstanding': 7726, 'modeling': 6956, 'informal': 5360, 'rugby': 9293, 'excellent': 3769, 'illustrator': 5191, 'tcan': 10646, 'trauma': 11023, 'planner': 8165, 'index': 5294, 'cervical': 1796, 'spine': 10087, 'dissociation': 3102, 'acceleration': 54, 'surcharge': 10459, 'appearance': 552, 'spirited': 10091, 'hoe': 4921, 'delay': 2800, 'swiggy': 10524, 'individualism': 5310, 'mere': 6773, 'illusion': 5189, 'tango': 10606, 'precipitation': 8362, 'challanges': 1815, 'atheists': 744, 'spat': 10046, 'pollinate': 8251, 'slogan': 9888, 'tedx': 10672, 'stucks': 10313, 'irder': 5578, 'coping': 2424, 'musical': 7142, 'instrument': 5438, 'langauage': 6031, 'appointment': 565, 'screening': 9484, 'varns': 11449, 'varnmala': 11448, 'aaf': 3, 'cbs': 1751, 'jeopardize': 5693, 'formality': 4187, 'talmud': 10595, 'cna': 2075, 'spherical': 10075, 'lua': 6381, 'unreal': 11306, 'chant': 1828, 'unequal': 11251, 'comparable': 2204, 'leves': 6172, 'acetate': 87, 'toxicity': 10956, 'remover': 9006, 'chegg': 1872, 'golf': 4532, 'lobbyist': 6294, 'becomd': 1031, 'vefy': 11465, 'grid': 4627, 'gui': 4656, 'coworker': 2499, 'chart': 1850, 'trash': 11022, 'bin': 1176, 'honestly': 4960, 'lofty': 6307, 'tame': 10597, 'budgie': 1497, 'depress': 2866, 'hopeless': 4975, 'vehemently': 11475, 'eugenics': 3708, 'pork': 8284, 'hk': 4909, 'winfrey': 11835, 'flaunt': 4098, 'asset': 712, 'clg': 2026, 'berber': 1099, 'academically': 50, 'cabg': 1558, 'fstaying': 4297, 'grayscale': 4610, 'castle': 1713, 'punisher': 8614, 'lacrosse': 6005, 'stiffer': 10232, 'salford': 9355, 'cattle': 1740, 'killua': 5897, 'alliance': 347, 'beric': 1100, 'thoros': 10797, 'sword': 10532, 'technician': 10663, 'balaji': 908, 'viswanathan': 11585, 'nagpur': 7180, 'shortcuts': 9708, 'finnish': 4064, 'footage': 4161, 'digitize': 3008, 'ambedakar': 397, 'theist': 10767, 'infocomm': 5358, 'pin': 8130, 'quirk': 8686, 'rally': 8746, 'intruder': 5521, 'robber': 9205, 'idisk': 5143, 'dedicate': 2763, 'magician': 6448, 'anus': 522, 'dürer': 3324, 'fur': 4327, 'coat': 2085, 'bookmarking': 1322, 'nk': 7393, 'adidas': 144, 'tracksuit': 10965, 'alistair': 334, 'cragg': 2511, 'jefferson': 5688, 'davis': 2708, 'thrust': 10821, 'fallacy': 3907, 'inaccuracy': 5252, 'autry': 834, 'excise': 3778, 'devbootcamp': 2930, 'mythbusters': 7169, 'sway': 10512, 'roy': 9275, 'moore': 7025, 'accuser': 84, 'ruby': 9291, 'cucumber': 2600, 'chalta': 1818, 'hoon': 4973, 'duaaon': 3270, 'mein': 6732, 'yaad': 11961, 'rakhna': 8744, 'dua': 3269, 'vitiate': 11591, 'ziost': 12031, 'vikram': 11548, 'biyani': 1217, 'fare': 3926, 'salsa': 9359, 'fermat': 3997, 'assemble': 709, 'launcher': 6065, 'gwf': 4681, 'faithful': 3901, 'freebsd': 4242, 'solaris': 9969, 'bitdefender': 1214, 'remind': 8995, 'poster': 8312, 'oxidation': 7764, 'marginal': 6570, 'amongst': 421, 'govts': 4563, 'dept': 2871, 'laguages': 6012, 'marathi': 6562, 'teluguetc': 10696, 'abap': 13, 'pr': 8340, 'simplicity': 9789, 'vc': 11461, 'nightcore': 7361, 'maker': 6487, 'lens': 6149, 'inpersonations': 5402, 'pectoral': 7965, 'bts': 1484, 'coherence': 2109, 'query': 8680, 'advancement': 175, 'rapidly': 8780, 'passed': 7902, 'malfunction': 6496, 'ph': 8066, 'cox': 2501, 'bazaar': 1001, 'snooker': 9937, 'plz': 8206, 'username': 11376, 'sn': 9919, 'visitor': 11580, 'newzealand': 7333, 'goldmann': 4531, 'sach': 9325, 'negligent': 7276, 'awaken': 850, 'kundalini': 5979, 'undertaking': 11239, 'affidavit': 209, 'fleece': 4105, 'wool': 11880, 'glabellar': 4482, 'frontostriatal': 4285, 'pathway': 7919, 'persuade': 8048, 'bramble': 1385, 'viciously': 11526, 'woo': 11874, 'talal': 10582, 'waleed': 11655, 'ghar': 4449, 'der': 2873, 'hai': 4698, 'andher': 453, 'nahi': 7183, 'roast': 9202, 'vakalatnama': 11416, 'intertext': 5501, 'nbc': 7244, 'identically': 5132, 'emotionally': 3513, 'yonder': 11996, 'outer': 7712, 'hardly': 4762, 'sainik': 9344, 'sammaylan': 9365, 'bernie': 1103, 'sander': 9375, 'peavey': 7963, 'powerslide': 8336, 'controlled': 2388, 'inclined': 5270, 'involvement': 5550, 'somalia': 9989, 'tether': 10733, 'usd': 11368, 'unanswered': 11195, 'surreal': 10474, 'conjoin': 2301, 'devoid': 2942, 'doca': 3146, 'bishop': 1209, 'cervix': 1797, 'suita': 10395, 'osaka': 7696, 'jailbreak': 5653, 'westchester': 11757, 'idols': 5146, 'idol': 5145, 'operating': 7625, 'nationalize': 7222, 'recreate': 8875, 'hm': 4911, 'victory': 11531, 'warship': 11688, 'corvette': 2458, 'simpler': 9788, 'suryanamaskars': 10485, 'bbc': 1003, 'trivialise': 11065, 'dfference': 2946, 'operant': 7623, 'instrumental': 5439, 'conditioning': 2277, 'aapher': 7, 'hanford': 4737, 'redhat': 8897, 'taj': 10579, 'pgpba': 8065, 'insofe': 5416, 'jigsaw': 5716, 'etl': 3701, 'testing': 10731, 'counterinsurgency': 2478, 'priority': 8450, 'gobekli': 4518, 'tepe': 10714, 'gta': 4648, 'cogat': 2104, 'basically': 980, 'bean': 1020, 'vegetable': 11471, 'prashant': 8353, 'bhu': 1142, 'sha': 9640, 'tweet': 11134, 'insecticide': 5411, 'uscis': 11367, 'muhoozi': 7105, 'kainerugaba': 5808, 'ent': 3589, 'opthal': 7643, 'psm': 8571, 'prof': 8487, 'conway': 2407, 'oliver': 7593, 'flesch': 4107, 'elegant': 3462, 'intense': 5460, 'doklam': 3165, 'ldr': 6088, 'making': 6489, 'watermark': 11699, 'pituituary': 8147, 'tumour': 11113, 'representation': 9038, 'sunday': 10415, 'specify': 10064, 'being': 1059, 'marisha': 6575, 'visualize': 11583, 'unblock': 11206, 'compensate': 2213, 'meni': 6758, 'starvation': 10179, 'vatican': 11456, 'messaging': 6790, 'onr': 7611, 'talent': 10585, 'donbas': 3179, 'crimea': 2547, 'whatdoes': 11767, 'tween': 11133, 'deferential': 2781, 'tanx': 10609, 'cosx': 2465, 'siny': 9819, 'over': 7731, 'odis': 7562, 'retirement': 9117, 'del': 2798, 'potro': 8323, 'laver': 6069, 'rtps': 9282, 'femininity': 3990, 'neuroscience': 7312, 'dm': 3139, 'neurologist': 7310, 'analogic': 435, 'oscilloscope': 7699, 'externally': 3849, 'triggering': 11048, 'bribery': 1425, 'landscape': 6029, 'appealing': 550, 'integer': 5447, 'optimization': 7647, 'cplex': 2504, 'submissive': 10347, 'letdown': 6163, 'mansa': 6545, 'musa': 7135, 'pilgrimage': 8124, 'mecca': 6691, 'czech': 2655, 'walmart': 11663, 'utility': 11390, 'sabretooth': 9324, 'kraven': 5969, 'canonical': 1637, 'dessert': 2903, 'chauvinist': 1860, 'dostum': 3195, 'niraj': 7375, 'ravi': 8797, 'ordeal': 7663, 'communist': 2196, 'kali': 5811, 'pakistanis': 7814, 'downvotes': 3213, 'alphabetical': 367, 'hambling': 4717, 'triumph': 11060, 'nirma': 7378, 'ganpat': 4357, 'pale': 7818, 'zuckerberg': 12042, 'ashkenazi': 679, 'federer': 3975, 'drubbing': 3255, 'murray': 7134, 'olympics': 7598, 'divisible': 3130, 'ashwin': 682, 'sundar': 10414, 'refrigerant': 8924, 'fluently': 4128, 'cunt': 2612, 'neat': 7260, 'exaplain': 3764, 'attachment': 762, 'lathe': 6056, 'abandonment': 12, 'traumatic': 11024, 'sultan': 10403, 'fascinating': 3934, 'antisemitism': 518, 'islamophobes': 5608, 'harass': 4752, 'accusation': 82, 'answered': 500, 'stovetop': 10263, 'cookware': 2413, 'liane': 6185, 'cartman': 1698, 'republic': 9047, 'someplace': 9996, 'millenials': 6861, 'fanchants': 3917, 'difinition': 3001, 'organelle': 7671, 'taxonomy': 10638, 'faithless': 3902, 'elector': 3442, 'bmsce': 1280, 'thapar': 10758, 'snack': 9920, 'melania': 6734, 'differen': 2986, 'imperialist': 5226, 'texted': 10742, 'solicitation': 9974, 'fearful': 3964, 'videobox': 11533, 'kmc': 5927, 'allis': 350, 'flirt': 4112, 'likelyhood': 6222, 'adhd': 141, 'adolescent': 162, 'angel': 461, 'grotta': 4638, 'gigante': 4467, 'swede': 10517, 'drawn': 3232, 'fci': 3959, 'notification': 7455, 'repurpose': 9050, 'rigging': 9173, 'dems': 2833, 'flood': 4115, 'debunk': 2740, 'deism': 2797, 'navigate': 7235, 'manit': 6540, 'august': 795, 'silly': 9778, 'miserable': 6905, 'exoskeleton': 3804, 'mimic': 6869, 'floss': 4119, 'bomber': 1306, 'turret': 11126, 'causality': 1743, 'axiomatic': 859, 'empirically': 3521, 'molecules': 6978, 'sticky': 10231, 'subordinate': 10349, 'recruited': 8878, 'politicans': 8246, 'implicitly': 5231, 'tachycardia': 10570, 'flutter': 4134, 'bpm': 1372, 'abt': 41, 'ajith': 282, 'reunification': 9123, 'pointless': 8227, 'panty': 7840, 'unhappy': 11259, 'senator': 9564, 'senate': 9563, 'populous': 8281, 'isp': 5619, 'vile': 11549, 'parle': 7875, 'tyler': 11144, 'mane': 6524, 'youngster': 12001, 'mouthwash': 7074, 'gargel': 4366, 'tsunami': 11096, 'bras': 1394, 'bedridden': 1037, 'bullshit': 1512, 'ambidextrous': 398, 'frustrate': 4292, 'mainland': 6475, 'exceptionalism': 3773, 'pucho': 8598, 'asprint': 699, 'uyo': 11401, 'spice': 10079, 'soup': 10016, 'studying': 10319, 'mains': 6477, 'himachal': 4883, 'achievement': 92, 'chaldean': 1814, 'started': 10175, 'orangeman': 7654, 'indiana': 5297, 'restorting': 9100, 'preidct': 8382, 'messi': 6792, 'ronaldo': 9247, 'ballon': 915, 'duck': 3277, 'carlos': 1685, 'buyout': 1549, 'lbo': 6086, 'acquisition': 100, 'centrifugal': 1781, 'cn': 2074, 'cartoon': 1699, 'jay': 5678, 'cutler': 2640, 'fcc': 3958, 'clearly': 2021, 'unpopular': 11302, 'irregularity': 5586, 'persue': 8050, 'principal': 8442, 'sock': 9958, 'steamer': 10205, 'laminate': 6020, 'philip': 8076, 'trimmer': 11053, 'alot': 363, 'inferiority': 5341, 'barcelona': 958, 'enrique': 3585, 'incharge': 5266, 'sublimation': 10342, 'depth': 2872, 'idle': 5144, 'interstellar': 5500, 'gov': 4558, 'harbor': 4756, 'symmetry': 10544, 'organism': 7677, 'reflected': 8917, 'blasé': 1238, 'cord': 2430, 'scissors': 9465, 'aldi': 307, 'romaine': 9235, 'lettuce': 6166, 'quasar': 8674, 'nostril': 7443, 'breathing': 1415, 'newborn': 7325, 'alfred': 314, 'pennyworth': 7989, 'sentimental': 9581, 'significantly': 9763, 'zulu': 12043, 'zwelithini': 12044, 'dana': 2681, 'slide': 9878, 'epitaph': 3625, 'tomb': 10900, 'mortar': 7040, 'softbank': 9964, 'masayoshi': 6609, 'sings': 9813, 'melody': 6741, 'liniently': 6242, 'ev': 3719, 'proclaim': 8476, 'asl': 688, 'relief': 8980, 'erupts': 3663, 'saree': 9390, 'petticoat': 8057, 'toward': 10950, 'arabi': 593, 'vacancy': 11402, 'whale': 11764, 'uttarakhand': 11395, 'chardham': 1837, 'fr': 4218, 'upes': 11332, 'ajex': 281, 'ghul': 4454, 'cw': 2645, 'arrowverse': 657, 'jedi': 5686, 'pursuing': 8638, 'accountancy': 73, 'cloudera': 2057, 'rep': 9018, 'kayak': 5838, 'sophie': 10007, 'mamma': 6505, 'mia': 6822, 'banana': 925, 'curd': 2616, 'leon': 6151, 'trotsky': 11074, 'commander': 2174, 'unclaimed': 11211, 'forward': 4201, 'methoxy': 6809, 'ethen': 3691, 'enforcement': 3559, 'masiello': 6612, 'goat': 4517, 'antiperspirant': 514, 'posterior': 8313, 'focal': 4138, 'interestitnal': 5477, 'depeche': 2850, 'colonization': 2142, 'hunting': 5056, 'buffy': 1501, 'kjv': 5921, 'ealier': 3325, 'googel': 4540, 'talented': 10586, 'niche': 7348, 'obviously': 7544, 'practise': 8346, 'dispatch': 3087, 'preparedness': 8394, 'redesign': 8895, 'numb': 7492, 'karkala': 5825, 'edmonton': 3389, 'pointer': 8226, 'shit': 9687, 'dceu': 2715, 'cet': 1798, 'technisearch': 10665, 'kramer': 5968, 'acculturation': 76, 'tigon': 10844, 'sterile': 10217, 'baristas': 960, 'bandwidth': 933, 'wholesale': 11801, 'biotech': 1195, 'manufactuers': 6552, 'bulb': 1506, 'sanfl': 9378, 'wafl': 11642, 'vfl': 11514, 'afl': 218, 'gerd': 4434, 'spinal': 10086, 'chiropractor': 1908, 'tangerine': 10605, 'zest': 12026, 'radiologist': 8723, 'girlfriends': 4474, 'mortarman': 7041, 'directivity': 3038, 'complan': 2222, 'horlicks': 4979, 'contestant': 2367, 'speechless': 10068, 'manifestation': 6534, 'internshala': 5490, 'shyama': 9742, 'prasad': 8352, 'mukherjee': 7106, 'unix': 11284, 'wahhabism': 11647, 'topple': 10922, 'cil': 1959, 'catfish': 1735, 'ramification': 8754, 'creationists': 2530, 'ken': 5855, 'hovind': 5013, 'immoral': 5213, 'json': 5768, 'seller': 9554, 'centric': 1780, 'krabby': 5967, 'patty': 7931, 'proposition': 8538, 'pelter': 7974, 'discontinue': 3059, 'kompressor': 5953, 'obituary': 7518, 'destine': 2905, 'sling': 9882, 'mpsc': 7082, 'dandruff': 2683, 'compassion': 2210, 'endanger': 3542, 'spoiler': 10100, 'kvm': 5990, 'arava': 603, 'gpsc': 4567, 'colosseum': 2149, 'upwork': 11350, 'allopathy': 352, 'ayurveda': 863, 'mini': 6882, 'replacement': 9029, 'ucla': 11167, 'correspond': 2449, 'circular': 1966, 'disc': 3052, 'twenty': 11136, 'whos': 11803, 'acca': 53, 'sharpen': 9665, 'neater': 7261, 'commision': 2180, 'alabamians': 291, 'phosphorus': 8090, 'athiests': 747, 'hypocracy': 5088, 'django': 3136, 'oppenheimer': 7631, 'batman': 991, 'mince': 6872, 'revamp': 9126, 'dominance': 3173, 'kpmg': 5965, 'paraphilic': 7860, 'strip': 10297, 'prioritize': 8449, 'reduction': 8903, 'residential': 9072, 'legible': 6126, 'stocking': 10245, 'vampire': 11429, 'biodiversity': 1186, 'freelancer': 4246, 'odyssey': 7564, 'membrane': 6746, 'botany': 1344, 'eco': 3365, 'sparta': 10043, 'susan': 10486, 'narnia': 7207, 'believing': 1067, 'airspeed': 273, 'jetliner': 5702, 'giantess': 4457, 'biga': 1159, 'martha': 6597, 'slavic': 9869, 'cpi': 2503, 'resolve': 9082, 'cornea': 2435, 'octavio': 7555, 'paz': 7944, 'radiation': 8717, 'feared': 3963, 'navajos': 7232, 'torrenting': 10932, 'goverment': 4559, 'redesigning': 8896, 'paramount': 7856, 'weekly': 11736, 'gva': 4679, 'titanic': 10873, 'lookout': 6333, 'iceberg': 5115, 'paraguay': 7849, 'blindspot': 1253, 'aakasam': 4, 'lo': 6290, 'bhookampam': 1139, 'politeness': 8243, 'decry': 2762, 'judgment': 5774, 'confidant': 2287, 'collision': 2135, 'dingo': 3022, 'anna': 481, 'adventurous': 178, 'conferencing': 2285, 'coalition': 2081, 'gum': 4668, 'pcb': 7946, 'interactive': 5469, 'aerosol': 199, 'cantonese': 1640, 'merely': 6774, 'solitary': 9980, 'torture': 10934, 'brazilian': 1400, 'flatearthers': 4095, 'largo': 6047, 'ahmediyas': 248, 'enraged': 3582, 'bhushan': 1145, 'playing': 8187, 'nessary': 7295, 'accessory': 62, 'dwelling': 3315, 'tx': 11143, 'nc': 7247, 'nj': 7392, 'pa': 7774, 'surounding': 10470, 'refraction': 8921, 'sunlight': 10420, 'coordination': 2419, 'steer': 10207, 'royalty': 9277, 'priam': 8429, 'outdated': 7710, 'rubik': 9289, 'trafficker': 10975, 'dumpster': 3294, 'pull': 8601, 'editor': 3388, 'instructional': 5436, 'expected': 3812, 'throughput': 10817, 'sequential': 9592, 'writes': 11924, 'interpretation': 5494, 'mahrinda': 6467, 'tractor': 10966, 'wifi': 11816, 'adapter': 126, 'antimatter': 513, 'brolly': 1452, 'buckminsterfullerene': 1490, 'authentication': 810, 'runway': 9303, 'sanitation': 9380, 'cling': 2037, 'pantheistic': 7838, 'underage': 11221, 'tov': 10948, 'kodaikanal': 5945, 'anxious': 524, 'asleep': 689, 'heroin': 4856, 'enabling': 3534, 'certainly': 1791, 'legion': 6127, 'attila': 771, 'hun': 5046, 'max': 6653, 'schneider': 9451, 'nmims': 7398, 'toughness': 10943, 'dense': 2841, 'gaara': 4337, 'vht': 11517, 'nite': 7382, 'tint': 10859, 'someday': 9992, 'ravindra': 8798, 'babu': 872, 'refers': 8913, 'polypropylene': 8263, 'resistant': 9079, 'xampp': 11939, 'mysql': 7164, 'bonsai': 1314, 'formica': 4191, 'oriflame': 7683, 'scrub': 9494, 'haatichai': 4687, 'calamari': 1572, 'prescribe': 8398, 'nerapathy': 7292, 'ogot': 7578, 'disturbed': 3118, 'cortical': 2457, 'accumbens': 77, 'hallucination': 4714, 'byzantine': 1553, 'anatolia': 445, 'armenia': 629, 'expensively': 3818, 'ukranian': 11186, 'prettier': 8417, 'cater': 1734, 'graphical': 4598, 'alternate': 372, 'amity': 412, 'noida': 7409, 'caviar': 1746, 'spoon': 10104, 'tin': 10856, 'ingest': 5370, 'urea': 11355, 'trivial': 11064, 'meager': 6681, 'equilateral': 3637, 'untransposed': 11320, 'nitric': 7386, 'pichai': 8112, 'mold': 6975, 'duspatalin': 3308, 'lpg': 6370, 'cylinder': 2650, 'vanilla': 11435, 'flavored': 4100, 'cigar': 1957, 'superintelligence': 10437, 'francesco': 4229, 'totti': 10940, 'corgi': 2432, 'welsh': 11751, 'quotev': 8699, 'ial': 5098, 'arithmetic': 623, 'geometric': 4425, 'buoyancy': 1520, 'statups': 10193, 'goalkeeper': 4516, 'freekicks': 4244, 'lien': 6202, 'budding': 1494, 'photographer': 8094, 'nitrobenzene': 7389, 'archangel': 608, 'honorable': 4967, 'parental': 7867, 'fighting': 4034, 'interrogate': 5496, 'rival': 9193, 'kathua': 5835, 'unnao': 11296, 'silence': 9769, 'persecution': 8036, 'socal': 9944, 'bharath': 1130, 'hyderabadi': 5069, 'comply': 2235, 'mission': 6917, 'warframe': 11677, 'melee': 6736, 'choir': 1919, 'chorale': 1927, 'emphasize': 3516, 'kimura': 5902, 'paced': 7777, 'damning': 2678, 'aeronautical': 198, 'humorous': 5041, 'pant': 7836, 'attest': 770, 'recourse': 8872, 'dabolim': 2659, 'vertically': 11506, 'upwards': 11349, 'ascend': 673, 'generous': 4402, 'aradhya': 598, 'shiva': 9690, 'abhijeet': 17, 'bhattacharya': 1133, 'incontrovertible': 5277, 'vitro': 11593, 'trenton': 11037, 'platforms': 8178, 'organise': 7674, 'fest': 4006, 'decorate': 2758, 'sleepover': 9873, 'incest': 5264, 'aipmt': 259, 'leftist': 6117, 'racial': 8709, 'purpouses': 8634, 'purse': 8635, 'consuming': 2355, 'incarcerate': 5261, 'topology': 10920, 'assaults': 708, 'pillow': 8126, 'kevlar': 5871, 'nbfcs': 7245, 'skunk': 9854, 'hibernate': 4865, 'supremacy': 10454, 'symbolism': 10543, 'moth': 7051, 'hive': 4908, 'shlomo': 9694, 'shamir': 9653, 'called': 1592, 'portal': 8291, 'bday': 1012, 'songwriter': 10002, 'bsc': 1479, 'horde': 4977, 'torn': 10926, 'refugees': 8929, 'ramdisk': 8752, 'null': 7491, 'void': 11611, 'repeater': 9024, 'dharamshala': 2949, 'nlus': 7395, 'transducer': 10994, 'adverb': 179, 'adjective': 148, 'amulet': 427, 'diaspora': 2969, 'arctg': 612, 'ksin': 5972, 'flatter': 4096, 'inflate': 5351, 'ego': 3413, 'wudi': 11933, 'bright': 1431, 'telescope': 10690, 'consists': 2329, 'focused': 4140, 'spreadsheet': 10111, 'simulation': 9795, 'hsn': 5022, 'nbn': 7246, 'laughable': 6062, 'overzealous': 7757, 'bashar': 978, 'surely': 10461, 'castor': 1714, 'sesame': 9610, 'bookkeeping': 1320, 'optimize': 7648, 'compute': 2250, 'bing': 1180, 'coupon': 2484, 'videogames': 11534, 'detailed': 2910, 'rhino': 9149, 'squads': 10124, 'discount': 3060, 'battleship': 996, 'estrogen': 3685, 'nt': 7480, 'impulsive': 5249, 'ridicule': 9168, 'dhoni': 2951, 'harbhajan': 4755, 'csk': 2592, 'phlegm': 8084, 'smoothen': 9914, 'ajmer': 283, 'illiterate': 5186, 'backward': 887, 'festival': 4007, 'ranbir': 8760, 'kapoor': 5821, 'reasonably': 8833, 'metropolis': 6814, 'bt': 1483, 'hater': 4785, 'resilient': 9076, 'broadway': 1447, 'duet': 3280, 'teaser': 10657, 'trailer': 10979, 'internally': 5485, 'obesity': 7515, 'posting': 8315, 'enriched': 3584, 'loxo': 6365, 'microgrid': 6835, 'dodge': 3155, 'allied': 348, 'collage': 2123, 'neurobion': 7309, 'nurse': 7497, 'lethal': 6164, 'mutation': 7149, 'moskow': 7047, 'kievan': 5892, 'pipeline': 8140, 'rodan': 9216, 'morality': 7027, 'tounge': 10944, 'twister': 11139, 'cottage': 2466, 'deference': 2780, 'lognormal': 6316, 'contants': 2360, 'var': 11439, 'puty': 8645, 'catalan': 1720, 'misanthropic': 6901, 'novelist': 7464, 'mothball': 7052, 'amante': 386, 'shutterfly': 9738, 'ns': 7475, 'circumnavigation': 1971, 'moby': 6952, 'holocraft': 4936, 'sticker': 10230, 'kanzi': 5819, 'achey': 90, 'flu': 4125, 'havaianas': 4788, 'jml': 5726, 'copper': 2425, 'wok': 11866, 'tefal': 10678, 'expertise': 3824, 'plano': 8167, 'gop': 4544, 'glance': 4486, 'maruti': 6601, 'implementation': 5229, 'veg': 11466, 'yellowish': 11977, 'sarsour': 9391, 'spalding': 10034, 'tf': 10747, 'protective': 8552, 'unborn': 11207, 'snatch': 9928, 'lobe': 6295, 'passcode': 7901, 'knee': 5930, 'supercomputer': 10430, 'litigation': 6272, 'addition': 133, 'lpo': 6371, 'workday': 11886, 'tenant': 10706, 'practically': 8342, 'skull': 9853, 'fainting': 3894, 'anarchist': 444, 'decree': 2761, 'tradenet': 10969, 'explorer': 3834, 'startan': 10174, 'ecommerce': 3367, 'ketogenic': 5866, 'hypertensive': 5086, 'comatose': 2157, 'vegetative': 11473, 'slope': 9889, 'fundsindia': 4324, 'redemption': 8893, 'bother': 1345, 'parenthood': 7868, 'tyrion': 11154, 'lannister': 6037, 'masoor': 6615, 'dal': 2673, 'reform': 8919, 'angelina': 463, 'jolie': 5748, 'elaborate': 3430, 'faantasy': 3870, 'bison': 1210, 'megafauna': 6726, 'madara': 6432, 'kaguya': 5806, 'ems': 3530, 'trope': 11071, 'avail': 835, 'ubc': 11160, 'vancouver': 11432, 'tifr': 10838, 'tony': 10909, 'stark': 10170, 'mansion': 6546, 'fertilize': 4004, 'noisy': 7411, 'birla': 1203, 'adoptive': 166, 'pizza': 8151, 'appose': 568, 'iitk': 5178, 'motley': 7060, 'repent': 9026, 'bunch': 1516, 'happydent': 4750, 'overvalue': 7750, 'settling': 9617, 'scampi': 9426, 'schlong': 9450, 'exboyfriend': 3765, 'selfies': 9551, 'selfie': 9550, 'contemporary': 2361, 'dj': 3135, 'equilibrium': 3638, 'probable': 8465, 'strictly': 10293, 'sikhism': 9767, 'bcci': 1008, 'newkiller': 7326, 'bleach': 1243, 'fume': 4313, 'mixed': 6932, 'cleanser': 2016, 'plantar': 8169, 'wart': 11689, 'vasectomy': 11451, 'dedicated': 2764, 'fraudulent': 4240, 'numeral': 7495, 'nitro': 7388, 'euthanized': 3718, 'hypomania': 5091, 'lesbian': 6155, 'samwise': 9371, 'autotroph': 832, 'whicho': 11783, 'who': 11798, 'probation': 8468, 'downstream': 3211, 'sip': 9820, 'dsp': 3264, 'blackrock': 1226, 'risky': 9190, 'timsty': 10855, 'quartz': 8673, 'wr': 11912, 'csi': 2591, 'thunderbird': 10824, 'fond': 4153, 'pleasant': 8191, 'accessible': 61, 'association': 721, 'yearly': 11971, 'renewal': 9012, 'cellular': 1770, 'coverage': 2492, 'jabalpur': 5643, 'seychelles': 9637, 'dyed': 3318, 'piercings': 8119, 'handlebar': 4731, 'bicycle': 1153, 'droid': 3247, 'wicca': 11807, 'layman': 6077, 'disown': 3086, 'lgbt': 6182, 'chamunda': 1822, 'maa': 6417, 'mtnltelephone': 7094, 'chorus': 1930, 'charting': 1852, 'destination': 2904, 'seminyak': 9560, 'kuta': 5985, 'peacekeeper': 7958, 'entertainer': 3594, 'amaravati': 388, 'unhealthy': 11260, 'heel': 4828, 'bra': 1373, 'fifth': 4031, 'hysteresis': 5095, 'waht': 11648, 'goswell': 4554, 'tzu': 11156, 'contenents': 2364, 'attribute': 780, 'innovative': 5400, 'dabble': 2658, 'electrocute': 3449, 'conjugate': 2302, 'dimly': 3019, 'preterite': 8416, 'handicap': 4729, 'marshawn': 6594, 'anthem': 506, 'boo': 1316, 'utopian': 11393, 'plain': 8159, 'textrovert': 10743, 'ruler': 9297, 'usurper': 11384, 'cob': 2087, 'suncor': 10413, 'pantone': 7839, 'crate': 2520, 'inculcate': 5285, 'olqs': 7594, 'eid': 3420, 'trichy': 11044, 'cairo': 1568, 'ethnographic': 3700, 'pedantic': 7966, 'defense': 2779, 'representme': 9040, 'curved': 2629, 'topix': 10919, 'pisa': 8142, 'wesson': 11753, 'inexperienced': 5332, 'strum': 10309, 'cd': 1757, 'pregaps': 8377, 'edmund': 3390, 'shillong': 9679, 'jett': 5703, 'cherie': 1883, 'curie': 2618, 'romantically': 9241, 'screenshots': 9486, 'hemoglobin': 4843, 'incompetent': 5274, 'gd': 4385, 'iimc': 5169, 'translocation': 11011, 'migrant': 6849, 'honkies': 4965, 'envious': 3607, 'incite': 5269, 'dispute': 3094, 'bhawani': 1135, 'charan': 1836, 'strike': 10294, 'solver': 9987, 'superbrains': 10426, 'virginia': 11565, 'oxidize': 7767, 'swoon': 10531, 'sustainable': 10495, 'epson': 3629, 'cartridge': 1700, 'unbeliever': 11204, 'dodo': 3156, 'escort': 3668, 'outlook': 7718, 'vivimed': 11596, 'wardrobe': 11675, 'chosen': 1931, 'packet': 7787, 'monophobia': 7007, 'reconstruction': 8869, 'mastectomy': 6624, 'servant': 9604, 'inform': 5359, 'vastly': 11454, 'privileged': 8460, 'pity': 8148, 'lust': 6402, 'arouse': 645, 'postage': 8309, 'polling': 8252, 'fundamentalist': 4321, 'irradiation': 5584, 'informer': 5364, 'cmo': 2071, 'boston': 1342, 'bnd': 1282, 'dhl': 2950, 'roles': 9231, 'bm': 1277, 'minimalist': 6884, 'textbooks': 10741, 'dank': 2691, 'managerial': 6512, 'paradox': 7846, 'aema': 193, 'samundra': 9369, 'diabetis': 2955, 'generator': 4400, 'plummet': 8200, 'concede': 2256, 'geordie': 4429, 'shore': 9704, 'interconnect': 5471, 'logically': 6313, 'manipulation': 6537, 'lifting': 6210, 'stripper': 10300, 'err': 3659, 'cynical': 2652, 'instal': 5424, 'ibm': 5105, 'mainframe': 6474, 'troposphere': 11073, 'ltc': 6377, 'suject': 10398, 'wecan': 11728, 'becoome': 1033, 'garment': 4370, 'mange': 6528, 'carnivore': 1686, 'alchol': 303, 'tape': 10611, 'insulator': 5441, 'stockton': 10246, 'treasury': 11029, 'arrhythmia': 651, 'terminate': 10718, 'stern': 10220, 'supergirl': 10433, 'quaternionic': 8675, 'signify': 9764, 'icar': 5112, 'orion': 7688, 'thruster': 10822, 'vba': 11460, 'powerpoint': 8335, 'detalis': 2913, 'ncl': 7251, 'subtle': 10365, 'pullman': 8603, 'brt': 1466, 'buss': 1538, 'cation': 1739, 'embalming': 3489, 'unnecessary': 11298, 'electrowetting': 3461, 'sexsual': 9632, 'harrasment': 4767, 'mediaon': 6701, 'interpreter': 5495, 'webview': 11727, 'epithelial': 3626, 'stepsister': 10214, 'havent': 4790, 'handcuffed': 4727, 'techno': 10666, 'biit': 1164, 'sindri': 9804, 'engagement': 3561, 'setup': 9618, 'tomcat': 10901, 'jndi': 5727, 'nsg': 7478, 'prose': 8542, 'metamaterial': 6800, 'rectenna': 8881, 'preteen': 8413, 'privatize': 8458, 'separatist': 9587, 'bookmark': 1321, 'unfriending': 11255, 'securely': 9530, 'pickup': 8114, 'cooking': 2412, 'chefs': 1871, 'addictive': 131, 'borrowing': 1338, 'dot': 3196, 'dermatologist': 2878, 'pigmentation': 8123, 'gujaratis': 4664, 'boyle': 1368, 'carotid': 1688, 'ligate': 6211, 'covetness': 2493, 'reproductive': 9044, 'stallion': 10158, 'tanayra': 10603, 'gwroth': 4682, 'handling': 4733, 'suge': 10387, 'producer': 8482, 'extraterritorial': 3858, 'endothermic': 3549, 'objectify': 7520, 'horsepower': 4991, 'momos': 6985, 'streamer': 10277, 'bourgeois': 1356, 'alright': 369, 'alove': 364, 'vera': 11493, 'performer': 8013, 'blister': 1256, 'ocd': 7550, 'yelp': 11980, 'karaoke': 5823, 'scorn': 9471, 'sighting': 9756, 'africas': 222, 'rabbit': 8704, 'webcam': 11723, 'domme': 3176, 'vt': 11639, 'hydrographic': 5075, 'activator': 109, 'printing': 8447, 'scooter': 9468, 'bengaluru': 1090, 'lovely': 6360, 'digestive': 3002, 'uwabaki': 11399, 'fossil': 4204, 'nucleic': 7484, 'ramjas': 8755, 'honour': 4968, 'evaporator': 3723, 'chiller': 1903, 'boba': 1287, 'fett': 4012, 'iconic': 5119, 'dent': 2843, 'fashiom': 3936, 'iiit': 5167, 'kanchipuram': 5814, 'kharagpur': 5881, 'maternity': 6633, 'judgemental': 5773, 'forgo': 4182, 'noticeably': 7454, 'nocturne': 7406, 'kevin': 5870, 'emerson': 3498, 'hogg': 4924, 'apis': 538, 'stl': 10242, 'excess': 3775, 'mill': 6859, 'considerable': 2322, 'pf': 8059, 'pension': 7990, 'ingrown': 5376, 'sushi': 10488, 'lund': 6397, 'endocrine': 3544, 'theoretician': 10773, 'orchid': 7661, 'varities': 11446, 'malayalam': 6493, 'oru': 7695, 'adaar': 121, 'jogging': 5737, 'yugoslav': 12009, 'croatia': 2557, 'differentiation': 2992, 'filthy': 4048, 'stale': 10154, 'johannes': 5738, 'brahms': 1377, 'storu': 10260, 'slytherin': 9897, 'silesia': 9773, 'misnomer': 6912, 'mcafee': 6667, 'piss': 8144, 'intervene': 5503, 'frictional': 4263, 'rosary': 9256, 'denomination': 2839, 'ux': 11400, 'growing': 4644, 'fullform': 4309, 'gibbs': 4460, 'pig': 8121, 'unsc': 11312, 'viscosity': 11573, 'intensive': 5462, 'sunset': 10423, 'colorful': 2146, 'warm': 11679, 'acrostic': 104, 'rhaegar': 9147, 'vlogs': 11603, 'grad': 4572, 'worse': 11901, 'essence': 3676, 'inflammation': 5350, 'sternum': 10221, 'evolutionist': 3748, 'globe': 4497, 'pronoun': 8521, 'tu': 11098, 'dortmund': 3192, 'prespective': 8407, 'dubbing': 3275, 'dive': 3121, 'insane': 5407, 'silver': 9779, 'nitrate': 7385, 'mfa': 6818, 'startle': 10177, 'impending': 5224, 'negatively': 7274, 'whata': 11765, 'himalaya': 4884, 'chromebook': 1940, 'lend': 6140, 'gentile': 4415, 'touristic': 10947, 'urbana': 11353, 'ohio': 7581, 'torus': 10935, 'aspirational': 696, 'pls': 8195, 'psychiatrist': 8576, 'bothering': 1346, 'femminists': 3994, 'llm': 6287, 'clat': 2007, 'airtasker': 275, 'pagoda': 7796, 'privatization': 8457, 'capitalism': 1651, 'marxian': 6604, 'imf': 5203, 'gladiator': 4485, 'thrombophob': 10814, 'shippūden': 9684, 'trigeminal': 11046, 'neuralgia': 7307, 'biomedical': 1192, 'elective': 3441, 'étatists': 12045, 'thicken': 10785, 'capitalist': 1652, 'russell': 9309, 'chumlee': 1949, 'fame': 3911, 'participation': 7888, 'empiric': 3519, 'antibiotic': 510, 'airbus': 262, 'wingstips': 11838, 'boeing': 1295, 'sociological': 9954, 'refute': 8934, 'logistics': 6315, 'realistically': 8823, 'xbox': 11940, 'laserd': 6051, 'amie': 410, 'affiliation': 211, 'pending': 7981, 'dismiss': 3083, 'endorse': 3547, 'contradictory': 2381, 'honers': 4958, 'reclamation': 8854, 'patriarch': 7923, 'crawl': 2521, 'ipod': 5568, 'wedge': 11732, 'mattress': 6647, 'doseage': 3194, 'anaconda': 431, 'xl': 11948, 'bench': 1078, 'mythological': 7171, 'ketu': 5869, 'relax': 8972, 'stressed': 10289, 'determinant': 2921, 'unpleasant': 11301, 'bellflower': 1069, 'pagari': 7793, 'pagri': 7797, 'prolog': 8514, 'cplint': 2505, 'swish': 10528, 'downvote': 3212, 'overwrite': 7756, 'packer': 7786, 'mover': 7077, 'fridabad': 4264, 'locked': 6302, 'plutarch': 8203, 'maliyali': 6498, 'niece': 7355, 'salten': 9361, 'blaze': 1241, 'wiser': 11850, 'bare': 959, 'rationalism': 8794, 'madam': 6431, 'anlamam': 479, 'ben': 1077, 'lebanon': 6111, 'saad': 9321, 'hostage': 4998, 'blizzard': 1257, 'entertainment': 3595, 'permanence': 8023, 'exposure': 3840, 'texts': 10744, 'irl': 5581, 'thunderbolt': 10825, 'skyraider': 9857, 'alkhohol': 338, 'transcendental': 10990, 'mullah': 7108, 'skeletal': 9839, 'underdeveloped': 11222, 'howdo': 5014, 'noteworthy': 7450, 'intrigue': 5517, 'etherium': 3694, 'billards': 1168, 'curriculum': 2623, 'monday': 6989, 'curtail': 2626, 'crank': 2515, 'cleveland': 2024, 'nevada': 7321, 'barrie': 965, 'wendy': 11752, 'indo': 5311, 'furniture': 4329, 'conserve': 2320, 'handset': 4735, 'balling': 913, 'glucose': 4501, 'fasting': 3940, 'mohammad': 6973, 'aisha': 279, 'vmc': 11605, 'faridabad': 3927, 'hrs': 5020, 'comparably': 2205, 'loser': 6345, 'sambhram': 9364, 'shri': 9726, 'italians': 5626, 'scrip': 9489, 'defiance': 2782, 'democrats': 2827, 'dehradun': 2793, 'thurman': 10827, 'munson': 7124, 'byu': 1552, 'varies': 11443, 'yield': 11986, 'mgo': 6820, 'alloy': 356, 'lwrs': 6408, 'pioneer': 8137, 'lightbridge': 6213, 'bdb': 1013, 'himalayan': 4885, 'garuda': 4373, 'purana': 8622, 'fragrances': 4223, 'mouse': 7072, 'nonveg': 7422, 'swamy': 10506, 'shabari': 9641, 'wagnerian': 11644, 'soprano': 10009, 'concentration': 2260, 'skater': 9837, 'mixer': 6933, 'blasphemous': 1234, 'bandit': 932, 'surplus': 10472, 'chalcogen': 1813, 'diatomic': 2970, 'bodybuilding': 1294, 'pablo': 7775, 'matric': 6641, 'egomaniac': 3414, 'api': 537, 'darren': 2698, 'bewitch': 1117, 'libertarian': 6190, 'plu': 8196, 'exception': 3771, 'ionization': 5555, 'enthalpy': 3596, 'electronegativity': 3457, 'acting': 106, 'technic': 10660, 'dietitian': 2983, 'nutritionist': 7501, 'orthorexia': 7694, 'anorexia': 496, 'moscow': 7044, 'pte': 8588, 'meanwhile': 6687, 'reappear': 8829, 'possiblities': 8306, 'qoura': 8657, 'rajiv': 8742, 'tetris': 10736, 'jeremy': 5695, 'lin': 6232, 'derrick': 2880, 'custodian': 2631, 'mei': 6731, 'dtu': 3267, 'se': 9498, 'homepage': 4945, 'nfsc': 7338, 'ostrich': 7702, 'shortage': 9706, 'moreover': 7029, 'caucasian': 1741, 'aadhaar': 1, 'secondly': 9518, 'undisclosed': 11244, 'eyelid': 3865, 'opaque': 7618, 'ping': 8132, 'kaizala': 5809, 'gdpr': 4387, 'compliant': 2230, 'stash': 10180, 'upward': 11348, 'miniscus': 6888, 'diagrammatically': 2960, 'campavan': 1613, 'caravan': 1662, 'grindr': 4633, 'mythogy': 7170, 'pax': 7937, 'cardi': 1673, 'peppa': 7995, 'blatantly': 1239, 'commiting': 2183, 'idf': 5138, 'tavor': 10633, 'shorter': 9710, 'pp': 8337, 'elixir': 3475, 'ira': 5574, 'convolutional': 2406, 'todays': 10887, 'goodwill': 4539, 'secter': 9523, 'initially': 5383, 'obor': 7528, 'nordic': 7426, 'zoo': 12040, 'tmnt': 10878, 'daredevil': 2695, 'inprove': 5403, 'lanuage': 6038, 'llc': 6286, 'guideline': 4659, 'qms': 8656, 'bowser': 1361, 'jr': 5766, 'wakeupnow': 11654, 'fitbit': 4080, 'inaccurate': 5253, 'hydrolysis': 5076, 'nitrile': 7387, 'corrosion': 2453, 'extracurriculars': 3857, 'panama': 7824, 'embark': 3491, 'stalinism': 10156, 'hebron': 4825, 'trooper': 11070, 'decides': 2749, 'autofill': 823, 'relatively': 8969, 'lexington': 6178, 'aquarius': 589, 'marital': 6576, 'kl': 5923, 'extinguish': 3852, 'valency': 11418, 'chlorine': 1913, 'ststus': 10310, 'acre': 101, 'cali': 1587, 'recoup': 8871, 'charlottesville': 1847, 'jamaica': 5660, 'tungsten': 11115, 'hairstyle': 4702, 'blowjob': 1273, 'medic': 6704, 'ezor': 3869, 'alaris': 294, 'gatsby': 4379, 'daisy': 2672, 'bottle': 1347, 'famine': 3914, 'churchill': 1953, 'ramadhan': 8750, 'convolution': 2405, 'parlor': 7877, 'rack': 8714, 'convection': 2392, 'cuddly': 2601, 'acupuncture': 119, 'ibs': 5109, 'saying': 9416, 'spiteful': 10096, 'rough': 9262, 'endoplasmic': 3546, 'reticulum': 9114, 'immunity': 5216, 'gleason': 4490, 'lv': 6407, 'pulmanery': 8604, 'adema': 139, 'locksmith': 6304, 'allegation': 342, 'aziz': 866, 'ansari': 498, 'geostationary': 4433, 'uttarpradesh': 11396, 'meduim': 6719, 'linkedin': 6245, 'merlin': 6781, 'etude': 3705, 'horn': 4982, 'playable': 8183, 'spare': 10040, 'percy': 8002, 'bysshe': 1551, 'shelley': 9671, 'toastmaster': 10883, 'unconstitional': 11218, 'chore': 1929, 'paccoin': 7776, 'bless': 1248, 'obey': 7516, 'dogma': 3161, 'muscat': 7137, 'improperly': 5246, 'clavicle': 2010, 'solidarity': 9976, 'ipm': 5566, 'mislead': 6910, 'iphones': 5563, 'thermometer': 10782, 'ressurected': 9094, 'restoration': 9098, 'lennon': 6147, 'yoko': 11994, 'skim': 9846, 'shivani': 9692, 'naidu': 7185, 'cera': 1786, 'sanitaryware': 9379, 'butler': 1541, 'iat': 5101, 'iiser': 5173, 'conceding': 2257, 'polyol': 8262, 'faint': 3893, 'bacteriophage': 890, 'heartless': 4817, 'virtue': 11570, 'mercy': 6771, 'manipur': 6539, 'rubella': 9286, 'grate': 4602, 'column': 2154, 'extracurricular': 3856, 'youe': 11999, 'hwo': 5065, 'amend': 404, 'unionize': 11272, 'limelight': 6226, 'friction': 4262, 'hidden': 4867, 'ghraib': 4453, 'ornament': 7690, 'glitter': 4491, 'arbitrarily': 604, 'steroid': 10222, 'udaipur': 11173, 'preschooler': 8397, 'grandfather': 4585, 'jammed': 5664, 'jigmaster': 5715, 'fishing': 4078, 'reel': 8907, 'valium': 11424, 'unbalance': 11201, 'warn': 11681, 'relativity': 8971, 'malappuram': 6491, 'sir': 9821, 'drake': 3224, 'equator': 3636, 'nibiru': 7344, 'polkadot': 8249, 'admob': 159, 'can': 1620, 'paramedic': 7854, 'mechanically': 6694, 'braincells': 1379, 'radioactive': 8722, 'spider': 10082, 'daiso': 2671, 'publishing': 8597, 'specialize': 10057, 'lesion': 6156, 'dunkirk': 3298, 'legacy': 6120, 'wed': 11730, 'bridesmaid': 1428, 'flowing': 4123, 'hierarchical': 4871, 'clustering': 2064, 'choosing': 1923, 'cave': 1745, 'composite': 2240, 'dissipation': 3101, 'elasticsearch': 3434, 'algebraically': 318, 'reccomend': 8840, 'malta': 6503, 'decomposition': 2757, 'northedge': 7436, 'participant': 7886, 'quarterly': 8672, 'pure': 8625, 'interdisciplinary': 5473, 'ashoka': 680, 'laxative': 6074, 'trough': 11078, 'pinterest': 8135, 'concur': 2270, 'mn': 6946, 'navnirman': 7237, 'sena': 9562, 'ideology': 5137, 'saivite': 9346, 'vaishnavite': 11414, 'thyroid': 10829, 'termination': 10719, 'dda': 2717, 'dangal': 2684, 'montez': 7015, 'med': 6697, 'classy': 2006, 'telepaths': 10687, 'adjustment': 151, 'dao': 2693, 'classroom': 2005, 'koro': 5960, 'sensei': 9572, 'chloe': 1912, 'permitted': 8030, 'tds': 10647, 'zalim': 12016, 'embarrasing': 3492, 'polynesian': 8261, 'antarctica': 503, 'arabs': 597, 'bananacoin': 926, 'kollywood': 5951, 'horowitz': 4986, 'screenwriter': 9487, 'historically': 4902, 'pow': 8329, 'dormant': 3191, 'glacier': 4483, 'hustle': 5064, 'minimal': 6883, 'oviedo': 7758, 'forbidden': 4165, 'leaner': 6099, 'torso': 10933, 'alexander': 312, 'dugin': 3283, 'messiah': 6793, 'jadavapur': 5649, 'cheapen': 1862, 'genuinely': 4418, 'psych': 8574, 'obturation': 7541, 'naaptol': 7175, 'branded': 1389, 'scarcity': 9433, 'rub': 9283, 'nissen': 7380, 'fundoplication': 4323, 'keto': 5865, 'horsefly': 4990, 'azure': 867, 'ambient': 399, 'shareholder': 9659, 'yearsto': 11972, 'buttered': 1544, 'toast': 10882, 'fell': 3983, 'treadmill': 11027, 'weathy': 11719, 'usn': 11379, 'rangefinder': 8768, 'achilles': 93, 'cornors': 2437, 'handgun': 4728, 'shootgun': 9698, 'convex': 2402, 'bromance': 1453, 'usmle': 11378, 'choic': 1917, 'cofounding': 2103, 'astigmatism': 724, 'hyperopia': 5085, 'sunglass': 10417, 'muzzy': 7156, 'medias': 6702, 're': 8808, 'pgbp': 8061, 'rampant': 8757, 'implies': 5232, 'alleged': 343, 'arithmetical': 624, 'algebraic': 317, 'nmp': 7399, 'blck': 1242, 'detrimental': 2926, 'hkd': 4910, 'unfurnished': 11257, 'kalam': 5810, 'fs': 4296, 'authorisation': 812, 'vpd': 11632, 'baslp': 984, 'iphonex': 5564, 'fixture': 4086, 'egotistical': 3415, 'lillevälja': 6223, 'danish': 2690, 'daenerys': 2665, 'dothraki': 3197, 'westeros': 11760, 'tahsildar': 10575, 'rajasthan': 8740, 'madurai': 6439, 'islands': 5611, 'beaufort': 1025, 'hobby': 4917, 'allahabad': 341, 'bhuddist': 1144, 'existentialist': 3800, 'episodes': 3624, 'toss': 10936, 'hoax': 4915, 'kyle': 5993, 'rahim': 8731, 'mrp': 7087, 'dvr': 3313, 'astrological': 728, 'headpone': 4805, 'mellow': 6739, 'softwares': 9966, 'manned': 6542, 'roughly': 9263, 'deer': 2771, 'thermocol': 10779, 'pakets': 7811, 'meaningless': 6686, 'skag': 9835, 'syrian': 10559, 'chronically': 1944, 'deficit': 2784, 'financing': 4055, 'medicare': 6708, 'ppl': 8338, 'alice': 324, 'wonderland': 11873, 'ribcage': 9154, 'manatee': 6514, 'derive': 2877, 'captaincy': 1657, 'odi': 7560, 'magical': 6446, 'reinforcer': 8955, 'enlighten': 3578, 'undertake': 11238, 'continual': 2371, 'insulate': 5440, 'port': 8289, 'moresby': 7030, 'tulagi': 11105, 'strategical': 10272, 'acheivements': 89, 'swami': 10505, 'vivekananda': 11595, 'sevene': 9620, 'feda': 3972, 'sevmeyene': 9625, 'elveda': 3485, 'gibi': 4461, 'sözler': 10564, 'subsidize': 10357, 'iteration': 5635, 'forehead': 4170, 'hock': 4918, 'loogie': 6331, 'pulling': 8602, 'sinus': 9818, 'scapegoat': 9431, 'brandon': 1391, 'rickard': 9162, 'behead': 1055, 'shot': 9713, 'parking': 7873, 'iii': 5166, 'mcdaivd': 6669, 'matthew': 6646, 'buddists': 1495, 'arakan': 601, 'goya': 4565, 'sunflower': 10416, 'coma': 2156, 'persistence': 8039, 'oxford': 7763, 'hashim': 4776, 'amla': 413, 'crafting': 2510, 'chaturbate': 1858, 'catholicism': 1738, 'tempered': 10700, 'hospitality': 4996, 'retake': 9110, 'bruce': 1468, 'jun': 5783, 'gung': 4671, 'fu': 4299, 'removalist': 9004, 'nepali': 7289, 'predictive': 8367, 'iot': 5557, 'mindstorms': 6877, 'apporiate': 566, 'industiry': 5324, 'trimester': 11052, 'missed': 6915, 'xiaomi': 11943, 'bananas': 927, 'cleansing': 2018, 'unrequited': 11309, 'fosdick': 4203, 'manhood': 6532, 'teledesic': 10681, 'electrodynamics': 3451, 'whimsical': 11786, 'atractive': 759, 'needless': 7269, 'depiction': 2856, 'kirkuk': 5913, 'mediatek': 6703, 'snapdragon': 9925, 'pasqueflower': 7898, 'yucca': 12008, 'islington': 5612, 'thorn': 10796, 'muller': 7109, 'seasonally': 9509, 'wildcat': 11820, 'exists': 3801, 'frustating': 4291, 'macro': 6427, 'nqf': 7471, 'generic': 4401, 'dolby': 3166, 'atmos': 751, 'fabricate': 3873, 'shred': 9724, 'qualities': 8662, 'cabin': 1559, 'lazytown': 6084, 'hooker': 4972, 'comey': 2167, 'guest': 4655, 'weighted': 11741, 'sleeping': 9872, 'racing': 8711, 'obsessively': 7536, 'narc': 7200, 'benedict': 1082, 'flashlight': 4093, 'alkaline': 337, 'checked': 1866, 'surf': 10462, 'automate': 824, 'outnumber': 7720, 'poc': 8212, 'socialista': 9949, 'comunista': 2254, 'chicano': 1892, 'pétain': 8653, 'spar': 10039, 'asylum': 736, 'truman': 11086, 'franco': 4235, 'quisling': 8688, 'hump': 5043, 'magically': 6447, 'flirting': 4113, 'lagrangian': 6011, 'formalism': 4186, 'newtonian': 7332, 'enhancement': 3573, 'fidelity': 4026, 'dailymotion': 2670, 'aur': 799, 'apparels': 545, 'aditya': 146, 'hiraba': 4896, 'constrain': 2342, 'ho': 4913, 'ingested': 5371, 'alimentary': 331, 'ccanal': 1754, 'historian': 4899, 'buff': 1498, 'tora': 10923, 'antisocial': 519, 'upbeat': 11329, 'airliner': 268, 'stetson': 10223, 'discard': 3053, 'tease': 10656, 'doug': 3201, 'aspirin': 698, 'higher': 4873, 'jewellery': 5706, 'congestion': 2297, 'colchester': 2117, 'pancras': 7827, 'bhang': 1128, 'julie': 5779, 'ariola': 621, 'sarth': 9392, 'theatrical': 10762, 'neglect': 7275, 'bourgas': 1355, 'burgas': 1524, 'bulgaria': 1507, 'efl': 3408, 'boating': 1285, 'cowan': 2495, 'recursive': 8884, 'koch': 5943, 'rite': 9191, 'disband': 3051, 'inautix': 5256, 'january': 5668, 'poseidon': 8297, 'classifier': 2002, 'pocky': 8215, 'pepero': 7994, 'inapropriately': 5255, 'intership': 5498, 'rubberneck': 9285, 'dmrc': 3141, 'robbins': 9207, 'pandora': 7832, 'disperse': 3090, 'engrave': 3571, 'cohousing': 2110, 'elsewhere': 3484, 'unrefined': 11308, 'bottleneck': 1348, 'mext': 6817, 'nanomachine': 7196, 'boundries': 1354, 'cam': 1604, 'ranh': 8770, 'seaside': 9506, 'seaweedfs': 9512, 'olive': 7592, 'bootcamps': 1326, 'bridge': 1429, 'hangout': 4739, 'environmentalists': 3611, 'maoist': 6559, 'predict': 8366, 'deana': 2730, 'sentient': 9579, 'ntse': 7482, 'worshiper': 11903, 'rubber': 9284, 'perella': 8003, 'weinberg': 11742, 'namely': 7191, 'marxist': 6605, 'stupidity': 10326, 'recur': 8883, 'bayeux': 1000, 'tapestry': 10612, 'doomsday': 3186, 'decorating': 2759, 'req': 9053, 'vineger': 11555, 'amylase': 429, 'fascination': 3935, 'refinery': 8916, 'statewise': 10184, 'schrodinger': 9456, 'appraisal': 569, 'strangely': 10270, 'stationary': 10187, 'gymers': 4684, 'netbooks': 7298, 'denounce': 2840, 'documentary': 3153, 'tertiary': 10728, 'charisma': 1840, 'synology': 10553, 'toothache': 10912, 'earache': 3328, 'cisgender': 1975, 'heterosexual': 4862, 'cis': 1974, 'asexual': 675, 'bruise': 1470, 'lodha': 6306, 'codename': 2098, 'megastar': 6727, 'compression': 2244, 'demerol': 2822, 'jordan': 5755, 'aroised': 641, 'renovation': 9014, 'deedee': 2767, 'oh': 7579, 'pride': 8432, 'rant': 8774, 'eddie': 3380, 'murphy': 7133, 'owen': 7759, 'wilson': 11827, 'aboard': 24, 'marc': 6564, 'doggy': 3159, 'laughed': 6063, 'shaft': 9644, 'libido': 6192, 'deformity': 2789, 'seclude': 9515, 'mbp': 6665, 'eventhough': 3728, 'obsolete': 7537, 'courtroom': 2489, 'medalist': 6699, 'burla': 1526, 'noahide': 7401, 'lesswrong': 6161, 'vista': 11581, 'outdoor': 7711, 'missionary': 6918, 'deploy': 2858, 'bihari': 1163, 'illinois': 5185, 'commucated': 2191, 'jdm': 5682, 'endearment': 3543, 'nacl': 7176, 'ml': 6936, 'eartha': 3339, 'kitt': 5917, 'elsa': 3482, 'rogers': 9222, 'isew': 5601, 'mutism': 7153, 'anesthesia': 459, 'marchioness': 6566, 'marquis': 6587, 'organising': 7676, 'chairperson': 1809, 'quarry': 8669, 'trout': 11081, 'feild': 3982, 'hint': 4892, 'booking': 1319, 'nad': 7177, 'junction': 5784, 'sleepwalk': 9874, 'murmansk': 7132, 'cheif': 1873, 'muntasir': 7125, 'olympian': 7596, 'sponsorship': 10102, 'disrespectful': 3098, 'stormer': 10257, 'stormfront': 10258, 'fullmetal': 4310, 'alchemist': 302, 'sso': 10140, 'litter': 6274, 'clumsy': 2062, 'veteran': 11512, 'aka': 284, 'shithole': 9688, 'remnant': 8998, 'ultra': 11188, 'mcdonald': 6670, 'packaging': 7785, 'forgiveness': 4181, 'mend': 6757, 'maharastra': 6461, 'definitely': 2787, 'rust': 9312, 'understood': 11237, 'tay': 10640, 'hydroquinine': 5077, 'agnel': 235, 'vashi': 11452, 'chembur': 1876, 'yell': 11975, 'spank': 10038, 'syllogism': 10539, 'inevitable': 5330, 'inspirion': 5420, 'gt': 4647, 'hogan': 4923, 'multipass': 7113, 'welding': 11747, 'nearby': 7258, 'wtc': 11930, 'diuretic': 3120, 'charley': 1844, 'indication': 5301, 'fedex': 3976, 'lightning': 6216, 'seafood': 9500, 'rtc': 9281, 'blasphemy': 1235, 'atonement': 756, 'surrogate': 10476, 'canseres': 1638, 'troughout': 11079, 'permissible': 8027, 'inlet': 5393, 'distillation': 3105, 'whichare': 11782, 'bombing': 1307, 'reptilian': 9046, 'shriek': 9728, 'alison': 333, 'hartson': 4772, 'be': 1015, 'commonly': 2189, 'murakami': 7128, 'similies': 9785, 'braintree': 1380, 'muniratnam': 7122, 'reddy': 8889, 'compose': 2238, 'hcl': 4796, 'founding': 4210, 'antisemitic': 517, 'pak': 7810, 'mahcet': 6464, 'slip': 9884, 'woodworking': 11879, 'doubke': 3198, 'pinion': 8133, 'sharia': 9660, 'urinary': 11357, 'teller': 10693, 'mim': 6868, 'emlyon': 3506, 'audencia': 784, 'bogus': 1297, 'parsvnath': 7881, 'ripoff': 9184, 'sprite': 10115, 'unity': 11277, 'lingayat': 6237, 'brhin': 1422, 'jamie': 5663, 'integrity': 5452, 'honesty': 4961, 'utterly': 11397, 'despise': 2901, 'referendum': 8911, 'censorship': 1776, 'khalistan': 5878, 'narco': 7204, 'ncfm': 7250, 'letus': 6167, 'lpr': 6372, 'kohinoor': 5946, 'gravy': 4608, 'winged': 11837, 'ponmudi': 8270, 'trivandrum': 11062, 'teamwork': 10654, 'sexologist': 9631, 'enthusiast': 3597, 'motorcyclist': 7066, 'poo': 8271, 'wax': 11705, 'crayon': 2522, 'lara': 6043, 'croft': 2560, 'unfunny': 11256, 'painfully': 7803, 'lame': 6019, 'eyerollingly': 3867, 'corny': 2438, 'comedy': 2166, 'raider': 8734, 'chakras': 1812, 'millennials': 6863, 'storj': 10255, 'siacoin': 9744, 'memes': 6748, 'sause': 9408, 'radon': 8727, 'hough': 5006, 'attain': 764, 'maschine': 6610, 'arduino': 613, 'soda': 9961, 'theater': 10760, 'electrolytic': 3454, 'kerry': 5864, 'treason': 11028, 'impressions': 5242, 'waffen': 11640, 'ss': 10134, 'computing': 2252, 'ui': 11181, 'authoritative': 814, 'clingy': 2038, 'remuneration': 9007, 'verified': 11497, 'raphael': 8778, 'coastal': 2083, 'earthers': 3340, 'madeup': 6434, 'gibberish': 4459, 'pentax': 7992, 'roadmap': 9201, 'abundant': 43, 'rapid': 8779, 'fintech': 4066, 'taxpayer': 10639, 'brittany': 1443, 'paimpol': 7800, 'iles': 5180, 'chausey': 1859, 'granville': 4594, 'knit': 5934, 'sultanpur': 10404, 'plasma': 8171, 'spit': 10094, 'bhakt': 1126, 'dare': 2694, 'maximization': 6654, 'deplorable': 2857, 'necklace': 7266, 'arranged': 647, 'astounding': 725, 'tapeworm': 10613, 'bougie': 1351, 'mango': 6530, 'benzoyl': 1098, 'peroxide': 8034, 'needle': 7268, 'fountain': 4212, 'nightly': 7362, 'conservationist': 2318, 'spiderman': 10083, 'incredible': 5283, 'aircon': 263, 'compressor': 2245, 'reddet': 8887, 'arvid': 669, 'moller': 6981, 'granite': 4590, 'rushmore': 9308, 'melt': 6742, 'purifier': 8628, 'complicated': 2232, 'sugarcane': 10386, 'cavity': 1747, 'cinematography': 1962, 'premature': 8384, 'respiration': 9088, 'collectoble': 2130, 'pvc': 8648, 'reactivity': 8813, 'bicep': 1152, 'curl': 2619, 'sparrow': 10042, 'xml': 11951, 'texan': 10737, 'neighbourhood': 7283, 'rotor': 9261, 'folkeskolens': 4147, 'afgangsprøve': 216, 'denmark': 2836, 'sesquipedalophobia': 9611, 'brief': 1430, 'halley': 4711, 'madly': 6436, 'expenditure': 3816, 'physiology': 8108, 'bioenergetics': 1187, 'epual': 3630, 'ounce': 7707, 'verge': 11496, 'archaic': 607, 'jsc': 5767, 'deadpool': 2724, 'bbmp': 1006, 'construct': 2344, 'footpath': 4164, 'akbar': 285, 'confirm': 2291, 'hotness': 5005, 'trans': 10987, 'ae': 192, 'axiom': 858, 'permutation': 8032, 'stripped': 10299, 'tragedy': 10977, 'haine': 4699, 'vet': 11511, 'logan': 6309, 'airy': 278, 'kettle': 5868, 'pricing': 8431, 'flush': 4132, 'brassknuckles': 1396, 'pesticide': 8053, 'blocked': 1260, 'eustachian': 3717, 'unseal': 11313, 'mcgill': 6671, 'lenin': 6146, 'netbsd': 7299, 'beaumont': 1026, 'homepod': 4946, 'irreversible': 5589, 'magix': 6449, 'aducation': 170, 'efficiently': 3405, 'automotive': 829, 'celebratory': 1764, 'stunningly': 10323, 'decived': 2753, 'injuries': 5389, 'wound': 11909, 'portion': 8293, 'roger': 9221, 'myeik': 7160, 'mergui': 6778, 'taninthayi': 10607, 'dawei': 2710, 'tavoy': 10634, 'gnc': 4510, 'gardena': 4363, 'engined': 3565, 'wagon': 11645, 'hungarians': 5051, 'monstrous': 7013, 'onboard': 7603, 'sunk': 10419, 'execution': 3788, 'profiling': 8497, 'manpad': 6544, 'filipinos': 4042, 'ophir': 7628, 'gut': 4676, 'ronald': 9245, 'genomic': 4413, 'imprinting': 5243, 'climber': 2035, 'grigri': 4630, 'petzl': 8058, 'oz': 7772}\n"
     ]
    }
   ],
   "source": [
    "# all words from the Tfidf vectors and their relavant number\n",
    "print(Tfidf_vect.vocabulary_)"
   ]
  },
  {
   "cell_type": "markdown",
   "metadata": {},
   "source": [
    "Data Pre-processing is over !!\n",
    "---\n",
    "\n",
    "# use ML algo"
   ]
  },
  {
   "cell_type": "code",
   "execution_count": 137,
   "metadata": {},
   "outputs": [],
   "source": [
    "# print(Train_X_Tfidf)"
   ]
  },
  {
   "cell_type": "code",
   "execution_count": 138,
   "metadata": {},
   "outputs": [
    {
     "name": "stdout",
     "output_type": "stream",
     "text": [
      "Naive Bayes Accuracy Score ->  93.63\n",
      "[0 0 0 ... 0 0 0]\n"
     ]
    }
   ],
   "source": [
    "\n",
    "\n",
    "# fit the training dataset on the NB classifier\n",
    "Naive = naive_bayes.MultinomialNB()\n",
    "\n",
    "Naive.fit(Train_X_Tfidf,train['target'])\n",
    "\n",
    "# predict the labels on validation dataset\n",
    "predictions_NB = Naive.predict(Test_X_Tfidf)\n",
    "\n",
    "# Use accuracy_score function to get the accuracy\n",
    "print(\"Naive Bayes Accuracy Score -> \",accuracy_score(predictions_NB, train['target'])*100)\n",
    "print(predictions_NB)"
   ]
  },
  {
   "cell_type": "code",
   "execution_count": 139,
   "metadata": {},
   "outputs": [
    {
     "name": "stdout",
     "output_type": "stream",
     "text": [
      "SVM Accuracy Score ->  92.58\n",
      "[0 0 0 ... 0 0 0]\n"
     ]
    },
    {
     "data": {
      "text/plain": [
       "0"
      ]
     },
     "execution_count": 139,
     "metadata": {},
     "output_type": "execute_result"
    }
   ],
   "source": [
    "# Classifier - Algorithm - SVM\n",
    "# fit the training dataset on the classifier\n",
    "SVM = svm.SVC(C=1.0, kernel='linear', degree=3, gamma='auto')\n",
    "\n",
    "SVM.fit(Train_X_Tfidf,train['target'])\n",
    "\n",
    "# predict the labels on validation dataset\n",
    "predictions_SVM = SVM.predict(Test_X_Tfidf)\n",
    "\n",
    "# Use accuracy_score function to get the accuracy\n",
    "print(\"SVM Accuracy Score -> \",accuracy_score(predictions_SVM, train['target'])*100)\n",
    "print(predictions_SVM)\n",
    "predictions_SVM[0]\n",
    "\n"
   ]
  },
  {
   "cell_type": "code",
   "execution_count": 140,
   "metadata": {},
   "outputs": [
    {
     "name": "stdout",
     "output_type": "stream",
     "text": [
      "SVM prediction \n",
      "0    9877\n",
      "1     123\n",
      "Name: 0, dtype: int64\n",
      "\n",
      "NB prediction \n",
      "0    10000\n",
      "Name: 0, dtype: int64\n"
     ]
    }
   ],
   "source": [
    "predSVM=pd.DataFrame(predictions_SVM)\n",
    "print('SVM prediction ')\n",
    "print(predSVM[0].value_counts())\n",
    "predNB=pd.DataFrame(predictions_NB)\n",
    "print()\n",
    "print('NB prediction ')\n",
    "print(predNB[0].value_counts())\n"
   ]
  }
 ],
 "metadata": {
  "kernelspec": {
   "display_name": "Python 3",
   "language": "python",
   "name": "python3"
  },
  "language_info": {
   "codemirror_mode": {
    "name": "ipython",
    "version": 3
   },
   "file_extension": ".py",
   "mimetype": "text/x-python",
   "name": "python",
   "nbconvert_exporter": "python",
   "pygments_lexer": "ipython3",
   "version": "3.6.8"
  }
 },
 "nbformat": 4,
 "nbformat_minor": 2
}
